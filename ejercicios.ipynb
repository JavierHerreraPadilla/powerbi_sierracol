{
  "nbformat": 4,
  "nbformat_minor": 0,
  "metadata": {
    "colab": {
      "provenance": [],
      "authorship_tag": "ABX9TyPUY9hLJfUco8zawV2hjMZ0",
      "include_colab_link": true
    },
    "kernelspec": {
      "name": "python3",
      "display_name": "Python 3"
    },
    "language_info": {
      "name": "python"
    }
  },
  "cells": [
    {
      "cell_type": "markdown",
      "metadata": {
        "id": "view-in-github",
        "colab_type": "text"
      },
      "source": [
        "<a href=\"https://colab.research.google.com/github/JavierHerreraPadilla/powerbi_sierracol/blob/main/ejercicios.ipynb\" target=\"_parent\"><img src=\"https://colab.research.google.com/assets/colab-badge.svg\" alt=\"Open In Colab\"/></a>"
      ]
    },
    {
      "cell_type": "markdown",
      "source": [
        "Ejercicio 1: Búsqueda por columna\n",
        "\n",
        "Dado el siguiente DataFrame 'df' con datos de empleados:\n",
        "\n",
        "Realiza las siguientes búsquedas:\n",
        "\n",
        "a) Encuentra los empleados que trabajan en el departamento de \"Ventas\".\n",
        "\n",
        "b) Encuentra la edad del empleado \"Juan\"."
      ],
      "metadata": {
        "id": "DCQEmNPqHaLC"
      }
    },
    {
      "cell_type": "code",
      "execution_count": null,
      "metadata": {
        "id": "-g5zbiPuHP7C"
      },
      "outputs": [],
      "source": [
        "data = {\n",
        "    'Nombre': ['Ana', 'Juan', 'María', 'Pedro', 'Luis'],\n",
        "    'Edad': [28, 35, 24, 41, 29],\n",
        "    'Departamento': ['Ventas', 'Finanzas', 'Ventas', 'RRHH', 'Finanzas'],\n",
        "}"
      ]
    },
    {
      "cell_type": "markdown",
      "source": [
        "Dado el mismo DataFrame 'df', realiza las siguientes búsquedas:\n",
        "\n",
        "a) Muestra todas las filas donde la edad del empleado es mayor a 30.\n",
        "\n",
        "b) Muestra todas las filas donde el nombre del empleado empieza con la letra \"M\"."
      ],
      "metadata": {
        "id": "U2CLn7c7HlHp"
      }
    },
    {
      "cell_type": "markdown",
      "source": [
        "Dado el mismo DataFrame 'df', realiza las siguientes selecciones de subconjuntos:\n",
        "\n",
        "a) Selecciona solo la columna 'Nombre'.\n",
        "\n",
        "b) Selecciona las filas donde el departamento sea 'Ventas' y solo las columnas 'Nombre' y 'Edad'."
      ],
      "metadata": {
        "id": "OiKirk8aHmA6"
      }
    },
    {
      "cell_type": "code",
      "source": [],
      "metadata": {
        "id": "57Voz0jeHxu2"
      },
      "execution_count": null,
      "outputs": []
    },
    {
      "cell_type": "markdown",
      "source": [
        "Dado el siguiente DataFrame 'df' con algunos valores faltantes:\n",
        "\n",
        "a) Encuentra todas las filas que contienen al menos un valor nulo.\n",
        "\n",
        "b) Reemplaza los valores nulos en la columna 'B' por 0.\n",
        "\n",
        "c) Elimina todas las filas que contienen valores nulos.\n"
      ],
      "metadata": {
        "id": "8k9NisTZHqgq"
      }
    },
    {
      "cell_type": "code",
      "source": [
        "data = {\n",
        "    'A': [1, 2, None, 4, 5],\n",
        "    'B': [None, 10, 20, None, 50],\n",
        "    'C': [100, 200, 300, 400, None],\n",
        "}"
      ],
      "metadata": {
        "id": "myxDqXv4Hriu"
      },
      "execution_count": null,
      "outputs": []
    },
    {
      "cell_type": "markdown",
      "source": [
        "Dado el siguiente DataFrame 'df' con datos de ventas:\n",
        "\n",
        "a) Agrega una nueva columna llamada 'Estado' donde se indique 'Alto' si las ventas son mayores o iguales a 150, y 'Bajo' en caso contrario."
      ],
      "metadata": {
        "id": "CKto4IxYH6Uq"
      }
    },
    {
      "cell_type": "code",
      "source": [
        "data = {\n",
        "    'Producto': ['A', 'B', 'C', 'D', 'E'],\n",
        "    'Ventas': [100, 150, 80, 200, 50],\n",
        "}"
      ],
      "metadata": {
        "id": "hv1pT8NuH_Ei"
      },
      "execution_count": null,
      "outputs": []
    },
    {
      "cell_type": "markdown",
      "source": [
        "a) Muestra las filas donde las ventas son mayores a 100 y el producto no es 'D'.\n",
        "\n",
        "b) Muestra las filas donde las ventas son menores a 70 o el producto es 'A'."
      ],
      "metadata": {
        "id": "9gSXsum2ID3a"
      }
    },
    {
      "cell_type": "code",
      "source": [],
      "metadata": {
        "id": "-Xb71yAGIDAY"
      },
      "execution_count": null,
      "outputs": []
    },
    {
      "cell_type": "markdown",
      "source": [],
      "metadata": {
        "id": "IEY0O3kIHUoy"
      }
    },
    {
      "cell_type": "markdown",
      "source": [
        "Dado el siguiente DataFrame 'df' con datos de empleados:\n",
        "\n",
        "a) Crea una nueva columna llamada 'Nivel' que indique 'Alto' si el salario es mayor o igual a 50000, 'Medio' si está entre 30000 y 49999, y 'Bajo' si es menor a 30000.\n",
        "\n",
        "b) Reemplaza el nombre 'Luis' por 'Lucas' en el DataFrame.\n"
      ],
      "metadata": {
        "id": "cC21PPl6IIyE"
      }
    },
    {
      "cell_type": "code",
      "source": [
        "data = {\n",
        "    'Nombre': ['Ana', 'Juan', 'María', 'Pedro', 'Luis'],\n",
        "    'Edad': [28, 35, 24, 41, 29],\n",
        "    'Salario': [40000, 55000, 32000, 60000, 45000],\n",
        "}\n"
      ],
      "metadata": {
        "id": "7gcs22dgIN9r"
      },
      "execution_count": null,
      "outputs": []
    },
    {
      "cell_type": "markdown",
      "source": [
        "Dado el siguiente DataFrame 'df' con datos de estudiantes:\n",
        "\n",
        "a) Crea una nueva columna llamada 'Estado' donde se indique 'Aprobado' si el promedio es mayor o igual a 7.0, y 'Reprobado' en caso contrario.\n",
        "\n",
        "b) Calcula el promedio general de todos los estudiantes aprobados y el promedio general de todos los estudiantes reprobados.\n",
        "\n"
      ],
      "metadata": {
        "id": "9zkNEvhGIaXb"
      }
    },
    {
      "cell_type": "markdown",
      "source": [],
      "metadata": {
        "id": "at4ggUy0Nqxs"
      }
    },
    {
      "cell_type": "code",
      "source": [
        "data = {\n",
        "    'Estudiante': ['Ana', 'Juan', 'María', 'Pedro', 'Luis'],\n",
        "    'Promedio': [8.5, 7.8, 9.2, 6.5, 8.0],\n",
        "}"
      ],
      "metadata": {
        "id": "dtOvBmcMIciQ"
      },
      "execution_count": null,
      "outputs": []
    },
    {
      "cell_type": "markdown",
      "source": [
        "### GROUP BY\n",
        "Calcular el promedio de ventas para cada producto en cada región:\n",
        "Encontrar el producto con mayores ventas totales y su región correspondiente:\n",
        "Calcular la mediana de ventas para cada mes:\n",
        "Obtener los tres productos con menores ventas en cada región:\n",
        "Calcular el porcentaje de crecimiento de ventas respecto al mes anterior para cada producto y región\n"
      ],
      "metadata": {
        "id": "oZxMd-79Nt2F"
      }
    },
    {
      "cell_type": "code",
      "source": [
        "data = {\n",
        "    'Producto': ['A', 'B', 'A', 'B', 'A', 'B', 'A', 'B'],\n",
        "    'Region': ['Norte', 'Sur', 'Este', 'Oeste', 'Norte', 'Sur', 'Este', 'Oeste'],\n",
        "    'Ventas': [100, 150, 200, 50, 300, 100, 120, 80]\n",
        "}"
      ],
      "metadata": {
        "id": "abm9mx_NNxJR"
      },
      "execution_count": 17,
      "outputs": []
    }
  ]
}