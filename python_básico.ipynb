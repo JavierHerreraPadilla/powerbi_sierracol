{
  "nbformat": 4,
  "nbformat_minor": 0,
  "metadata": {
    "colab": {
      "provenance": [],
      "authorship_tag": "ABX9TyOkhAnYMc7EUmuCCQ/lZ0BV",
      "include_colab_link": true
    },
    "kernelspec": {
      "name": "python3",
      "display_name": "Python 3"
    },
    "language_info": {
      "name": "python"
    }
  },
  "cells": [
    {
      "cell_type": "markdown",
      "metadata": {
        "id": "view-in-github",
        "colab_type": "text"
      },
      "source": [
        "<a href=\"https://colab.research.google.com/github/JavierHerreraPadilla/powerbi_sierracol/blob/main/python_b%C3%A1sico.ipynb\" target=\"_parent\"><img src=\"https://colab.research.google.com/assets/colab-badge.svg\" alt=\"Open In Colab\"/></a>"
      ]
    },
    {
      "cell_type": "markdown",
      "source": [
        "##Variables\n",
        "En términos muy simples, una variable es un “valor” que se asigna a un nombre. Por ejemplo, si yo quiero “guardar” el número 5 en una variable, puedo hacerlo así:"
      ],
      "metadata": {
        "id": "r2EEPxxmSIpe"
      }
    },
    {
      "cell_type": "code",
      "execution_count": null,
      "metadata": {
        "id": "fhAwM58eKZko"
      },
      "outputs": [],
      "source": [
        "numero = 5"
      ]
    },
    {
      "cell_type": "markdown",
      "source": [
        "####La utilidad de una variable está marcada en que es posible utilizarla posteriormente en el código para realizar operaciones. Por ejemplo, si quiero sumarle 2 a la variable numero, puedo hacerlo así:\n",
        "\n"
      ],
      "metadata": {
        "id": "UBIn14yySRIP"
      }
    },
    {
      "cell_type": "code",
      "source": [
        "numero = numero + 2"
      ],
      "metadata": {
        "id": "76j7xzrASTMN"
      },
      "execution_count": null,
      "outputs": []
    },
    {
      "cell_type": "code",
      "source": [
        "# De la misma manera lo podemos hacer con cadenas de texto:\n",
        "\n",
        "nombre = \"Juan\"\n",
        "apellido = \"Pérez\""
      ],
      "metadata": {
        "id": "t_vSBcN_SXeJ"
      },
      "execution_count": null,
      "outputs": []
    },
    {
      "cell_type": "code",
      "source": [
        "# Ahora, si quiero concatenar (unir) las variables nombre y apellido, puedo hacerlo así:\n",
        "\n",
        "nombre_completo = nombre + \" \" + apellido\n"
      ],
      "metadata": {
        "id": "hpBT9jtoSdb_"
      },
      "execution_count": null,
      "outputs": []
    },
    {
      "cell_type": "markdown",
      "source": [
        "##¿cómo nombro una variable?\n",
        "En general, es recomendable que los nombres de las variables sean descriptivos, es decir, que permitan entender a qué se refiere la variable. Por ejemplo, si quiero guardar el nombre de una persona, es mejor que el nombre de la variable sea nombre que n. Esto es especialmente importante cuando el código es compartido con otras personas, porque permite que el código sea más legible.\n",
        "\n",
        "En Python, los nombres de las variables pueden contener letras, números y el símbolo _. Sin embargo, no pueden comenzar con un número. Por ejemplo, los siguientes nombres de variables son válidos:"
      ],
      "metadata": {
        "id": "9hf3H5nPSi_s"
      }
    },
    {
      "cell_type": "code",
      "source": [
        "nombre = \"nombre\"\n",
        "nombre1 = \"nombre\"\n",
        "nombre_1 = \"nombre\""
      ],
      "metadata": {
        "id": "uyeRvwWnSnqt"
      },
      "execution_count": null,
      "outputs": []
    },
    {
      "cell_type": "code",
      "source": [
        "#Los siguientes nombres de variables no son válidos:\n",
        "\n",
        "1nombre = \"nombre\"\n",
        "nombre-1 = \"nombre\""
      ],
      "metadata": {
        "id": "6hteld8SSsde"
      },
      "execution_count": null,
      "outputs": []
    },
    {
      "cell_type": "markdown",
      "source": [
        "#Tipos de datos\n",
        "Python tiene una gran ventaja con respecto a otros lenguajes de programación y es que no es necesario declarar el tipo de dato que se va a utilizar. Es decir, que el mismo lenguaje puede identificar si me estoy refiriendo a un número, a una cadena de texto, a una lista, etc. Esto es muy útil porque nos permite ahorrar tiempo y esfuerzo en la programación.\n",
        "\n",
        "Veámos entonces qué tipos de datos básicos existen en Python.\n",
        "\n"
      ],
      "metadata": {
        "id": "EP86NuS1Szvo"
      }
    },
    {
      "cell_type": "markdown",
      "source": [
        "##Números\n",
        "Los números pueden ser enteros o decimales. Por ejemplo, los siguientes son números enteros (integers):"
      ],
      "metadata": {
        "id": "uCx33PdpS4V6"
      }
    },
    {
      "cell_type": "code",
      "source": [
        "uno = 1\n",
        "dos = 2\n",
        "tres = 3"
      ],
      "metadata": {
        "id": "rOqUpt2TSyOv"
      },
      "execution_count": null,
      "outputs": []
    },
    {
      "cell_type": "code",
      "source": [
        "uno_cero = 1.0\n",
        "dos_cero = 2.0\n",
        "tres_cero = 3.0"
      ],
      "metadata": {
        "id": "5Hxp61iHTAT9"
      },
      "execution_count": null,
      "outputs": []
    },
    {
      "cell_type": "markdown",
      "source": [
        "Con estos tipos de datos podemos realizar operaciones aritméticas básicas:\n",
        "\n"
      ],
      "metadata": {
        "id": "M3gKiX4iTERV"
      }
    },
    {
      "cell_type": "code",
      "source": [
        "suma = uno + dos\n",
        "resta = tres_cero - uno_cero\n",
        "multiplicacion = dos * tres_cero\n",
        "division = tres / dos\n",
        "modulo = 5 % 2 # residuo\n",
        "div_piso = 5 // 2 # cociente\n",
        "\n",
        "print(suma)\n",
        "print(resta)\n",
        "print(multiplicacion)\n",
        "print(division)\n",
        "print(modulo)\n",
        "print(div_piso)"
      ],
      "metadata": {
        "colab": {
          "base_uri": "https://localhost:8080/"
        },
        "id": "vLT1n76KTChs",
        "outputId": "b60314d4-cdec-430b-e910-f98f03cea95f"
      },
      "execution_count": null,
      "outputs": [
        {
          "output_type": "stream",
          "name": "stdout",
          "text": [
            "3\n",
            "2.0\n",
            "6.0\n",
            "1.5\n",
            "1\n",
            "2\n"
          ]
        }
      ]
    },
    {
      "cell_type": "markdown",
      "source": [
        "##Cadenas de texto\n",
        "Las cadenas de texto (strings) son una secuencia de caracteres. Por ejemplo, las siguientes son cadenas de texto:\n",
        "\n"
      ],
      "metadata": {
        "id": "vRN0IxPQTL8H"
      }
    },
    {
      "cell_type": "code",
      "source": [
        "nombre = \"Javier\"\n",
        "apellido = \"Herrera\""
      ],
      "metadata": {
        "id": "-zgR6jOvTR7F"
      },
      "execution_count": null,
      "outputs": []
    },
    {
      "cell_type": "code",
      "source": [
        "#Las cadenas de texto se pueden concatenar con el operador +:\n",
        "nombre_completo = nombre + \" \" + apellido\n",
        "print(nombre_completo)"
      ],
      "metadata": {
        "colab": {
          "base_uri": "https://localhost:8080/"
        },
        "id": "a1Ak4UYqTS2z",
        "outputId": "abd668b1-e676-46ed-eee2-28f70f66b5a6"
      },
      "execution_count": null,
      "outputs": [
        {
          "output_type": "stream",
          "name": "stdout",
          "text": [
            "Javier Herrera\n"
          ]
        }
      ]
    },
    {
      "cell_type": "code",
      "source": [
        "#También se pueden multiplicar por un número entero:\n",
        "nombre_completo = nombre_completo * 3\n",
        "print(nombre_completo)\n"
      ],
      "metadata": {
        "colab": {
          "base_uri": "https://localhost:8080/"
        },
        "id": "e7uNZB_DTfvU",
        "outputId": "84c41a3f-5f8d-478e-f7b9-26e304e2de20"
      },
      "execution_count": null,
      "outputs": [
        {
          "output_type": "stream",
          "name": "stdout",
          "text": [
            "Javier HerreraJavier HerreraJavier Herrera\n"
          ]
        }
      ]
    },
    {
      "cell_type": "markdown",
      "source": [
        "**Debemos entender que las cadenas de texto son una secuencia de caracteres. Es decir, la computadora entiende una palabra como “perro” como la secuencia de los caracteres “p”, “e”, “r”, “r”, “o”. Y es una secuencia totalmente diferente a “P”, “e”, “r”, “r”, “o”. Es decir, para la computadora “perro” es diferente a “Perro”. Así, cuando tratamos de un tipo de valor de “texto” no nos referimos al texto en el sentido humano (letras, palabras, frases…), sino al texto en el sentido de la computadora.**\n",
        "\n"
      ],
      "metadata": {
        "id": "jf-Nh0h1TmwW"
      }
    },
    {
      "cell_type": "code",
      "source": [],
      "metadata": {
        "id": "4LWMwhrlTpl-"
      },
      "execution_count": null,
      "outputs": []
    },
    {
      "cell_type": "markdown",
      "source": [
        "###Formateo de cadenas de texto\n",
        "En ocasiones, queremos mostrar un mensaje que contenga información de una variable. Por ejemplo, si queremos mostrar el nombre completo de una persona, podemos hacerlo de la siguiente manera:"
      ],
      "metadata": {
        "id": "QrKN8F4wTu0L"
      }
    },
    {
      "cell_type": "code",
      "source": [
        "nombre = \"Manila\"\n",
        "apellido = \"Luzon\"\n",
        "nombre_completo = nombre + \" \" + apellido\n",
        "print(\"El nombre completo es \" + nombre_completo)"
      ],
      "metadata": {
        "colab": {
          "base_uri": "https://localhost:8080/"
        },
        "id": "I9gQeoZ7TzGI",
        "outputId": "9587f9ce-1f65-45ab-984c-24a90ddfbf7a"
      },
      "execution_count": null,
      "outputs": [
        {
          "output_type": "stream",
          "name": "stdout",
          "text": [
            "El nombre completo es Manila Luzon\n"
          ]
        }
      ]
    },
    {
      "cell_type": "code",
      "source": [
        "#si queremos mostrar el nombre completo de una persona, podemos hacerlo de la siguiente manera:\n",
        "print(f\"El nombre completo es {nombre_completo}\")\n",
        "\n"
      ],
      "metadata": {
        "colab": {
          "base_uri": "https://localhost:8080/"
        },
        "id": "bpUiepQST12N",
        "outputId": "3fc6a013-356b-4bba-97a9-58ec93706a64"
      },
      "execution_count": null,
      "outputs": [
        {
          "output_type": "stream",
          "name": "stdout",
          "text": [
            "El nombre completo es Manila Luzon\n"
          ]
        }
      ]
    },
    {
      "cell_type": "markdown",
      "source": [
        "El formateo de cadenas de texto es muy útil cuando queremos modificar textos o incluso asignar valores no textuales a una variable textual. Por ejemplo:"
      ],
      "metadata": {
        "id": "WpoLTV6hT_9b"
      }
    },
    {
      "cell_type": "code",
      "source": [
        "edad = 20\n",
        "print(f\"El nombre completo es {nombre_completo} y tiene {edad} años\")"
      ],
      "metadata": {
        "colab": {
          "base_uri": "https://localhost:8080/"
        },
        "id": "lGzM_HoIT9Uo",
        "outputId": "44f1c793-5ab5-44a0-a0ea-9645adca8712"
      },
      "execution_count": null,
      "outputs": [
        {
          "output_type": "stream",
          "name": "stdout",
          "text": [
            "El nombre completo es Manila Luzon y tiene 20 años\n"
          ]
        }
      ]
    },
    {
      "cell_type": "markdown",
      "source": [
        "###Booleanos\n",
        "Los valores booleanos (booleans) son valores que pueden ser True o False. Por ejemplo:\n",
        "\n"
      ],
      "metadata": {
        "id": "K5lvJ6RqUDHq"
      }
    },
    {
      "cell_type": "code",
      "source": [
        "verdadero = True\n",
        "falso = False"
      ],
      "metadata": {
        "id": "gmgKGu5dUGhC"
      },
      "execution_count": null,
      "outputs": []
    },
    {
      "cell_type": "markdown",
      "source": [
        "Los valores booleanos son muy útiles para realizar operaciones lógicas. Por ejemplo, podemos comparar dos valores y obtener un valor booleano:\n",
        "\n"
      ],
      "metadata": {
        "id": "sbKNqFvAUJ-Z"
      }
    },
    {
      "cell_type": "code",
      "source": [
        "print(uno == dos)\n",
        "print(uno != dos)"
      ],
      "metadata": {
        "colab": {
          "base_uri": "https://localhost:8080/"
        },
        "id": "cwolgvRfULwO",
        "outputId": "0f81dd26-05b4-4bd0-e4e1-53b43257f061"
      },
      "execution_count": null,
      "outputs": [
        {
          "output_type": "stream",
          "name": "stdout",
          "text": [
            "False\n",
            "True\n"
          ]
        }
      ]
    },
    {
      "cell_type": "markdown",
      "source": [
        "Los símbolos == y != son operadores lógicos, es decir, nos permite comparar si un valor es igual o diferente de otro valor. En este caso, el resultado de la comparación es un valor booleano.\n",
        "\n",
        "los valores de igualdad no se refieren solamente a números, sino que también se pueden utilizar para comparar cadenas de texto. Por ejemplo:\n",
        "\n"
      ],
      "metadata": {
        "id": "P6Zc-xqgURtD"
      }
    },
    {
      "cell_type": "code",
      "source": [
        "print(\"perro\" == \"Perro\")\n",
        "print(\"perro\" != \"Perro\")"
      ],
      "metadata": {
        "colab": {
          "base_uri": "https://localhost:8080/"
        },
        "id": "4ZwAI0LxUS1f",
        "outputId": "47f3746b-7e11-45fe-ad52-6fb13b2307d0"
      },
      "execution_count": null,
      "outputs": [
        {
          "output_type": "stream",
          "name": "stdout",
          "text": [
            "False\n",
            "True\n"
          ]
        }
      ]
    },
    {
      "cell_type": "code",
      "source": [
        "print(uno > dos)\n",
        "print(uno < dos)"
      ],
      "metadata": {
        "colab": {
          "base_uri": "https://localhost:8080/"
        },
        "id": "GI2lsa6AUYvx",
        "outputId": "a1f4ffa5-3216-4779-c13f-193e48721084"
      },
      "execution_count": null,
      "outputs": [
        {
          "output_type": "stream",
          "name": "stdout",
          "text": [
            "False\n",
            "True\n"
          ]
        }
      ]
    },
    {
      "cell_type": "markdown",
      "source": [
        "Los valores booleanos también nos permiten realizar operaciones lógicas. Por ejemplo, podemos utilizar los operadores and y or para determinar si dos valores booleanos son verdaderos o falsos. Por ejemplo:\n",
        "\n"
      ],
      "metadata": {
        "id": "DlPCxApuUcrU"
      }
    },
    {
      "cell_type": "code",
      "source": [
        "print(uno == dos and uno < dos)\n",
        "print(uno == dos or uno < dos)"
      ],
      "metadata": {
        "colab": {
          "base_uri": "https://localhost:8080/"
        },
        "id": "n60B_EcvUeOI",
        "outputId": "3185d504-aff5-412b-c1cb-e56c2fa8ca20"
      },
      "execution_count": null,
      "outputs": [
        {
          "output_type": "stream",
          "name": "stdout",
          "text": [
            "False\n",
            "True\n"
          ]
        }
      ]
    },
    {
      "cell_type": "markdown",
      "source": [
        "Y, finalmente, nos permite comparar tipos de datos. Por ejemplo:"
      ],
      "metadata": {
        "id": "sswfMw8lUiqo"
      }
    },
    {
      "cell_type": "code",
      "source": [
        "print(type(uno) == int)\n",
        "print(type(uno) == str)"
      ],
      "metadata": {
        "colab": {
          "base_uri": "https://localhost:8080/"
        },
        "id": "ayTZjHmeUjSg",
        "outputId": "ac8c1fc6-da07-4ea0-8eee-4d3e9bb1abfb"
      },
      "execution_count": null,
      "outputs": [
        {
          "output_type": "stream",
          "name": "stdout",
          "text": [
            "True\n",
            "False\n"
          ]
        }
      ]
    },
    {
      "cell_type": "markdown",
      "source": [
        "#Síntesis\n",
        "En este capítulo hemos aprendido sobre los tipos de datos más comunes en Python. En particular, hemos aprendido sobre los tipos de datos numéricos, los tipos de datos de texto y los tipos de datos booleanos. Además, hemos aprendido sobre el formateo de cadenas de texto y sobre las operaciones lógicas. En el siguiente apartado, abordaremos las listas, un tipo de dato muy importante en Python."
      ],
      "metadata": {
        "id": "rm7BSa0NUoDb"
      }
    },
    {
      "cell_type": "code",
      "source": [],
      "metadata": {
        "id": "6ff-eCzHU7kh"
      },
      "execution_count": null,
      "outputs": []
    },
    {
      "cell_type": "markdown",
      "source": [
        "###Listas\n",
        "Ya vimos valores asignados individualmente a una variable. Esto realmente no es muy útil. Lo que nos interesa es poder guardar varios valores en una sola variable. Para esto, utilizamos las listas.\n",
        "\n",
        "Las listas se definen como una colección de elementos en un orden en particular. En Python, las listas son conjuntos de muchos tipos de datos, incluyendo números, cadenas de texto, booleanos, etc.\n",
        "\n",
        "Las listas se definen con corchetes [] y los elementos se separan con comas ,. Por ejemplo, una lista con los protagonistas de la serie de televisión “Friends” se puede definir como:\n",
        "\n"
      ],
      "metadata": {
        "id": "Bzyn1aYRU8G9"
      }
    },
    {
      "cell_type": "code",
      "source": [
        "protagonistas = [\"Rachel\", \"Monica\", \"Phoebe\", \"Joey\", \"Chandler\", \"Ross\"]\n",
        "protagonistas"
      ],
      "metadata": {
        "colab": {
          "base_uri": "https://localhost:8080/"
        },
        "id": "ZjBOmdGgVBWQ",
        "outputId": "e6ed2a60-db92-427e-aa6b-3c6a38223601"
      },
      "execution_count": null,
      "outputs": [
        {
          "output_type": "execute_result",
          "data": {
            "text/plain": [
              "['Rachel', 'Monica', 'Phoebe', 'Joey', 'Chandler', 'Ross']"
            ]
          },
          "metadata": {},
          "execution_count": 23
        }
      ]
    },
    {
      "cell_type": "markdown",
      "source": [
        "#Accediendo a los elementos de una lista\n",
        "Para acceder a los elementos de una lista, utilizamos el índice del elemento. Los índices de las listas comienzan en 0, por lo que el primer elemento de la lista es el elemento con índice 0. Por ejemplo, para acceder al primer elemento de la lista protagonistas, utilizamos el índice 0:"
      ],
      "metadata": {
        "id": "EZl6XH6bVFCM"
      }
    },
    {
      "cell_type": "code",
      "source": [
        "protagonistas[0]\n"
      ],
      "metadata": {
        "id": "c7GjJqFRVDqm"
      },
      "execution_count": null,
      "outputs": []
    },
    {
      "cell_type": "code",
      "source": [
        "protagonistas[3]"
      ],
      "metadata": {
        "id": "FElwzcc1VJ-G"
      },
      "execution_count": null,
      "outputs": []
    },
    {
      "cell_type": "code",
      "source": [
        "\"Chandler\" in protagonistas\n"
      ],
      "metadata": {
        "colab": {
          "base_uri": "https://localhost:8080/"
        },
        "id": "yMrV4ArHVMmh",
        "outputId": "fe4e33ff-316a-4810-b065-91cce936ccf4"
      },
      "execution_count": null,
      "outputs": [
        {
          "output_type": "execute_result",
          "data": {
            "text/plain": [
              "True"
            ]
          },
          "metadata": {},
          "execution_count": 24
        }
      ]
    },
    {
      "cell_type": "code",
      "source": [
        "print(f\"{protagonistas[0]} es una de las protagonista de la serie Friends\")"
      ],
      "metadata": {
        "colab": {
          "base_uri": "https://localhost:8080/"
        },
        "id": "rAllL-BKVQ6_",
        "outputId": "50502e4d-931f-4998-b841-0f187823682b"
      },
      "execution_count": null,
      "outputs": [
        {
          "output_type": "stream",
          "name": "stdout",
          "text": [
            "Rachel es una de las protagonista de la serie Friends\n"
          ]
        }
      ]
    },
    {
      "cell_type": "markdown",
      "source": [
        "#Modificando los elementos de una lista\n",
        "Podemos modificar los elementos de una lista. Por ejemplo, podemos cambiar el nombre de la primera protagonista de la serie:\n"
      ],
      "metadata": {
        "id": "owBDr6xZVUKg"
      }
    },
    {
      "cell_type": "code",
      "source": [
        "protagonistas[0] = \"Rachel Green\"\n",
        "protagonistas"
      ],
      "metadata": {
        "colab": {
          "base_uri": "https://localhost:8080/"
        },
        "id": "bXnIKdlOVXe9",
        "outputId": "613ce26d-3f30-427b-ca46-e7036bec2aa3"
      },
      "execution_count": null,
      "outputs": [
        {
          "output_type": "execute_result",
          "data": {
            "text/plain": [
              "['Rachel Green', 'Monica', 'Phoebe', 'Joey', 'Chandler', 'Ross']"
            ]
          },
          "metadata": {},
          "execution_count": 26
        }
      ]
    },
    {
      "cell_type": "markdown",
      "source": [
        "Es decir, de manera básica, si conocemos la posición del valor, podemos modificarlo. Posteriormente veremos cómo utilizar condicionales para modificar los valores de una manera más dinámica.\n",
        "\n"
      ],
      "metadata": {
        "id": "tG7iLRxkVdiJ"
      }
    },
    {
      "cell_type": "code",
      "source": [],
      "metadata": {
        "id": "oHWr2KzjVZ1Q"
      },
      "execution_count": null,
      "outputs": []
    },
    {
      "cell_type": "markdown",
      "source": [
        "###Agregando elementos a una lista\n",
        "Podemos agregar elementos a una lista, para ello utilizamos el método append(). Por ejemplo, podemos agregar a la lista a un nuevo personaje de la serie:\n"
      ],
      "metadata": {
        "id": "m_BPlcYUVfer"
      }
    },
    {
      "cell_type": "code",
      "source": [
        "protagonistas.append(\"Gunther\")\n",
        "protagonistas"
      ],
      "metadata": {
        "colab": {
          "base_uri": "https://localhost:8080/"
        },
        "id": "I7-hvkAzVj_Q",
        "outputId": "70ddc405-3545-4885-be1d-d066b436af62"
      },
      "execution_count": null,
      "outputs": [
        {
          "output_type": "execute_result",
          "data": {
            "text/plain": [
              "['Rachel Green', 'Monica', 'Phoebe', 'Joey', 'Chandler', 'Ross', 'Gunther']"
            ]
          },
          "metadata": {},
          "execution_count": 27
        }
      ]
    },
    {
      "cell_type": "markdown",
      "source": [
        "En el caso de append() el elemento se asignará siempre al final de la lista. Si queremos agregar un elemento en una posición específica, utilizamos el método insert(). Por ejemplo, podemos agregar a la lista a un nuevo personaje de la serie al lado de \"Chandler\":\n",
        "\n"
      ],
      "metadata": {
        "id": "UU5WoqTgVoTx"
      }
    },
    {
      "cell_type": "code",
      "source": [
        "protagonistas.insert(5, \"Janice\")\n",
        "protagonistas"
      ],
      "metadata": {
        "colab": {
          "base_uri": "https://localhost:8080/"
        },
        "id": "ZQuAssObVpCB",
        "outputId": "4071dc2e-a3f6-4e4b-b18b-a384cc2ce680"
      },
      "execution_count": null,
      "outputs": [
        {
          "output_type": "execute_result",
          "data": {
            "text/plain": [
              "['Rachel Green',\n",
              " 'Monica',\n",
              " 'Phoebe',\n",
              " 'Joey',\n",
              " 'Chandler',\n",
              " 'Janice',\n",
              " 'Ross',\n",
              " 'Gunther']"
            ]
          },
          "metadata": {},
          "execution_count": 28
        }
      ]
    },
    {
      "cell_type": "markdown",
      "source": [
        "###Eliminando elementos de una lista\n",
        "Podemos eliminar elementos de una lista, para ello utilizamos el método remove(). Por ejemplo, podemos eliminar a \"Gunther\" de la lista:\n",
        "\n",
        "\n"
      ],
      "metadata": {
        "id": "NHMtMKFqVtPU"
      }
    },
    {
      "cell_type": "code",
      "source": [
        "protagonistas.remove(\"Gunther\")\n",
        "protagonistas"
      ],
      "metadata": {
        "colab": {
          "base_uri": "https://localhost:8080/",
          "height": 194
        },
        "id": "mNeV9NlLVsVJ",
        "outputId": "b24f718e-bbbc-41b5-a875-a084977fb1af"
      },
      "execution_count": null,
      "outputs": [
        {
          "output_type": "error",
          "ename": "ValueError",
          "evalue": "ignored",
          "traceback": [
            "\u001b[0;31m---------------------------------------------------------------------------\u001b[0m",
            "\u001b[0;31mValueError\u001b[0m                                Traceback (most recent call last)",
            "\u001b[0;32m<ipython-input-30-2c8beed73a4e>\u001b[0m in \u001b[0;36m<cell line: 1>\u001b[0;34m()\u001b[0m\n\u001b[0;32m----> 1\u001b[0;31m \u001b[0mprotagonistas\u001b[0m\u001b[0;34m.\u001b[0m\u001b[0mremove\u001b[0m\u001b[0;34m(\u001b[0m\u001b[0;34m\"Gunther\"\u001b[0m\u001b[0;34m)\u001b[0m\u001b[0;34m\u001b[0m\u001b[0;34m\u001b[0m\u001b[0m\n\u001b[0m\u001b[1;32m      2\u001b[0m \u001b[0mprotagonistas\u001b[0m\u001b[0;34m\u001b[0m\u001b[0;34m\u001b[0m\u001b[0m\n",
            "\u001b[0;31mValueError\u001b[0m: list.remove(x): x not in list"
          ]
        }
      ]
    },
    {
      "cell_type": "markdown",
      "source": [
        "Si queremos eliminar un elemento en una posición específica, utilizamos el método pop(). Por ejemplo, podemos eliminar a \"Janice\" de la lista:\n",
        "\n"
      ],
      "metadata": {
        "id": "5oP87hiXV0Q6"
      }
    },
    {
      "cell_type": "code",
      "source": [
        "protagonistas.pop(5)\n",
        "protagonistas"
      ],
      "metadata": {
        "colab": {
          "base_uri": "https://localhost:8080/"
        },
        "id": "d0Rz9VpjV1Ul",
        "outputId": "9f752b9f-257e-4974-a0e8-a2deb3afd51a"
      },
      "execution_count": null,
      "outputs": [
        {
          "output_type": "execute_result",
          "data": {
            "text/plain": [
              "['Rachel Green', 'Monica', 'Phoebe', 'Joey', 'Chandler', 'Ross']"
            ]
          },
          "metadata": {},
          "execution_count": 31
        }
      ]
    },
    {
      "cell_type": "markdown",
      "source": [
        "###Ordenando una lista\n",
        "Podemos ordenar una lista, para ello utilizamos el método sort(). Por ejemplo, podemos ordenar la lista de los protagonistas de la serie:\n"
      ],
      "metadata": {
        "id": "xAhYFYXhV6hk"
      }
    },
    {
      "cell_type": "code",
      "source": [
        "protagonistas.sort()\n",
        "protagonistas"
      ],
      "metadata": {
        "colab": {
          "base_uri": "https://localhost:8080/"
        },
        "id": "UnqVkVVPV-5e",
        "outputId": "7b1804fd-d3a1-4581-816b-22c5bb09ca2f"
      },
      "execution_count": null,
      "outputs": [
        {
          "output_type": "execute_result",
          "data": {
            "text/plain": [
              "['Chandler', 'Joey', 'Monica', 'Phoebe', 'Rachel Green', 'Ross']"
            ]
          },
          "metadata": {},
          "execution_count": 33
        }
      ]
    },
    {
      "cell_type": "markdown",
      "source": [
        "también podemos ordenar de manera inversa, para ello utilizamos el método sort(reverse=True). Por ejemplo, podemos ordenar la lista de los protagonistas de la serie de manera inversa:\n",
        "\n"
      ],
      "metadata": {
        "id": "JGduOh0TWJcR"
      }
    },
    {
      "cell_type": "code",
      "source": [
        "protagonistas.sort(reverse=True)\n",
        "protagonistas"
      ],
      "metadata": {
        "colab": {
          "base_uri": "https://localhost:8080/"
        },
        "id": "ml4BCzbCWKQY",
        "outputId": "7da7e25e-93bf-44d8-f4f5-0b51a6d24f14"
      },
      "execution_count": null,
      "outputs": [
        {
          "output_type": "execute_result",
          "data": {
            "text/plain": [
              "['Ross', 'Rachel Green', 'Phoebe', 'Monica', 'Joey', 'Chandler']"
            ]
          },
          "metadata": {},
          "execution_count": 34
        }
      ]
    },
    {
      "cell_type": "markdown",
      "source": [
        "###Longitud de una lista\n",
        "Finalmente, una operación muy recurrida es hallar el número de elementos de una lista. Para ello utilizamos la función len(). Por ejemplo, podemos hallar el número de elementos de la lista de los protagonistas de la serie:"
      ],
      "metadata": {
        "id": "9TfeWtEJWQGS"
      }
    },
    {
      "cell_type": "code",
      "source": [
        "len(protagonistas)"
      ],
      "metadata": {
        "colab": {
          "base_uri": "https://localhost:8080/"
        },
        "id": "PqYyF_xnWMOu",
        "outputId": "45fa10eb-00c8-4f18-fde8-2c1ee2891154"
      },
      "execution_count": null,
      "outputs": [
        {
          "output_type": "execute_result",
          "data": {
            "text/plain": [
              "6"
            ]
          },
          "metadata": {},
          "execution_count": 35
        }
      ]
    },
    {
      "cell_type": "code",
      "source": [
        "print(f'Los protagonistas de Friends son {len(protagonistas)}')"
      ],
      "metadata": {
        "colab": {
          "base_uri": "https://localhost:8080/"
        },
        "id": "s2BCLcIDWVal",
        "outputId": "4941288b-f8b2-48a0-bbed-5d1f6e5ea514"
      },
      "execution_count": null,
      "outputs": [
        {
          "output_type": "stream",
          "name": "stdout",
          "text": [
            "Los protagonistas de Friends son 6\n"
          ]
        }
      ]
    },
    {
      "cell_type": "markdown",
      "source": [
        "#Diccionarios\n",
        "Los diccionarios son estructuras de datos que permiten asociar información a través de claves y valores. De cierta manera, un diccionario puede ir desde algo muy simple hasta prácticamente representar una base de datos. En este capítulo veremos cómo crear diccionarios, cómo acceder a sus elementos y cómo modificarlos.\n",
        "\n"
      ],
      "metadata": {
        "id": "mvUl-7RjWbuB"
      }
    },
    {
      "cell_type": "markdown",
      "source": [
        "###Creando diccionarios\n",
        "Los diccionarios se definen con llaves {} y los elementos se separan con comas ,. Por ejemplo, un diccionario con los protagonistas de la serie de televisión “Friends” se puede definir como:\n",
        "\n",
        "\n",
        "\n",
        "\n"
      ],
      "metadata": {
        "id": "zisR8_MAWelJ"
      }
    },
    {
      "cell_type": "code",
      "source": [],
      "metadata": {
        "id": "77k7Fx5bWaW6"
      },
      "execution_count": null,
      "outputs": []
    },
    {
      "cell_type": "code",
      "source": [
        "protagonistas = {\n",
        "    \"Rachel\": \"Jennifer Aniston\",\n",
        "    \"Monica\": \"Courteney Cox\",\n",
        "    \"Phoebe\": \"Lisa Kudrow\",\n",
        "    \"Joey\": \"Matt LeBlanc\",\n",
        "    \"Chandler\": \"Matthew Perry\",\n",
        "    \"Ross\": \"David Schwimmer\"\n",
        "}\n",
        "\n",
        "protagonistas"
      ],
      "metadata": {
        "colab": {
          "base_uri": "https://localhost:8080/"
        },
        "id": "hegUrnpfWjDq",
        "outputId": "aeb46015-42b4-45b8-817d-717265ad0b9f"
      },
      "execution_count": null,
      "outputs": [
        {
          "output_type": "execute_result",
          "data": {
            "text/plain": [
              "{'Rachel': 'Jennifer Aniston',\n",
              " 'Monica': 'Courteney Cox',\n",
              " 'Phoebe': 'Lisa Kudrow',\n",
              " 'Joey': 'Matt LeBlanc',\n",
              " 'Chandler': 'Matthew Perry',\n",
              " 'Ross': 'David Schwimmer'}"
            ]
          },
          "metadata": {},
          "execution_count": 37
        }
      ]
    },
    {
      "cell_type": "markdown",
      "source": [
        "###Operaciones con diccionarios\n",
        "diccionario es “una colección de pares de valores clave” donde “cada clave está conextada a un valor, y se puede usar una clave para acceder a un valor asociado con dicha clave” [Matthes, 2016]. El valor de una clave puede ser cualquier tipo de dato, incluso otro diccionario.\n",
        "\n",
        "Por ejemplo, podemos hacer un diccionario más complejo para que cada protagonista tenga un diccionario con sus datos personales:\n",
        "\n",
        "\n"
      ],
      "metadata": {
        "id": "k_EFTVE4Wof9"
      }
    },
    {
      "cell_type": "code",
      "source": [
        "protagonistas = {\n",
        "    \"Rachel\": {\n",
        "        \"nombre\": \"Jennifer Aniston\",\n",
        "        \"año_nacimiento\": 1969,\n",
        "        \"nacionalidad\": \"Estadounidense\",\n",
        "        \"género\": \"Femenino\"\n",
        "    },\n",
        "    \"Monica\": {\n",
        "        \"nombre\": \"Courteney Cox\",\n",
        "        \"año_nacimiento\": 1964,\n",
        "        \"nacionalidad\": \"Estadounidense\",\n",
        "        \"género\": \"Femenino\"\n",
        "    },\n",
        "    \"Phoebe\": {\n",
        "        \"nombre\": \"Lisa Kudrow\",\n",
        "        \"año_nacimiento\": 1963,\n",
        "        \"nacionalidad\": \"Estadounidense\",\n",
        "        \"género\": \"Femenino\"\n",
        "    },\n",
        "    \"Joey\": {\n",
        "        \"nombre\": \"Matt LeBlanc\",\n",
        "        \"año_nacimiento\": 1967,\n",
        "        \"nacionalidad\": \"Estadounidense\",\n",
        "        \"género\": \"Masculino\"\n",
        "    },\n",
        "    \"Chandler\": {\n",
        "        \"nombre\": \"Matthew Perry\",\n",
        "        \"año_nacimiento\": 1969,\n",
        "        \"nacionalidad\": \"Estadounidense\",\n",
        "        \"género\": \"Masculino\"\n",
        "    },\n",
        "    \"Ross\": {\n",
        "        \"nombre\": \"David Schwimmer\",\n",
        "        \"año_nacimiento\": 1966,\n",
        "        \"nacionalidad\": \"Estadounidense\",\n",
        "        \"género\": \"Masculino\"\n",
        "    }\n",
        "}\n",
        "\n",
        "protagonistas"
      ],
      "metadata": {
        "colab": {
          "base_uri": "https://localhost:8080/"
        },
        "id": "y22IZHC_Wnww",
        "outputId": "8796c710-9098-4cb8-9f07-d8d216e07caf"
      },
      "execution_count": null,
      "outputs": [
        {
          "output_type": "execute_result",
          "data": {
            "text/plain": [
              "{'Rachel': {'nombre': 'Jennifer Aniston',\n",
              "  'año_nacimiento': 1969,\n",
              "  'nacionalidad': 'Estadounidense',\n",
              "  'género': 'Femenino'},\n",
              " 'Monica': {'nombre': 'Courteney Cox',\n",
              "  'año_nacimiento': 1964,\n",
              "  'nacionalidad': 'Estadounidense',\n",
              "  'género': 'Femenino'},\n",
              " 'Phoebe': {'nombre': 'Lisa Kudrow',\n",
              "  'año_nacimiento': 1963,\n",
              "  'nacionalidad': 'Estadounidense',\n",
              "  'género': 'Femenino'},\n",
              " 'Joey': {'nombre': 'Matt LeBlanc',\n",
              "  'año_nacimiento': 1967,\n",
              "  'nacionalidad': 'Estadounidense',\n",
              "  'género': 'Masculino'},\n",
              " 'Chandler': {'nombre': 'Matthew Perry',\n",
              "  'año_nacimiento': 1969,\n",
              "  'nacionalidad': 'Estadounidense',\n",
              "  'género': 'Masculino'},\n",
              " 'Ross': {'nombre': 'David Schwimmer',\n",
              "  'año_nacimiento': 1966,\n",
              "  'nacionalidad': 'Estadounidense',\n",
              "  'género': 'Masculino'}}"
            ]
          },
          "metadata": {},
          "execution_count": 38
        }
      ]
    },
    {
      "cell_type": "markdown",
      "source": [
        "###Accediendo a los elementos de un diccionario\n"
      ],
      "metadata": {
        "id": "iTMuM9ZXW2WC"
      }
    },
    {
      "cell_type": "code",
      "source": [
        "protagonistas[\"Rachel\"][\"nombre\"]"
      ],
      "metadata": {
        "colab": {
          "base_uri": "https://localhost:8080/",
          "height": 35
        },
        "id": "H9bGj7-4W1l6",
        "outputId": "b70d4d0c-759a-4c31-bbcd-f805559203df"
      },
      "execution_count": null,
      "outputs": [
        {
          "output_type": "execute_result",
          "data": {
            "text/plain": [
              "'Jennifer Aniston'"
            ],
            "application/vnd.google.colaboratory.intrinsic+json": {
              "type": "string"
            }
          },
          "metadata": {},
          "execution_count": 39
        }
      ]
    },
    {
      "cell_type": "code",
      "source": [
        "# aquí accedemos al diccionario \"protagonistas\" y a la clave \"Rachel\"\n",
        "valor1 = protagonistas[\"Rachel\"]\n",
        "print(valor1)"
      ],
      "metadata": {
        "colab": {
          "base_uri": "https://localhost:8080/"
        },
        "id": "jdP4MY9-W7WG",
        "outputId": "c2613860-3ca4-4496-8c00-ff75a300d76d"
      },
      "execution_count": null,
      "outputs": [
        {
          "output_type": "stream",
          "name": "stdout",
          "text": [
            "{'nombre': 'Jennifer Aniston', 'año_nacimiento': 1969, 'nacionalidad': 'Estadounidense', 'género': 'Femenino'}\n"
          ]
        }
      ]
    },
    {
      "cell_type": "code",
      "source": [
        "# aquí accedemos al diccionario \"valor1\" y a la clave \"nombre\"\n",
        "valor2 = valor1[\"nombre\"]\n",
        "print(valor2)"
      ],
      "metadata": {
        "colab": {
          "base_uri": "https://localhost:8080/"
        },
        "id": "v9aQ9iUSW-5Q",
        "outputId": "5643cf72-3a2d-4b2a-a9a7-18a35a2be3a0"
      },
      "execution_count": null,
      "outputs": [
        {
          "output_type": "stream",
          "name": "stdout",
          "text": [
            "Jennifer Aniston\n"
          ]
        }
      ]
    },
    {
      "cell_type": "code",
      "source": [
        "#Si la clave no existe, Python nos arrojará un error indicando que la clave es incorrecta:\n",
        "protagonistas[\"Chandler\"][\"apellido\"]"
      ],
      "metadata": {
        "colab": {
          "base_uri": "https://localhost:8080/",
          "height": 194
        },
        "id": "n7cilEZuXBIh",
        "outputId": "d220063b-df3e-4956-d94a-e0bf1c90d3d7"
      },
      "execution_count": null,
      "outputs": [
        {
          "output_type": "error",
          "ename": "KeyError",
          "evalue": "ignored",
          "traceback": [
            "\u001b[0;31m---------------------------------------------------------------------------\u001b[0m",
            "\u001b[0;31mKeyError\u001b[0m                                  Traceback (most recent call last)",
            "\u001b[0;32m<ipython-input-44-04c7e56b2d3a>\u001b[0m in \u001b[0;36m<cell line: 2>\u001b[0;34m()\u001b[0m\n\u001b[1;32m      1\u001b[0m \u001b[0;31m#Si la clave no existe, Python nos arrojará un error indicando que la clave es incorrecta:\u001b[0m\u001b[0;34m\u001b[0m\u001b[0;34m\u001b[0m\u001b[0m\n\u001b[0;32m----> 2\u001b[0;31m \u001b[0mprotagonistas\u001b[0m\u001b[0;34m[\u001b[0m\u001b[0;34m\"Chandler\"\u001b[0m\u001b[0;34m]\u001b[0m\u001b[0;34m[\u001b[0m\u001b[0;34m\"apellido\"\u001b[0m\u001b[0;34m]\u001b[0m\u001b[0;34m\u001b[0m\u001b[0;34m\u001b[0m\u001b[0m\n\u001b[0m",
            "\u001b[0;31mKeyError\u001b[0m: 'apellido'"
          ]
        }
      ]
    },
    {
      "cell_type": "markdown",
      "source": [
        "###Agregando elementos a un diccionario\n",
        "Para agregar elementos a un diccionario, podemos usar la sintaxis diccionario[clave] = valor. Por ejemplo, para agregar el apellido de Chandler:\n",
        "\n",
        "\n"
      ],
      "metadata": {
        "id": "oFPz4YszXM1p"
      }
    },
    {
      "cell_type": "code",
      "source": [
        "protagonistas[\"Chandler\"][\"apellido\"] = \"Bing\"\n",
        "protagonistas[\"Chandler\"]"
      ],
      "metadata": {
        "colab": {
          "base_uri": "https://localhost:8080/"
        },
        "id": "KN1j7CbiXQRD",
        "outputId": "141799ea-c657-445c-cb7a-48a4d58a5027"
      },
      "execution_count": null,
      "outputs": [
        {
          "output_type": "execute_result",
          "data": {
            "text/plain": [
              "{'nombre': 'Matthew Perry',\n",
              " 'año_nacimiento': 1969,\n",
              " 'nacionalidad': 'Estadounidense',\n",
              " 'género': 'Masculino',\n",
              " 'apellido': 'Bing'}"
            ]
          },
          "metadata": {},
          "execution_count": 45
        }
      ]
    },
    {
      "cell_type": "code",
      "source": [
        "protagonistas[\"Rachel\"][\"apellido\"]"
      ],
      "metadata": {
        "colab": {
          "base_uri": "https://localhost:8080/",
          "height": 177
        },
        "id": "OUnxyDj_XX1v",
        "outputId": "ffece011-272b-483c-b560-133eaebe44cf"
      },
      "execution_count": null,
      "outputs": [
        {
          "output_type": "error",
          "ename": "KeyError",
          "evalue": "ignored",
          "traceback": [
            "\u001b[0;31m---------------------------------------------------------------------------\u001b[0m",
            "\u001b[0;31mKeyError\u001b[0m                                  Traceback (most recent call last)",
            "\u001b[0;32m<ipython-input-46-26f227553c98>\u001b[0m in \u001b[0;36m<cell line: 1>\u001b[0;34m()\u001b[0m\n\u001b[0;32m----> 1\u001b[0;31m \u001b[0mprotagonistas\u001b[0m\u001b[0;34m[\u001b[0m\u001b[0;34m\"Rachel\"\u001b[0m\u001b[0;34m]\u001b[0m\u001b[0;34m[\u001b[0m\u001b[0;34m\"apellido\"\u001b[0m\u001b[0;34m]\u001b[0m\u001b[0;34m\u001b[0m\u001b[0;34m\u001b[0m\u001b[0m\n\u001b[0m",
            "\u001b[0;31mKeyError\u001b[0m: 'apellido'"
          ]
        }
      ]
    },
    {
      "cell_type": "markdown",
      "source": [
        "###Eliminando elementos de un diccionario\n",
        "Para modificar los valores de un diccionario, podemos usar la sintaxis diccionario[clave] = valor. Por ejemplo, para modificar el nombre de la actriz que interpretó a Rachel:\n",
        "\n"
      ],
      "metadata": {
        "id": "XGVqueLdXcN3"
      }
    },
    {
      "cell_type": "code",
      "source": [
        "protagonistas[\"Rachel\"][\"nombre\"] = \"Jennifer Joanna Aniston\"\n",
        "protagonistas[\"Rachel\"]"
      ],
      "metadata": {
        "colab": {
          "base_uri": "https://localhost:8080/"
        },
        "id": "G0zVE_wrXecU",
        "outputId": "21b65b6a-910d-45c7-a7e8-6bff2e2948ae"
      },
      "execution_count": null,
      "outputs": [
        {
          "output_type": "execute_result",
          "data": {
            "text/plain": [
              "{'nombre': 'Jennifer Joanna Aniston',\n",
              " 'año_nacimiento': 1969,\n",
              " 'nacionalidad': 'Estadounidense',\n",
              " 'género': 'Femenino'}"
            ]
          },
          "metadata": {},
          "execution_count": 47
        }
      ]
    },
    {
      "cell_type": "markdown",
      "source": [
        "Incluso podemos hacer una operación y devolver una nueva clave con la edad de Rachel basados en el año de nacimiento:\n",
        "\n"
      ],
      "metadata": {
        "id": "gfsnWDLuXkcH"
      }
    },
    {
      "cell_type": "code",
      "source": [
        "protagonistas[\"Rachel\"][\"edad\"] = 2022 - protagonistas[\"Rachel\"][\"año_nacimiento\"]\n",
        "protagonistas[\"Rachel\"]"
      ],
      "metadata": {
        "colab": {
          "base_uri": "https://localhost:8080/"
        },
        "id": "7alhSaPtXk9Q",
        "outputId": "0ce20059-87e0-4c89-d804-0ee70ae150d1"
      },
      "execution_count": null,
      "outputs": [
        {
          "output_type": "execute_result",
          "data": {
            "text/plain": [
              "{'nombre': 'Jennifer Joanna Aniston',\n",
              " 'año_nacimiento': 1969,\n",
              " 'nacionalidad': 'Estadounidense',\n",
              " 'género': 'Femenino',\n",
              " 'edad': 53}"
            ]
          },
          "metadata": {},
          "execution_count": 48
        }
      ]
    },
    {
      "cell_type": "markdown",
      "source": [
        "#Iteraciones (Loops)\n",
        "En las actividades anteriores, realizamos algunas operaciones simples con Python. Es sumamente importante aprender a realizar estas acciones, pero adquieren relevancia cuando nos sirven para hacer una tarea repetitiva.\n",
        "\n",
        "Por ejemplo, supongamos que tenemos la cadena de caracteres con los Estados y Capitales de México:\n",
        "\n",
        "\n"
      ],
      "metadata": {
        "id": "jIjmzxoCZYt1"
      }
    },
    {
      "cell_type": "code",
      "source": [
        "estados = \"Aguascalientes: Aguascalientes, Baja California: Mexicali, Baja California Sur: La Paz, Campeche: Campeche, Chiapas: Tuxla Gutiérrez, Chihuahua: Chihuahua, Ciudad de México: Ciudad de México, Coahuila de Zaragoza: Saltillo, Colima: Colima, Durango: Durango, Estado de México: Toluca de Lerdo, Guanajuato: Guanajuato, Hidalgo: Pachuca de Soto, Jalisco: Guadalajara, Michoacán: Morelia, Morelos: Cuernavaca, Nayarit: Tepic, Nuevo León: Monterrey, Oaxaca: Oaxaca de Juárez, Puebla: Puebla de Zaragoza, Querétaro: Santiago de Querétaro, Quintana Roo: Chetumal, San Luis Potosí: San Luis Potosí, Sinaloa: Culiacán, Sonora: Hermosillo, Tabasco: Villahermosa, Tamaulipas: Ciudad Victoria, Tlaxcala: Tlaxcala, Veracruz: Xalapa, Yucatán: Mérida, Zacatecas: Zacatecas\"\n",
        "estados"
      ],
      "metadata": {
        "colab": {
          "base_uri": "https://localhost:8080/",
          "height": 122
        },
        "id": "plWXkIG1XoNT",
        "outputId": "3247e04d-1c13-4632-c849-7156fed62f6d"
      },
      "execution_count": null,
      "outputs": [
        {
          "output_type": "execute_result",
          "data": {
            "text/plain": [
              "'Aguascalientes: Aguascalientes, Baja California: Mexicali, Baja California Sur: La Paz, Campeche: Campeche, Chiapas: Tuxla Gutiérrez, Chihuahua: Chihuahua, Ciudad de México: Ciudad de México, Coahuila de Zaragoza: Saltillo, Colima: Colima, Durango: Durango, Estado de México: Toluca de Lerdo, Guanajuato: Guanajuato, Hidalgo: Pachuca de Soto, Jalisco: Guadalajara, Michoacán: Morelia, Morelos: Cuernavaca, Nayarit: Tepic, Nuevo León: Monterrey, Oaxaca: Oaxaca de Juárez, Puebla: Puebla de Zaragoza, Querétaro: Santiago de Querétaro, Quintana Roo: Chetumal, San Luis Potosí: San Luis Potosí, Sinaloa: Culiacán, Sonora: Hermosillo, Tabasco: Villahermosa, Tamaulipas: Ciudad Victoria, Tlaxcala: Tlaxcala, Veracruz: Xalapa, Yucatán: Mérida, Zacatecas: Zacatecas'"
            ],
            "application/vnd.google.colaboratory.intrinsic+json": {
              "type": "string"
            }
          },
          "metadata": {},
          "execution_count": 54
        }
      ]
    },
    {
      "cell_type": "code",
      "source": [
        "#Si queremos separar los estados y capitales, podemos hacerlo de la siguiente manera:\n",
        "estados = estados.split(\", \")\n",
        "estados"
      ],
      "metadata": {
        "colab": {
          "base_uri": "https://localhost:8080/"
        },
        "id": "XDN9ePcNZefC",
        "outputId": "f356abf7-d3c2-4b59-b6e2-4ea6b74ebfab"
      },
      "execution_count": null,
      "outputs": [
        {
          "output_type": "execute_result",
          "data": {
            "text/plain": [
              "['Aguascalientes: Aguascalientes',\n",
              " 'Baja California: Mexicali',\n",
              " 'Baja California Sur: La Paz',\n",
              " 'Campeche: Campeche',\n",
              " 'Chiapas: Tuxla Gutiérrez',\n",
              " 'Chihuahua: Chihuahua',\n",
              " 'Ciudad de México: Ciudad de México',\n",
              " 'Coahuila de Zaragoza: Saltillo',\n",
              " 'Colima: Colima',\n",
              " 'Durango: Durango',\n",
              " 'Estado de México: Toluca de Lerdo',\n",
              " 'Guanajuato: Guanajuato',\n",
              " 'Hidalgo: Pachuca de Soto',\n",
              " 'Jalisco: Guadalajara',\n",
              " 'Michoacán: Morelia',\n",
              " 'Morelos: Cuernavaca',\n",
              " 'Nayarit: Tepic',\n",
              " 'Nuevo León: Monterrey',\n",
              " 'Oaxaca: Oaxaca de Juárez',\n",
              " 'Puebla: Puebla de Zaragoza',\n",
              " 'Querétaro: Santiago de Querétaro',\n",
              " 'Quintana Roo: Chetumal',\n",
              " 'San Luis Potosí: San Luis Potosí',\n",
              " 'Sinaloa: Culiacán',\n",
              " 'Sonora: Hermosillo',\n",
              " 'Tabasco: Villahermosa',\n",
              " 'Tamaulipas: Ciudad Victoria',\n",
              " 'Tlaxcala: Tlaxcala',\n",
              " 'Veracruz: Xalapa',\n",
              " 'Yucatán: Mérida',\n",
              " 'Zacatecas: Zacatecas']"
            ]
          },
          "metadata": {},
          "execution_count": 55
        }
      ]
    },
    {
      "cell_type": "markdown",
      "source": [
        "Con este método, estamos separando (split) la cadena de caracteres de acuerdo con un delimitador (”, “). Esto nos da como resultado una lista. Cada uno de los elementos obtenidos es una cadena de caracteres que contiene un estado y su capital.\n",
        "\n",
        "Ahora, necesitaremos separar cada uno de estos elementos en dos cadenas de caracteres, una para el estado y otra para la capital. Para esto, podemos utilizar el método split de nuevo, pero esta vez con un delimitador diferente (“:”).\n",
        "\n",
        "\n",
        "\n"
      ],
      "metadata": {
        "id": "vzfF9XbGZrez"
      }
    },
    {
      "cell_type": "markdown",
      "source": [
        "##For loops\n",
        "Un for loop es una estructura de control que nos permite repetir una acción un número determinado de veces. En Python, se utiliza la palabra reservada for para indicar que se va a realizar una iteración.\n",
        "\n",
        "Apliquemos esta idea en la lista de Estados y capitales:\n"
      ],
      "metadata": {
        "id": "wEma70yiZzJM"
      }
    },
    {
      "cell_type": "code",
      "source": [
        "for estado in estados:\n",
        "    estado = estado.split(\": \")\n",
        "    print(estado)"
      ],
      "metadata": {
        "colab": {
          "base_uri": "https://localhost:8080/"
        },
        "id": "9VHolj7sZqWy",
        "outputId": "c2e7ef51-ee91-4ce2-b5da-159de41679bd"
      },
      "execution_count": null,
      "outputs": [
        {
          "output_type": "stream",
          "name": "stdout",
          "text": [
            "['Aguascalientes', 'Aguascalientes']\n",
            "['Baja California', 'Mexicali']\n",
            "['Baja California Sur', 'La Paz']\n",
            "['Campeche', 'Campeche']\n",
            "['Chiapas', 'Tuxla Gutiérrez']\n",
            "['Chihuahua', 'Chihuahua']\n",
            "['Ciudad de México', 'Ciudad de México']\n",
            "['Coahuila de Zaragoza', 'Saltillo']\n",
            "['Colima', 'Colima']\n",
            "['Durango', 'Durango']\n",
            "['Estado de México', 'Toluca de Lerdo']\n",
            "['Guanajuato', 'Guanajuato']\n",
            "['Hidalgo', 'Pachuca de Soto']\n",
            "['Jalisco', 'Guadalajara']\n",
            "['Michoacán', 'Morelia']\n",
            "['Morelos', 'Cuernavaca']\n",
            "['Nayarit', 'Tepic']\n",
            "['Nuevo León', 'Monterrey']\n",
            "['Oaxaca', 'Oaxaca de Juárez']\n",
            "['Puebla', 'Puebla de Zaragoza']\n",
            "['Querétaro', 'Santiago de Querétaro']\n",
            "['Quintana Roo', 'Chetumal']\n",
            "['San Luis Potosí', 'San Luis Potosí']\n",
            "['Sinaloa', 'Culiacán']\n",
            "['Sonora', 'Hermosillo']\n",
            "['Tabasco', 'Villahermosa']\n",
            "['Tamaulipas', 'Ciudad Victoria']\n",
            "['Tlaxcala', 'Tlaxcala']\n",
            "['Veracruz', 'Xalapa']\n",
            "['Yucatán', 'Mérida']\n",
            "['Zacatecas', 'Zacatecas']\n"
          ]
        }
      ]
    },
    {
      "cell_type": "markdown",
      "source": [
        "Vemos que cada uno de los elementos de la lista se ha separado en un listado de dos elementos. El primer elemento corresponde al Estado y el segundo a su capital.\n",
        "\n",
        "Podríamos, por lo tanto, separar cada uno de estos elementos en dos variables y asignarle una categoría textual para describir su contenido:"
      ],
      "metadata": {
        "id": "qkl36MhcZ8EE"
      }
    },
    {
      "cell_type": "code",
      "source": [
        "for estado in estados:\n",
        "    estado = estado.split(\": \")\n",
        "    estado[0] = \"Estado: \" + estado[0]\n",
        "    estado[1] = \"Capital: \" + estado[1]\n",
        "    print(estado)"
      ],
      "metadata": {
        "colab": {
          "base_uri": "https://localhost:8080/"
        },
        "id": "PW1JUon1Z8z2",
        "outputId": "b3cc55b7-07ba-4dba-d481-e0c5cde7ce3e"
      },
      "execution_count": null,
      "outputs": [
        {
          "output_type": "stream",
          "name": "stdout",
          "text": [
            "['Estado: Aguascalientes', 'Capital: Aguascalientes']\n",
            "['Estado: Baja California', 'Capital: Mexicali']\n",
            "['Estado: Baja California Sur', 'Capital: La Paz']\n",
            "['Estado: Campeche', 'Capital: Campeche']\n",
            "['Estado: Chiapas', 'Capital: Tuxla Gutiérrez']\n",
            "['Estado: Chihuahua', 'Capital: Chihuahua']\n",
            "['Estado: Ciudad de México', 'Capital: Ciudad de México']\n",
            "['Estado: Coahuila de Zaragoza', 'Capital: Saltillo']\n",
            "['Estado: Colima', 'Capital: Colima']\n",
            "['Estado: Durango', 'Capital: Durango']\n",
            "['Estado: Estado de México', 'Capital: Toluca de Lerdo']\n",
            "['Estado: Guanajuato', 'Capital: Guanajuato']\n",
            "['Estado: Hidalgo', 'Capital: Pachuca de Soto']\n",
            "['Estado: Jalisco', 'Capital: Guadalajara']\n",
            "['Estado: Michoacán', 'Capital: Morelia']\n",
            "['Estado: Morelos', 'Capital: Cuernavaca']\n",
            "['Estado: Nayarit', 'Capital: Tepic']\n",
            "['Estado: Nuevo León', 'Capital: Monterrey']\n",
            "['Estado: Oaxaca', 'Capital: Oaxaca de Juárez']\n",
            "['Estado: Puebla', 'Capital: Puebla de Zaragoza']\n",
            "['Estado: Querétaro', 'Capital: Santiago de Querétaro']\n",
            "['Estado: Quintana Roo', 'Capital: Chetumal']\n",
            "['Estado: San Luis Potosí', 'Capital: San Luis Potosí']\n",
            "['Estado: Sinaloa', 'Capital: Culiacán']\n",
            "['Estado: Sonora', 'Capital: Hermosillo']\n",
            "['Estado: Tabasco', 'Capital: Villahermosa']\n",
            "['Estado: Tamaulipas', 'Capital: Ciudad Victoria']\n",
            "['Estado: Tlaxcala', 'Capital: Tlaxcala']\n",
            "['Estado: Veracruz', 'Capital: Xalapa']\n",
            "['Estado: Yucatán', 'Capital: Mérida']\n",
            "['Estado: Zacatecas', 'Capital: Zacatecas']\n"
          ]
        }
      ]
    },
    {
      "cell_type": "markdown",
      "source": [
        "Incluso, podemos crear un diccionario, para que de esa manera podamos acceder a los elementos de manera más sencilla:\n",
        "\n"
      ],
      "metadata": {
        "id": "qjZI1ZZxaCri"
      }
    },
    {
      "cell_type": "code",
      "source": [
        "estados_dict = {}\n",
        "\n",
        "for estado in estados:\n",
        "    estado = estado.split(\": \")\n",
        "    estados_dict[estado[0]] = estado[1]\n",
        "\n",
        "print(estados_dict)"
      ],
      "metadata": {
        "colab": {
          "base_uri": "https://localhost:8080/"
        },
        "id": "MvL9UyvcaBLh",
        "outputId": "7e43ae22-4be9-460c-f981-d32065d1eec7"
      },
      "execution_count": null,
      "outputs": [
        {
          "output_type": "stream",
          "name": "stdout",
          "text": [
            "{'Aguascalientes': 'Aguascalientes', 'Baja California': 'Mexicali', 'Baja California Sur': 'La Paz', 'Campeche': 'Campeche', 'Chiapas': 'Tuxla Gutiérrez', 'Chihuahua': 'Chihuahua', 'Ciudad de México': 'Ciudad de México', 'Coahuila de Zaragoza': 'Saltillo', 'Colima': 'Colima', 'Durango': 'Durango', 'Estado de México': 'Toluca de Lerdo', 'Guanajuato': 'Guanajuato', 'Hidalgo': 'Pachuca de Soto', 'Jalisco': 'Guadalajara', 'Michoacán': 'Morelia', 'Morelos': 'Cuernavaca', 'Nayarit': 'Tepic', 'Nuevo León': 'Monterrey', 'Oaxaca': 'Oaxaca de Juárez', 'Puebla': 'Puebla de Zaragoza', 'Querétaro': 'Santiago de Querétaro', 'Quintana Roo': 'Chetumal', 'San Luis Potosí': 'San Luis Potosí', 'Sinaloa': 'Culiacán', 'Sonora': 'Hermosillo', 'Tabasco': 'Villahermosa', 'Tamaulipas': 'Ciudad Victoria', 'Tlaxcala': 'Tlaxcala', 'Veracruz': 'Xalapa', 'Yucatán': 'Mérida', 'Zacatecas': 'Zacatecas'}\n"
          ]
        }
      ]
    },
    {
      "cell_type": "code",
      "source": [
        "estados_dict[\"Chiapas\"]"
      ],
      "metadata": {
        "colab": {
          "base_uri": "https://localhost:8080/",
          "height": 35
        },
        "id": "s51RQzeTaGgQ",
        "outputId": "8cd3722d-3932-428c-b740-b0010a350b68"
      },
      "execution_count": null,
      "outputs": [
        {
          "output_type": "execute_result",
          "data": {
            "text/plain": [
              "'Tuxla Gutiérrez'"
            ],
            "application/vnd.google.colaboratory.intrinsic+json": {
              "type": "string"
            }
          },
          "metadata": {},
          "execution_count": 59
        }
      ]
    },
    {
      "cell_type": "markdown",
      "source": [
        "###Crear listas a partir de iteraciones\n",
        "Supongamos que no queremos separar los elementos de la lista, sino recuperar únicamente los elementos que corresponden a las capitales de los Estados. En este caso, lo que haremos será crear una lista vacía y agregar a esta lista cada una de las capitales que se encuentren en la lista de Estados y capitales."
      ],
      "metadata": {
        "id": "PVbjOamuaN_p"
      }
    },
    {
      "cell_type": "code",
      "source": [
        "capitales = []\n",
        "\n",
        "for estado in estados:\n",
        "    estado = estado.split(\": \")\n",
        "    capitales.append(estado[1])\n",
        "\n",
        "print(capitales)"
      ],
      "metadata": {
        "colab": {
          "base_uri": "https://localhost:8080/"
        },
        "id": "DZxRGhmzaQmQ",
        "outputId": "5a20c0c7-3d70-41cc-ee93-cbb049200f60"
      },
      "execution_count": null,
      "outputs": [
        {
          "output_type": "stream",
          "name": "stdout",
          "text": [
            "['Aguascalientes', 'Mexicali', 'La Paz', 'Campeche', 'Tuxla Gutiérrez', 'Chihuahua', 'Ciudad de México', 'Saltillo', 'Colima', 'Durango', 'Toluca de Lerdo', 'Guanajuato', 'Pachuca de Soto', 'Guadalajara', 'Morelia', 'Cuernavaca', 'Tepic', 'Monterrey', 'Oaxaca de Juárez', 'Puebla de Zaragoza', 'Santiago de Querétaro', 'Chetumal', 'San Luis Potosí', 'Culiacán', 'Hermosillo', 'Villahermosa', 'Ciudad Victoria', 'Tlaxcala', 'Xalapa', 'Mérida', 'Zacatecas']\n"
          ]
        }
      ]
    },
    {
      "cell_type": "markdown",
      "source": [
        "Esta es una tarea muy recurrida y que nos puede servir para separar elementos a partir de un identificador común. Por ejemplo, si tenemos una lista de nombres de personas y queremos separar los nombres de los apellidos, podemos hacerlo de la siguiente manera:\n",
        "\n"
      ],
      "metadata": {
        "id": "3hgfx6NtaW6g"
      }
    },
    {
      "cell_type": "code",
      "source": [
        "nombres = [\"Juan Pérez\", \"María López\", \"Pedro Pérez\", \"Ana García\", \"José Hernández\", \"María Martínez\", \"Pedro García\", \"Ana Hernández\", \"José Martínez\", \"María Pérez\"]\n",
        "\n",
        "apellidos = []\n",
        "\n",
        "for nombre in nombres:\n",
        "    nombre = nombre.split(\" \")\n",
        "    apellidos.append(nombre[1])\n",
        "\n",
        "print(apellidos)"
      ],
      "metadata": {
        "colab": {
          "base_uri": "https://localhost:8080/"
        },
        "id": "2pC0-K3XaYOu",
        "outputId": "5b8831b6-4c2e-4009-f85e-fccbf88e3280"
      },
      "execution_count": null,
      "outputs": [
        {
          "output_type": "stream",
          "name": "stdout",
          "text": [
            "['Pérez', 'López', 'Pérez', 'García', 'Hernández', 'Martínez', 'García', 'Hernández', 'Martínez', 'Pérez']\n"
          ]
        }
      ]
    },
    {
      "cell_type": "code",
      "source": [
        "for apellido in apellidos:\n",
        "  print(f\"El apellido {apellido} aparece {apellidos.count(apellido)}\")"
      ],
      "metadata": {
        "colab": {
          "base_uri": "https://localhost:8080/"
        },
        "id": "FgmiMSgBajEV",
        "outputId": "5f214b92-db78-43a4-e2f4-95ceef950b8e"
      },
      "execution_count": null,
      "outputs": [
        {
          "output_type": "stream",
          "name": "stdout",
          "text": [
            "El apellido Pérez aparece 3\n",
            "El apellido López aparece 1\n",
            "El apellido Pérez aparece 3\n",
            "El apellido García aparece 2\n",
            "El apellido Hernández aparece 2\n",
            "El apellido Martínez aparece 2\n",
            "El apellido García aparece 2\n",
            "El apellido Hernández aparece 2\n",
            "El apellido Martínez aparece 2\n",
            "El apellido Pérez aparece 3\n"
          ]
        }
      ]
    },
    {
      "cell_type": "markdown",
      "source": [
        "##While loops\n",
        "Los while loops son otra estrategia para realizar iteraciones. En general, son menos utilizados que los for loops, pero pueden ser muy útiles en ciertas situaciones. Por ejemplo, cuando no sabemos cuántas veces se va a repetir un proceso.\n",
        "\n",
        "Los while loops se ejecutan mientras una condición sea verdadera. Por ejemplo, si queremos imprimir los números del 1 al 10, podemos hacerlo de la siguiente manera:\n"
      ],
      "metadata": {
        "id": "7Vcw33jRbFG1"
      }
    },
    {
      "cell_type": "code",
      "source": [
        "i = 1\n",
        "\n",
        "while i <= 10:\n",
        "    print(i)\n",
        "    i += 1"
      ],
      "metadata": {
        "colab": {
          "base_uri": "https://localhost:8080/"
        },
        "id": "r8_furQ_bCcz",
        "outputId": "4d7b1a63-3a82-42f8-f247-b2a68f1cdc09"
      },
      "execution_count": null,
      "outputs": [
        {
          "output_type": "stream",
          "name": "stdout",
          "text": [
            "1\n",
            "2\n",
            "3\n",
            "4\n",
            "5\n",
            "6\n",
            "7\n",
            "8\n",
            "9\n",
            "10\n"
          ]
        }
      ]
    },
    {
      "cell_type": "markdown",
      "source": [
        "En este caso, la condición es que i sea menor o igual a 10. En cada iteración, se imprime el valor de i y se le suma 1. Cuando i ya no es menor o igual a 10, el while loop se detiene.\n",
        "\n",
        "***Es importante que en cada iteración se modifique la variable que se utiliza en la condición, de lo contrario el while loop se ejecutará indefinidamente. Eso es lo que se denomina como un loop infinito.***\n",
        "\n",
        "\n",
        "\n"
      ],
      "metadata": {
        "id": "oxYn9f80bKxV"
      }
    },
    {
      "cell_type": "markdown",
      "source": [
        "#Condicionales\n",
        "Los condicionales nos permiten evaluar la verdad o falsedad lógica de una expresión para tomar decisiones en nuestro código. En Python, los condicionales se escriben con la palabra reservada if y se cierran con la palabra reservada else."
      ],
      "metadata": {
        "id": "7A2SbII7bgYV"
      }
    },
    {
      "cell_type": "code",
      "source": [
        "if 1 == 1:\n",
        "    print(\"1 es igual a 1\")\n",
        "else:\n",
        "    print(\"1 no es igual a 1\")"
      ],
      "metadata": {
        "colab": {
          "base_uri": "https://localhost:8080/"
        },
        "id": "uPwsF8habjy_",
        "outputId": "73a62e9e-1c02-40fc-fdaa-bceeded93405"
      },
      "execution_count": null,
      "outputs": [
        {
          "output_type": "stream",
          "name": "stdout",
          "text": [
            "1 es igual a 1\n"
          ]
        }
      ]
    },
    {
      "cell_type": "code",
      "source": [
        "#Como en todos los casos, estas condiciones también pueden ser aplicadas a texto:\n",
        "nombre = \"Ana\"\n",
        "\n",
        "if nombre == \"Juan\":\n",
        "    print(\"Hola, Juan\")\n",
        "else:\n",
        "    print(\"Hola, tu no eres Juan\")"
      ],
      "metadata": {
        "colab": {
          "base_uri": "https://localhost:8080/"
        },
        "id": "K7J5RsLCbnOk",
        "outputId": "2848f507-bd6c-427e-e6b9-e88f4ede788d"
      },
      "execution_count": null,
      "outputs": [
        {
          "output_type": "stream",
          "name": "stdout",
          "text": [
            "Hola, tu no eres Juan\n"
          ]
        }
      ]
    },
    {
      "cell_type": "code",
      "source": [
        "# Incluso, esta condición se puede realizar de manera que determine si la condición es falsa:\n",
        "if nombre != \"Juan\":\n",
        "    print(\"Hola, Ana\")\n",
        "else:\n",
        "    print(\"Hola, Juan\")"
      ],
      "metadata": {
        "colab": {
          "base_uri": "https://localhost:8080/"
        },
        "id": "NjD_jVURbtRe",
        "outputId": "27ddaafc-7041-4a53-a2bc-d489117d03df"
      },
      "execution_count": null,
      "outputs": [
        {
          "output_type": "stream",
          "name": "stdout",
          "text": [
            "Hola, Ana\n"
          ]
        }
      ]
    },
    {
      "cell_type": "markdown",
      "source": [
        "Por otra parte, un condicional nos puede ayudar a modificar el valor de una variable de acuerdo con ciertas condiciones. Por ejemplo, en el siguiente caso queremos que la variable nombre tome el valor de “Juan” si el valor de la variable edad es mayor a 18, y que tome el valor de “Ana” si el valor de la variable edad es menor a 18.\n",
        "\n"
      ],
      "metadata": {
        "id": "LDhwckumb02x"
      }
    },
    {
      "cell_type": "code",
      "source": [
        "edad = 20\n",
        "\n",
        "if edad > 18:\n",
        "    nombre = \"Juan\"\n",
        "else:\n",
        "    nombre = \"Ana\"\n",
        "\n",
        "print(nombre)"
      ],
      "metadata": {
        "colab": {
          "base_uri": "https://localhost:8080/"
        },
        "id": "fP3-QAjvbzbN",
        "outputId": "a7f380fb-f5c6-49ae-abb4-75f1339fbf36"
      },
      "execution_count": null,
      "outputs": [
        {
          "output_type": "stream",
          "name": "stdout",
          "text": [
            "Juan\n"
          ]
        }
      ]
    },
    {
      "cell_type": "markdown",
      "source": [
        "##Condicionales + listas + iteraciones\n",
        "Los condicionales también pueden ser utilizados en conjunto con listas y iteraciones. Por ejemplo, supongamos que tenemos una lista de nombres y queremos separar los nombres que empiezan con la letra “A” de los que no. Para esto, podemos crear dos listas vacías y agregar a cada una de ellas los nombres que empiecen con la letra “A” y los que no, respectivamente.\n",
        "\n"
      ],
      "metadata": {
        "id": "m5KcPsOrb5fX"
      }
    },
    {
      "cell_type": "code",
      "source": [
        "nombres = [\"Ana\", \"Juan\", \"Pedro\", \"Andrea\", \"Sofía\", \"Antonio\"]\n",
        "\n",
        "nombres_con_a = []\n",
        "nombres_sin_a = []\n",
        "\n",
        "for nombre in nombres:\n",
        "    if nombre[0] == \"A\":\n",
        "        nombres_con_a.append(nombre)\n",
        "    else:\n",
        "        nombres_sin_a.append(nombre)\n",
        "\n",
        "print(nombres_con_a)\n",
        "print(nombres_sin_a)"
      ],
      "metadata": {
        "colab": {
          "base_uri": "https://localhost:8080/"
        },
        "id": "TlESENUkb47F",
        "outputId": "dcd171b6-397c-4cb0-d7af-1e683eed103e"
      },
      "execution_count": null,
      "outputs": [
        {
          "output_type": "stream",
          "name": "stdout",
          "text": [
            "['Ana', 'Andrea', 'Antonio']\n",
            "['Juan', 'Pedro', 'Sofía']\n"
          ]
        }
      ]
    },
    {
      "cell_type": "markdown",
      "source": [
        "En el caso anterior, utilizamos muchos de los conceptos que hemos visto hasta ahora. Por ejemplo, utilizamos la iteración for para recorrer la lista de nombres, y utilizamos la condición if para determinar si el nombre empieza con la letra “A” o no, para lo cual recurrimos a una segmentación de la cadena de caracteres. Además, utilizamos la función append para agregar elementos a las listas nombres_con_a y nombres_sin_a.\n",
        "\n",
        "Podríamos hacer otro tipo de operaciones similares y un poco más compleja, por ejemplo, encontrar los años en una frase textual. Para esto, podemos utilizar la función split para separar la frase en palabras y luego iterar sobre cada una de ellas para determinar si es un número o no.\n",
        "\n"
      ],
      "metadata": {
        "id": "2UvL-VpUcFL2"
      }
    },
    {
      "cell_type": "code",
      "source": [
        "frase = \"En el año 2020, el mundo se enfrentó a una pandemia que cambió la vida de todos.\"\n",
        "\n",
        "palabras = frase.split()\n",
        "\n",
        "años = []\n",
        "\n",
        "for palabra in palabras:\n",
        "  palabra = palabra.replace(',', '')\n",
        "  if palabra.isnumeric():\n",
        "    años.append(palabra)\n",
        "\n",
        "años"
      ],
      "metadata": {
        "colab": {
          "base_uri": "https://localhost:8080/"
        },
        "id": "NxvitgZncGN0",
        "outputId": "e4dc99fe-9c29-4793-fe4f-310efd7579e4"
      },
      "execution_count": null,
      "outputs": [
        {
          "output_type": "execute_result",
          "data": {
            "text/plain": [
              "['2020']"
            ]
          },
          "metadata": {},
          "execution_count": 73
        }
      ]
    },
    {
      "cell_type": "markdown",
      "source": [
        "En el caso anterior, utilizamos la función replace para eliminar la coma de la palabra “2020,” y luego utilizamos la función isnumeric para determinar si la palabra es un número o no. Solamente en los casos en los que el resultado es verdadero, agregamos la palabra a la lista años.\n",
        "\n",
        "Este caso es sencillo, pero intentemos con uno un poco más complejo. Supongamos que queremos extraer las fechas de una pequeña biografía de Cervantes Saavedra:\n",
        "\n"
      ],
      "metadata": {
        "id": "GM51u6GAcQYM"
      }
    },
    {
      "cell_type": "code",
      "source": [
        "bio = \"El padre del escritor era Rodrigo de Cervantes (1509-1585), casado con Leonor de Cortinas, de la cual apenas se sabe nada, excepto que era natural de Arganda del Rey.11​ Los hermanos de Cervantes fueron Andrés (1543), Andrea (1544), Luisa (1546), que llegó a ser priora de un convento carmelita; Rodrigo (1550), también soldado, que le acompañó en el cautiverio argelino; Magdalena (1554) y Juan, solo conocido porque su padre lo menciona en el testamento.\""
      ],
      "metadata": {
        "id": "feq1FphjcJoY"
      },
      "execution_count": null,
      "outputs": []
    },
    {
      "cell_type": "markdown",
      "source": [
        "Para conseguir lo anterior, debemos realizar varias operaciones:\n",
        "\n",
        "Separar la biografía en palabras (split()).\n",
        "\n",
        "Eliminar la puntuación de cada palabra (replace()). De otra manera, no identificaría una fecha como “(1543)”.\n",
        "\n",
        "En caso de que la palabra tenga el formato “AAAA-AAAA”, separarla en dos palabras (split('-')) y agregar ambas a la lista de fechas (append()).\n",
        "\n",
        "Determinar si la palabra es un número (isnumeric()).\n",
        "\n",
        "Agregar la palabra a la lista de fechas (append()).\n",
        "\n"
      ],
      "metadata": {
        "id": "uLnVYNuycUn3"
      }
    },
    {
      "cell_type": "code",
      "source": [
        "palabras = bio.split()\n",
        "\n",
        "fechas = []\n",
        "\n",
        "for palabra in palabras:\n",
        "  palabra = palabra.replace(',', '')\n",
        "  palabra = palabra.replace(';', '')\n",
        "  palabra = palabra.replace('(', '')\n",
        "  palabra = palabra.replace(')', '')\n",
        "  palabra = palabra.replace('​', '')\n",
        "  palabra = palabra.replace('11', '') # Esto se podría hacer de manera más \"elegante\", pero por ahora funciona.\n",
        "  if palabra.isnumeric():\n",
        "    fechas.append(palabra)\n",
        "  elif '-' in palabra: # Esto es un condicional anidado.\n",
        "    rango = palabra.split('-') # Esto es una segmentación.\n",
        "    for r in rango: # Esto es una iteración anidada.\n",
        "      if r.isnumeric():\n",
        "        fechas.append(r)\n",
        "\n",
        "fechas"
      ],
      "metadata": {
        "colab": {
          "base_uri": "https://localhost:8080/"
        },
        "id": "rwEIOInjcfa2",
        "outputId": "6fa7456f-55a3-4c5a-8bad-ca1f68dc1599"
      },
      "execution_count": null,
      "outputs": [
        {
          "output_type": "execute_result",
          "data": {
            "text/plain": [
              "['1509', '1585', '1543', '1544', '1546', '1550', '1554']"
            ]
          },
          "metadata": {},
          "execution_count": 75
        }
      ]
    },
    {
      "cell_type": "markdown",
      "source": [],
      "metadata": {
        "id": "vZlup6y2cl4U"
      }
    },
    {
      "cell_type": "markdown",
      "source": [
        "Vemos que gracias a los condicionales podemos realizar operaciones más complejas, incluso cuando no tenemos todavía claro qué resultado vamos a obtener. De hecho, podríamos simplemente ampliar o cambiar el párrafo que utilizamos y encontraríamos las fechas de la nueva biografía.\n",
        "\n"
      ],
      "metadata": {
        "id": "n95sHnPKcl-X"
      }
    },
    {
      "cell_type": "markdown",
      "source": [
        "#Condicionales + diccionarios\n",
        "Los condicionales también pueden ser utilizados en conjunto con diccionarios. Por ejemplo, supongamos que tenemos un diccionario con los nombres de los alumnos de un curso y sus notas. Queremos saber cuál es la nota más alta y cuál es la nota más baja. Para esto, podemos crear dos variables, una para la nota más alta y otra para la nota más baja, y luego iterar sobre el diccionario para determinar si la nota es mayor o menor que la nota más alta o más baja, respectivamente.\n",
        "\n"
      ],
      "metadata": {
        "id": "KRnYOVVZcong"
      }
    },
    {
      "cell_type": "code",
      "source": [
        "notas = {\"Ana\": 7, \"Juan\": 5, \"Pedro\": 8, \"Andrea\": 9, \"Sofía\": 6, \"Antonio\": 4}\n",
        "\n",
        "nota_mas_alta = 0\n",
        "nota_mas_baja = 10\n",
        "\n",
        "for alumno, nota in notas.items(): # Iteramos sobre el diccionario\n",
        "  if nota > nota_mas_alta:\n",
        "    nota_mas_alta = nota\n",
        "  if nota < nota_mas_baja:\n",
        "    nota_mas_baja = nota\n",
        "\n",
        "print(\"La nota más alta es\", nota_mas_alta)\n",
        "print(\"La nota más baja es\", nota_mas_baja)"
      ],
      "metadata": {
        "colab": {
          "base_uri": "https://localhost:8080/"
        },
        "id": "EBJGmHUHcn5v",
        "outputId": "622611be-70aa-4057-f041-506be0222bd8"
      },
      "execution_count": null,
      "outputs": [
        {
          "output_type": "stream",
          "name": "stdout",
          "text": [
            "La nota más alta es 9\n",
            "La nota más baja es 4\n"
          ]
        }
      ]
    },
    {
      "cell_type": "markdown",
      "source": [
        "En el caso anterior, utilizamos dos condicionales if para determinar si la nota es mayor o menor que la nota más alta o más baja, respectivamente. En el caso de que la nota sea mayor que la nota más alta, actualizamos la variable nota_mas_alta con el valor de la nota. De forma similar, en el caso de que la nota sea menor que la nota más baja, actualizamos la variable nota_mas_baja con el valor de la nota.\n",
        "\n",
        "De una manera similar, podríamos hacer un programa que saludara a cada usuario y determinara si la persona es de género fenemino (“Bienvenida”), masculino (“Bienvenido”) o no binario (“Bienvenidx”)."
      ],
      "metadata": {
        "id": "hbXKTfYfcwjX"
      }
    },
    {
      "cell_type": "code",
      "source": [
        "usuarios = {\"Ana\": \"Femenino\", \"Juan\": \"Masculino\", \"Pedro\": \"No binario\", \"Andrea\": \"Femenino\", \"Sofía\": \"Femenino\", \"Antonio\": \"Masculino\"}\n",
        "\n",
        "for usuario, genero in usuarios.items():\n",
        "  if genero == \"Femenino\":\n",
        "    print(\"Bienvenida\", usuario)\n",
        "  elif genero == \"Masculino\":\n",
        "    print(\"Bienvenido\", usuario)\n",
        "  else:\n",
        "    print(\"Bienvenidx\", usuario)"
      ],
      "metadata": {
        "colab": {
          "base_uri": "https://localhost:8080/"
        },
        "id": "qB6E2Xsvcsbd",
        "outputId": "b990a52f-4d4b-45b0-a0a4-3281c063e420"
      },
      "execution_count": null,
      "outputs": [
        {
          "output_type": "stream",
          "name": "stdout",
          "text": [
            "Bienvenida Ana\n",
            "Bienvenido Juan\n",
            "Bienvenidx Pedro\n",
            "Bienvenida Andrea\n",
            "Bienvenida Sofía\n",
            "Bienvenido Antonio\n"
          ]
        }
      ]
    },
    {
      "cell_type": "markdown",
      "source": [
        "##Condicionales + listas múltiples\n",
        "En ciertas ocasiones, vamos a querer saber si ciertos elementos de una lista están contenidos en otra. Por ejemplo, si tenemos dos grupos de estudiantes, queremos saber cuáles estudiantes se encuentran inscritos en ambos grupos:\n",
        "\n",
        "\n"
      ],
      "metadata": {
        "id": "ZsIl6TLYc8cd"
      }
    },
    {
      "cell_type": "code",
      "source": [
        "grupo_1 = [\"Ana\", \"Juan\", \"Pedro\", \"Andrea\", \"Sofía\", \"Antonio\"]\n",
        "grupo_2 = [\"Ana\", \"Juan\", \"Pedro\", \"Andrea\", \"Sofía\", \"Antonio\", \"María\", \"Luis\"]\n",
        "\n",
        "inscritos_ambos_grupos = []\n",
        "\n",
        "for estudiante in grupo_1:\n",
        "  if estudiante in grupo_2:\n",
        "    inscritos_ambos_grupos.append(estudiante)\n",
        "\n",
        "print(inscritos_ambos_grupos)"
      ],
      "metadata": {
        "colab": {
          "base_uri": "https://localhost:8080/"
        },
        "id": "g254ME2Vc_2z",
        "outputId": "0f6531bc-99d8-40b6-8340-45053b6627c5"
      },
      "execution_count": null,
      "outputs": [
        {
          "output_type": "stream",
          "name": "stdout",
          "text": [
            "['Ana', 'Juan', 'Pedro', 'Andrea', 'Sofía', 'Antonio']\n"
          ]
        }
      ]
    },
    {
      "cell_type": "markdown",
      "source": [
        "#Funciones\n",
        "Vamos a finalizar nuestro curso intensivo con una de las herramientas más poderosas de Python: las funciones 1.\n",
        "\n",
        "En términos simples, las funciones son bloques de código que realizan una tarea específica y pueden ser reutilizadas en diferentes partes de nuestro programa “llamándolas” por su nombre.\n",
        "\n",
        "Por ejemplo, ¿recuerdas el programa que creamos para saludar a alguien de acuerdo con su nombre y género? Podríamos escribirlo de la siguiente manera:"
      ],
      "metadata": {
        "id": "U8t8paeDeJy9"
      }
    },
    {
      "cell_type": "code",
      "source": [
        "def saludar(nombre, genero):\n",
        "    \"\"\"Saluda a alguien de acuerdo con su nombre y género\"\"\"\n",
        "    if genero == \"f\":\n",
        "        print(f\"¡Bienvenida, {nombre}!\")\n",
        "    elif genero == \"m\":\n",
        "        print(f\"¡Bienvenido, {nombre}!\")\n",
        "    else:\n",
        "        print(f\"¡Bienvenidx, {nombre}!\")\n",
        "\n",
        "saludar(\"María\", \"f\")"
      ],
      "metadata": {
        "colab": {
          "base_uri": "https://localhost:8080/"
        },
        "id": "bGifcFC4eJH9",
        "outputId": "dd7ad6e7-9f9f-4764-dfbc-6f64b9fc2a51"
      },
      "execution_count": null,
      "outputs": [
        {
          "output_type": "stream",
          "name": "stdout",
          "text": [
            "¡Bienvenida, María!\n"
          ]
        }
      ]
    },
    {
      "cell_type": "markdown",
      "source": [
        "Detengámonos un poco en la sintaxis de este código.\n",
        "\n",
        "En primer lugar, debemos tener en cuenta que una función se define con la palabra reservada def seguida del nombre de la función y de los argumentos que recibe entre paréntesis. En este caso, la función saludar recibe dos argumentos: nombre y genero.\n",
        "\n",
        "La cantidad de argumentos que recibe una función no es fija. De hecho, podemos crear una función sin argumentos:"
      ],
      "metadata": {
        "id": "0Qmoh0IieRYs"
      }
    },
    {
      "cell_type": "code",
      "source": [
        "def saludar():\n",
        "    \"\"\"Solamente, saluda\"\"\"\n",
        "    print(\"¡Hola!\")\n",
        "\n",
        "saludar()"
      ],
      "metadata": {
        "colab": {
          "base_uri": "https://localhost:8080/"
        },
        "id": "AXtsp4pDeIDN",
        "outputId": "302181ba-78a4-45b5-8df1-46e629dcbba8"
      },
      "execution_count": null,
      "outputs": [
        {
          "output_type": "stream",
          "name": "stdout",
          "text": [
            "¡Hola!\n"
          ]
        }
      ]
    },
    {
      "cell_type": "code",
      "source": [
        "#O con muchos argumentos:\n",
        "def saludar(nombre, genero, edad, ciudad):\n",
        "    \"\"\"Saluda a alguien de acuerdo con su nombre, género, edad y ciudad\"\"\"\n",
        "    if genero == \"f\":\n",
        "        print(f\"¡Bienvenida, {nombre}!\")\n",
        "    elif genero == \"m\":\n",
        "        print(f\"¡Bienvenido, {nombre}!\")\n",
        "    else:\n",
        "        print(f\"¡Bienvenidx, {nombre}!\")\n",
        "    print(f\"Veo que tienes {edad} años y vives en {ciudad}.\")\n",
        "\n",
        "saludar(\"María\", \"f\", 25, \"Buenos Aires\")"
      ],
      "metadata": {
        "colab": {
          "base_uri": "https://localhost:8080/"
        },
        "id": "Pq3WCXAEeVGH",
        "outputId": "67b9af4c-919b-4cef-868f-96254c5815eb"
      },
      "execution_count": null,
      "outputs": [
        {
          "output_type": "stream",
          "name": "stdout",
          "text": [
            "¡Bienvenida, María!\n",
            "Veo que tienes 25 años y vives en Buenos Aires.\n"
          ]
        }
      ]
    },
    {
      "cell_type": "markdown",
      "source": [
        "También podemos determinar un valor predeterminado para los argumentos de una función. En este caso, si no se especifica un valor para el argumento, se utilizará el valor asignado:\n",
        "\n"
      ],
      "metadata": {
        "id": "NWYSejs3eZ8W"
      }
    },
    {
      "cell_type": "code",
      "source": [
        "def saludar(nombre, genero, edad=25, ciudad=\"Buenos Aires\"):\n",
        "    \"\"\"Saluda a alguien de acuerdo con su nombre, género, edad y ciudad\"\"\"\n",
        "    if genero == \"f\":\n",
        "        print(f\"¡Bienvenida, {nombre}!\")\n",
        "    elif genero == \"m\":\n",
        "        print(f\"¡Bienvenido, {nombre}!\")\n",
        "    else:\n",
        "        print(f\"¡Bienvenidx, {nombre}!\")\n",
        "    print(f\"Veo que tienes {edad} años y vives en {ciudad}.\")\n",
        "\n",
        "saludar(\"María\", \"f\")"
      ],
      "metadata": {
        "colab": {
          "base_uri": "https://localhost:8080/"
        },
        "id": "3NdhbMPPfJf0",
        "outputId": "f968c164-ab7b-41a6-977c-e60d5c128904"
      },
      "execution_count": null,
      "outputs": [
        {
          "output_type": "stream",
          "name": "stdout",
          "text": [
            "¡Bienvenida, María!\n",
            "Veo que tienes 25 años y vives en Buenos Aires.\n"
          ]
        }
      ]
    },
    {
      "cell_type": "markdown",
      "source": [
        "En este caso, el argumento edad toma el valor por defecto de 25 y el argumento ciudad toma el valor por defecto de “Buenos Aires”. Si especificamos un valor para alguno de estos argumentos, se utilizará el valor que le pasamos:"
      ],
      "metadata": {
        "id": "LPM_9bvlfLiF"
      }
    },
    {
      "cell_type": "markdown",
      "source": [
        "##Retorno de valores\n",
        "En los ejemplos anteriores, cada función es un programa que termina con la instrucción print. No obstante, en la vida real, las funciones se utilizan sobre todo para transformar los datos que reciben y devolver un resultado. Para ello, la función tiene la palabra reservada return que indica el valor que se devuelve:\n",
        "\n"
      ],
      "metadata": {
        "id": "PoFCVwYJfR4j"
      }
    },
    {
      "cell_type": "code",
      "source": [
        "def saludar(nombre, genero):\n",
        "    \"\"\"Saluda a alguien de acuerdo con su nombre y género\"\"\"\n",
        "    if genero == \"f\":\n",
        "        return f\"¡Bienvenida, {nombre}!\"\n",
        "    elif genero == \"m\":\n",
        "        return f\"¡Bienvenido, {nombre}!\"\n",
        "    else:\n",
        "        return f\"¡Bienvenidx, {nombre}!\"\n",
        "\n",
        "saludo = saludar(\"María\", \"f\")\n",
        "print(saludo)"
      ],
      "metadata": {
        "colab": {
          "base_uri": "https://localhost:8080/"
        },
        "id": "o43v57AsfPhR",
        "outputId": "222e4eec-aa0d-457d-b1ca-6022eb5e4eaa"
      },
      "execution_count": null,
      "outputs": [
        {
          "output_type": "stream",
          "name": "stdout",
          "text": [
            "¡Bienvenida, María!\n"
          ]
        }
      ]
    },
    {
      "cell_type": "markdown",
      "source": [
        "Es importante entender que una función puede retornar cualquier tipo de valor, incluyendo listas o diccionarios. ¿Recuerdas el ejemplo del condicional que nos permitía extraer las fechas de una corta biografía? En ese caso, podríamos escribir una función que haga lo mismo con cualquier biografía:"
      ],
      "metadata": {
        "id": "37haOKqKfiyN"
      }
    },
    {
      "cell_type": "code",
      "source": [
        "def extraer_fechas(biografia):\n",
        "    \"\"\"\n",
        "    Extrae las fechas de una biografía\n",
        "    Es posible sintetizar mucho más esta función, pero la escribimos de esta manera para leer mejor cada paso\n",
        "    \"\"\"\n",
        "\n",
        "    bio = biografia.split(\" \") # Separamos la biografía en palabras\n",
        "    fechas = []\n",
        "    for palabra in bio:\n",
        "        # eliminamos los signos de puntuación excepto puntos y guiones\n",
        "        palabra = palabra.strip(\",;:()[]{}\") # el método strip elimina los caracteres que le indicamos al inicio o al final de la cadena\n",
        "        if palabra.endswith(\".\"): # el método endswith verifica si la cadena termina con el caracter que le indicamos\n",
        "          palabra = palabra.replace(\".\", \"\")\n",
        "\n",
        "        if len(palabra) > 3 and palabra.isdigit():\n",
        "          fechas.append(int(palabra)) # el método append agrega un elemento a la lista\n",
        "        elif len(palabra) > 5 and \"-\" in palabra: # <-- aquí estamos buscando fechas escritas como AAAA-AAAA\n",
        "          separar_palabras = palabra.split(\"-\")\n",
        "          for sp in separar_palabras:\n",
        "            if sp.isdigit() and len(sp) > 3:\n",
        "              fechas.append(int(sp))\n",
        "        elif len(palabra) > 5 and \".\" in palabra: # <-- aquí estamos buscando valores numéricos que tengan un punto en el medio\n",
        "          separar_palabras = palabra.split(\".\")\n",
        "          for sp in separar_palabras:\n",
        "            if sp.isdigit() and len(sp) > 3:\n",
        "              fechas.append(int(sp))\n",
        "\n",
        "    return fechas # devolvemos la lista de fechas"
      ],
      "metadata": {
        "id": "Lym8WTEbfXQD"
      },
      "execution_count": null,
      "outputs": []
    },
    {
      "cell_type": "markdown",
      "source": [
        "Con esta función, ya no tenemos que limitarnos a una biografía, sino que podemos extraer las fechas de cualquier biografía:\n",
        "\n"
      ],
      "metadata": {
        "id": "X0Tf0ylIfq_g"
      }
    },
    {
      "cell_type": "code",
      "source": [
        "# Tomamos el primer párrafo de la biografía en español de Wikipedia\n",
        "\n",
        "Cervantes = \"Miguel de Cervantes Saavedra (Alcalá de Henares,4​ 29 de septiembre de 1547-Madrid, 22 de abril3​ de 1616) fue un novelista, poeta, dramaturgo y soldado español.\"\n",
        "Quevedo = \"Francisco Gómez de Quevedo Villegas y Santibáñez Cevallos (Madrid, 14 de septiembre de 1580-Villanueva de los Infantes, Ciudad Real, 8 de septiembre de 1645) fue un noble, político y escritor español del Siglo de Oro.\"\n",
        "Calderon = \"Pedro Calderón de la Barca (Madrid, 17 de enero de 1600-25 de mayo de 1681) fue un escritor español, sacerdote católico, miembro de la Venerable Congregación de Presbíteros Seculares Naturales de Madrid San Pedro Apóstol y caballero de la Orden de Santiago, conocido fundamentalmente por ser uno de los más insignes literatos barrocos del Siglo de Oro, en especial por su teatro.\"\n",
        "\n",
        "bios = [Cervantes, Quevedo, Calderon]\n",
        "\n",
        "for b in bios:\n",
        "  fechas = extraer_fechas(b)\n",
        "  print(fechas)"
      ],
      "metadata": {
        "colab": {
          "base_uri": "https://localhost:8080/"
        },
        "id": "1nkSbXHifsie",
        "outputId": "3e4d9f33-3c29-43f1-fd69-a617713d49d2"
      },
      "execution_count": null,
      "outputs": [
        {
          "output_type": "stream",
          "name": "stdout",
          "text": [
            "[1547, 1616]\n",
            "[1580, 1645]\n",
            "[1600, 1681]\n"
          ]
        }
      ]
    }
  ]
}