{
  "nbformat": 4,
  "nbformat_minor": 0,
  "metadata": {
    "colab": {
      "provenance": [],
      "authorship_tag": "ABX9TyNg7jbnROklPUduRdGqBun8",
      "include_colab_link": true
    },
    "kernelspec": {
      "name": "python3",
      "display_name": "Python 3"
    },
    "language_info": {
      "name": "python"
    }
  },
  "cells": [
    {
      "cell_type": "markdown",
      "metadata": {
        "id": "view-in-github",
        "colab_type": "text"
      },
      "source": [
        "<a href=\"https://colab.research.google.com/github/JavierHerreraPadilla/powerbi_sierracol/blob/main/pandas_series_y_df.ipynb\" target=\"_parent\"><img src=\"https://colab.research.google.com/assets/colab-badge.svg\" alt=\"Open In Colab\"/></a>"
      ]
    },
    {
      "cell_type": "markdown",
      "source": [
        "*Series\n",
        "\n",
        "\n",
        "\n"
      ],
      "metadata": {
        "id": "NCX_zJOM1t_0"
      }
    },
    {
      "cell_type": "code",
      "execution_count": null,
      "metadata": {
        "id": "fy18NbAS1i9r"
      },
      "outputs": [],
      "source": [
        "import numpy as np\n",
        "from numpy.random import randint, randn\n",
        "import pandas as pd"
      ]
    },
    {
      "cell_type": "code",
      "source": [
        "letras = [\"a\", \"b\", \"c\"]\n",
        "mi_data = [1,2,3]\n",
        "arr = np.array(mi_data)\n",
        "d = {\"a\": 10, \"b\": 20, \"c\":30}"
      ],
      "metadata": {
        "id": "60Phik9h1xH9"
      },
      "execution_count": null,
      "outputs": []
    },
    {
      "cell_type": "markdown",
      "source": [
        "las series tienen muchos argumentos: mas importantes data e index"
      ],
      "metadata": {
        "id": "lO-o-qur31sk"
      }
    },
    {
      "cell_type": "code",
      "source": [
        "pd.Series(data=mi_data)"
      ],
      "metadata": {
        "colab": {
          "base_uri": "https://localhost:8080/"
        },
        "id": "DAp6c3bT19Au",
        "outputId": "ccd3576c-17ec-4284-a3bd-d29539557702"
      },
      "execution_count": null,
      "outputs": [
        {
          "output_type": "execute_result",
          "data": {
            "text/plain": [
              "0    1\n",
              "1    2\n",
              "2    3\n",
              "dtype: int64"
            ]
          },
          "metadata": {},
          "execution_count": 5
        }
      ]
    },
    {
      "cell_type": "code",
      "source": [
        "#Se puede especificar el índice con el argumento index\n",
        "pd.Series(data=mi_data, index=letras)"
      ],
      "metadata": {
        "colab": {
          "base_uri": "https://localhost:8080/"
        },
        "id": "UyD2M-e14DRu",
        "outputId": "720f125d-38db-467a-a79f-de2f87b4ce48"
      },
      "execution_count": null,
      "outputs": [
        {
          "output_type": "execute_result",
          "data": {
            "text/plain": [
              "a    1\n",
              "b    2\n",
              "c    3\n",
              "dtype: int64"
            ]
          },
          "metadata": {},
          "execution_count": 6
        }
      ]
    },
    {
      "cell_type": "code",
      "source": [
        "# con el array\n",
        "pd.Series(mi_data, letras)"
      ],
      "metadata": {
        "colab": {
          "base_uri": "https://localhost:8080/"
        },
        "id": "QhsKl6fr3L0H",
        "outputId": "881618a2-30a5-447d-e0ac-f85a61d2436b"
      },
      "execution_count": null,
      "outputs": [
        {
          "output_type": "execute_result",
          "data": {
            "text/plain": [
              "a    1\n",
              "b    2\n",
              "c    3\n",
              "dtype: int64"
            ]
          },
          "metadata": {},
          "execution_count": 7
        }
      ]
    },
    {
      "cell_type": "code",
      "source": [
        "#Con el diccionario\n",
        "pd.Series(d)"
      ],
      "metadata": {
        "colab": {
          "base_uri": "https://localhost:8080/"
        },
        "id": "i65c40KH4nDk",
        "outputId": "43fade9b-378f-4d60-b05d-78e73d26c0c0"
      },
      "execution_count": null,
      "outputs": [
        {
          "output_type": "execute_result",
          "data": {
            "text/plain": [
              "a    10\n",
              "b    20\n",
              "c    30\n",
              "dtype: int64"
            ]
          },
          "metadata": {},
          "execution_count": 8
        }
      ]
    },
    {
      "cell_type": "code",
      "source": [
        "# Una serie puede contener cualquier tipo de dato\n",
        "pd.Series(letras)"
      ],
      "metadata": {
        "colab": {
          "base_uri": "https://localhost:8080/"
        },
        "id": "_VmhGOje4ubH",
        "outputId": "477cd784-a50a-42d9-e35e-37a3d8120071"
      },
      "execution_count": null,
      "outputs": [
        {
          "output_type": "execute_result",
          "data": {
            "text/plain": [
              "0    a\n",
              "1    b\n",
              "2    c\n",
              "dtype: object"
            ]
          },
          "metadata": {},
          "execution_count": 9
        }
      ]
    },
    {
      "cell_type": "code",
      "source": [
        "#usar los ínidice para usar y buscar información\n",
        "ser1 = pd.Series([1,2,3,4], [\"usa\", \"germany\", \"russ\", \"japan\"])"
      ],
      "metadata": {
        "id": "LQZGXpHS456B"
      },
      "execution_count": null,
      "outputs": []
    },
    {
      "cell_type": "code",
      "source": [
        "ser1"
      ],
      "metadata": {
        "colab": {
          "base_uri": "https://localhost:8080/"
        },
        "id": "3rnUZRjc5LhL",
        "outputId": "a827fb21-71b5-4ce0-8fc3-ba817fb22bdb"
      },
      "execution_count": null,
      "outputs": [
        {
          "output_type": "execute_result",
          "data": {
            "text/plain": [
              "usa        1\n",
              "germany    2\n",
              "russ       3\n",
              "japan      4\n",
              "dtype: int64"
            ]
          },
          "metadata": {},
          "execution_count": 11
        }
      ]
    },
    {
      "cell_type": "code",
      "source": [
        "ser2 = pd.Series([1,2,5,4], [\"usa\", \"germany\", \"italy\", \"japan\"])\n",
        "ser2"
      ],
      "metadata": {
        "colab": {
          "base_uri": "https://localhost:8080/"
        },
        "id": "dYg5WXXJ5N2q",
        "outputId": "d8a4aade-df52-4620-a74f-d4f8849944c7"
      },
      "execution_count": null,
      "outputs": [
        {
          "output_type": "execute_result",
          "data": {
            "text/plain": [
              "usa        1\n",
              "germany    2\n",
              "italy      5\n",
              "japan      4\n",
              "dtype: int64"
            ]
          },
          "metadata": {},
          "execution_count": 12
        }
      ]
    },
    {
      "cell_type": "code",
      "source": [
        "#seleccionar datos\n",
        "ser1[\"usa\"]"
      ],
      "metadata": {
        "colab": {
          "base_uri": "https://localhost:8080/"
        },
        "id": "5N14VgiO5Zyn",
        "outputId": "1d042f79-74fc-4b63-e2f9-a9e27083ab59"
      },
      "execution_count": null,
      "outputs": [
        {
          "output_type": "execute_result",
          "data": {
            "text/plain": [
              "1"
            ]
          },
          "metadata": {},
          "execution_count": 13
        }
      ]
    },
    {
      "cell_type": "code",
      "source": [
        "ser3 = pd.Series(data=letras)\n",
        "ser3[0]"
      ],
      "metadata": {
        "colab": {
          "base_uri": "https://localhost:8080/",
          "height": 35
        },
        "id": "gOa94LGf5lkG",
        "outputId": "df8e272a-fb6d-4b96-9c8c-0cc3d6bc99d9"
      },
      "execution_count": null,
      "outputs": [
        {
          "output_type": "execute_result",
          "data": {
            "text/plain": [
              "'a'"
            ],
            "application/vnd.google.colaboratory.intrinsic+json": {
              "type": "string"
            }
          },
          "metadata": {},
          "execution_count": 14
        }
      ]
    },
    {
      "cell_type": "code",
      "source": [
        "# las operaciones básicas en las series se realizan con los indices\n",
        "ser1 + ser2"
      ],
      "metadata": {
        "colab": {
          "base_uri": "https://localhost:8080/"
        },
        "id": "xYcIUZeI5zu8",
        "outputId": "c0ff1c2c-6b54-43b2-9d0d-1c3c1adf69dc"
      },
      "execution_count": null,
      "outputs": [
        {
          "output_type": "execute_result",
          "data": {
            "text/plain": [
              "germany    4.0\n",
              "italy      NaN\n",
              "japan      8.0\n",
              "russ       NaN\n",
              "usa        2.0\n",
              "dtype: float64"
            ]
          },
          "metadata": {},
          "execution_count": 15
        }
      ]
    },
    {
      "cell_type": "code",
      "source": [],
      "metadata": {
        "id": "O2ICI7N76RwS"
      },
      "execution_count": null,
      "outputs": []
    },
    {
      "cell_type": "markdown",
      "source": [
        "DATAFRAMES\n"
      ],
      "metadata": {
        "id": "ghe3S1WE6Sf0"
      }
    },
    {
      "cell_type": "code",
      "source": [
        "np.random.seed(101)"
      ],
      "metadata": {
        "id": "5azuR8w76U0b"
      },
      "execution_count": null,
      "outputs": []
    },
    {
      "cell_type": "code",
      "source": [
        "df = pd.DataFrame(randn(5,4), [\"a\", \"b\", \"c\", \"d\", \"e\"], [\"x\", \"y\", \"w\", \"z\"])\n",
        "df\n",
        "# un dataframe es un conjunto de series"
      ],
      "metadata": {
        "colab": {
          "base_uri": "https://localhost:8080/",
          "height": 206
        },
        "id": "Eprf4FzR6ffP",
        "outputId": "7e001705-9339-465f-96e4-d321314a6779"
      },
      "execution_count": null,
      "outputs": [
        {
          "output_type": "execute_result",
          "data": {
            "text/plain": [
              "          x         y         w         z\n",
              "a  2.706850  0.628133  0.907969  0.503826\n",
              "b  0.651118 -0.319318 -0.848077  0.605965\n",
              "c -2.018168  0.740122  0.528813 -0.589001\n",
              "d  0.188695 -0.758872 -0.933237  0.955057\n",
              "e  0.190794  1.978757  2.605967  0.683509"
            ],
            "text/html": [
              "\n",
              "\n",
              "  <div id=\"df-f82e1887-868b-4277-ac72-627144e2698a\">\n",
              "    <div class=\"colab-df-container\">\n",
              "      <div>\n",
              "<style scoped>\n",
              "    .dataframe tbody tr th:only-of-type {\n",
              "        vertical-align: middle;\n",
              "    }\n",
              "\n",
              "    .dataframe tbody tr th {\n",
              "        vertical-align: top;\n",
              "    }\n",
              "\n",
              "    .dataframe thead th {\n",
              "        text-align: right;\n",
              "    }\n",
              "</style>\n",
              "<table border=\"1\" class=\"dataframe\">\n",
              "  <thead>\n",
              "    <tr style=\"text-align: right;\">\n",
              "      <th></th>\n",
              "      <th>x</th>\n",
              "      <th>y</th>\n",
              "      <th>w</th>\n",
              "      <th>z</th>\n",
              "    </tr>\n",
              "  </thead>\n",
              "  <tbody>\n",
              "    <tr>\n",
              "      <th>a</th>\n",
              "      <td>2.706850</td>\n",
              "      <td>0.628133</td>\n",
              "      <td>0.907969</td>\n",
              "      <td>0.503826</td>\n",
              "    </tr>\n",
              "    <tr>\n",
              "      <th>b</th>\n",
              "      <td>0.651118</td>\n",
              "      <td>-0.319318</td>\n",
              "      <td>-0.848077</td>\n",
              "      <td>0.605965</td>\n",
              "    </tr>\n",
              "    <tr>\n",
              "      <th>c</th>\n",
              "      <td>-2.018168</td>\n",
              "      <td>0.740122</td>\n",
              "      <td>0.528813</td>\n",
              "      <td>-0.589001</td>\n",
              "    </tr>\n",
              "    <tr>\n",
              "      <th>d</th>\n",
              "      <td>0.188695</td>\n",
              "      <td>-0.758872</td>\n",
              "      <td>-0.933237</td>\n",
              "      <td>0.955057</td>\n",
              "    </tr>\n",
              "    <tr>\n",
              "      <th>e</th>\n",
              "      <td>0.190794</td>\n",
              "      <td>1.978757</td>\n",
              "      <td>2.605967</td>\n",
              "      <td>0.683509</td>\n",
              "    </tr>\n",
              "  </tbody>\n",
              "</table>\n",
              "</div>\n",
              "      <button class=\"colab-df-convert\" onclick=\"convertToInteractive('df-f82e1887-868b-4277-ac72-627144e2698a')\"\n",
              "              title=\"Convert this dataframe to an interactive table.\"\n",
              "              style=\"display:none;\">\n",
              "\n",
              "  <svg xmlns=\"http://www.w3.org/2000/svg\" height=\"24px\"viewBox=\"0 0 24 24\"\n",
              "       width=\"24px\">\n",
              "    <path d=\"M0 0h24v24H0V0z\" fill=\"none\"/>\n",
              "    <path d=\"M18.56 5.44l.94 2.06.94-2.06 2.06-.94-2.06-.94-.94-2.06-.94 2.06-2.06.94zm-11 1L8.5 8.5l.94-2.06 2.06-.94-2.06-.94L8.5 2.5l-.94 2.06-2.06.94zm10 10l.94 2.06.94-2.06 2.06-.94-2.06-.94-.94-2.06-.94 2.06-2.06.94z\"/><path d=\"M17.41 7.96l-1.37-1.37c-.4-.4-.92-.59-1.43-.59-.52 0-1.04.2-1.43.59L10.3 9.45l-7.72 7.72c-.78.78-.78 2.05 0 2.83L4 21.41c.39.39.9.59 1.41.59.51 0 1.02-.2 1.41-.59l7.78-7.78 2.81-2.81c.8-.78.8-2.07 0-2.86zM5.41 20L4 18.59l7.72-7.72 1.47 1.35L5.41 20z\"/>\n",
              "  </svg>\n",
              "      </button>\n",
              "\n",
              "\n",
              "\n",
              "    <div id=\"df-40a0e6a4-03de-49c3-8cf0-a873bb77f610\">\n",
              "      <button class=\"colab-df-quickchart\" onclick=\"quickchart('df-40a0e6a4-03de-49c3-8cf0-a873bb77f610')\"\n",
              "              title=\"Suggest charts.\"\n",
              "              style=\"display:none;\">\n",
              "\n",
              "<svg xmlns=\"http://www.w3.org/2000/svg\" height=\"24px\"viewBox=\"0 0 24 24\"\n",
              "     width=\"24px\">\n",
              "    <g>\n",
              "        <path d=\"M19 3H5c-1.1 0-2 .9-2 2v14c0 1.1.9 2 2 2h14c1.1 0 2-.9 2-2V5c0-1.1-.9-2-2-2zM9 17H7v-7h2v7zm4 0h-2V7h2v10zm4 0h-2v-4h2v4z\"/>\n",
              "    </g>\n",
              "</svg>\n",
              "      </button>\n",
              "    </div>\n",
              "\n",
              "<style>\n",
              "  .colab-df-quickchart {\n",
              "    background-color: #E8F0FE;\n",
              "    border: none;\n",
              "    border-radius: 50%;\n",
              "    cursor: pointer;\n",
              "    display: none;\n",
              "    fill: #1967D2;\n",
              "    height: 32px;\n",
              "    padding: 0 0 0 0;\n",
              "    width: 32px;\n",
              "  }\n",
              "\n",
              "  .colab-df-quickchart:hover {\n",
              "    background-color: #E2EBFA;\n",
              "    box-shadow: 0px 1px 2px rgba(60, 64, 67, 0.3), 0px 1px 3px 1px rgba(60, 64, 67, 0.15);\n",
              "    fill: #174EA6;\n",
              "  }\n",
              "\n",
              "  [theme=dark] .colab-df-quickchart {\n",
              "    background-color: #3B4455;\n",
              "    fill: #D2E3FC;\n",
              "  }\n",
              "\n",
              "  [theme=dark] .colab-df-quickchart:hover {\n",
              "    background-color: #434B5C;\n",
              "    box-shadow: 0px 1px 3px 1px rgba(0, 0, 0, 0.15);\n",
              "    filter: drop-shadow(0px 1px 2px rgba(0, 0, 0, 0.3));\n",
              "    fill: #FFFFFF;\n",
              "  }\n",
              "</style>\n",
              "\n",
              "    <script>\n",
              "      async function quickchart(key) {\n",
              "        const containerElement = document.querySelector('#' + key);\n",
              "        const charts = await google.colab.kernel.invokeFunction(\n",
              "            'suggestCharts', [key], {});\n",
              "      }\n",
              "    </script>\n",
              "\n",
              "      <script>\n",
              "\n",
              "function displayQuickchartButton(domScope) {\n",
              "  let quickchartButtonEl =\n",
              "    domScope.querySelector('#df-40a0e6a4-03de-49c3-8cf0-a873bb77f610 button.colab-df-quickchart');\n",
              "  quickchartButtonEl.style.display =\n",
              "    google.colab.kernel.accessAllowed ? 'block' : 'none';\n",
              "}\n",
              "\n",
              "        displayQuickchartButton(document);\n",
              "      </script>\n",
              "      <style>\n",
              "    .colab-df-container {\n",
              "      display:flex;\n",
              "      flex-wrap:wrap;\n",
              "      gap: 12px;\n",
              "    }\n",
              "\n",
              "    .colab-df-convert {\n",
              "      background-color: #E8F0FE;\n",
              "      border: none;\n",
              "      border-radius: 50%;\n",
              "      cursor: pointer;\n",
              "      display: none;\n",
              "      fill: #1967D2;\n",
              "      height: 32px;\n",
              "      padding: 0 0 0 0;\n",
              "      width: 32px;\n",
              "    }\n",
              "\n",
              "    .colab-df-convert:hover {\n",
              "      background-color: #E2EBFA;\n",
              "      box-shadow: 0px 1px 2px rgba(60, 64, 67, 0.3), 0px 1px 3px 1px rgba(60, 64, 67, 0.15);\n",
              "      fill: #174EA6;\n",
              "    }\n",
              "\n",
              "    [theme=dark] .colab-df-convert {\n",
              "      background-color: #3B4455;\n",
              "      fill: #D2E3FC;\n",
              "    }\n",
              "\n",
              "    [theme=dark] .colab-df-convert:hover {\n",
              "      background-color: #434B5C;\n",
              "      box-shadow: 0px 1px 3px 1px rgba(0, 0, 0, 0.15);\n",
              "      filter: drop-shadow(0px 1px 2px rgba(0, 0, 0, 0.3));\n",
              "      fill: #FFFFFF;\n",
              "    }\n",
              "  </style>\n",
              "\n",
              "      <script>\n",
              "        const buttonEl =\n",
              "          document.querySelector('#df-f82e1887-868b-4277-ac72-627144e2698a button.colab-df-convert');\n",
              "        buttonEl.style.display =\n",
              "          google.colab.kernel.accessAllowed ? 'block' : 'none';\n",
              "\n",
              "        async function convertToInteractive(key) {\n",
              "          const element = document.querySelector('#df-f82e1887-868b-4277-ac72-627144e2698a');\n",
              "          const dataTable =\n",
              "            await google.colab.kernel.invokeFunction('convertToInteractive',\n",
              "                                                     [key], {});\n",
              "          if (!dataTable) return;\n",
              "\n",
              "          const docLinkHtml = 'Like what you see? Visit the ' +\n",
              "            '<a target=\"_blank\" href=https://colab.research.google.com/notebooks/data_table.ipynb>data table notebook</a>'\n",
              "            + ' to learn more about interactive tables.';\n",
              "          element.innerHTML = '';\n",
              "          dataTable['output_type'] = 'display_data';\n",
              "          await google.colab.output.renderOutput(dataTable, element);\n",
              "          const docLink = document.createElement('div');\n",
              "          docLink.innerHTML = docLinkHtml;\n",
              "          element.appendChild(docLink);\n",
              "        }\n",
              "      </script>\n",
              "    </div>\n",
              "  </div>\n"
            ]
          },
          "metadata": {},
          "execution_count": 17
        }
      ]
    },
    {
      "cell_type": "code",
      "source": [
        "# Seleccionar columnas\n",
        "df[\"x\"]"
      ],
      "metadata": {
        "colab": {
          "base_uri": "https://localhost:8080/"
        },
        "id": "tFsXrBL67W-q",
        "outputId": "62395444-78e3-42b8-f6f1-b878ec94c357"
      },
      "execution_count": null,
      "outputs": [
        {
          "output_type": "execute_result",
          "data": {
            "text/plain": [
              "a    2.706850\n",
              "b    0.651118\n",
              "c   -2.018168\n",
              "d    0.188695\n",
              "e    0.190794\n",
              "Name: x, dtype: float64"
            ]
          },
          "metadata": {},
          "execution_count": 18
        }
      ]
    },
    {
      "cell_type": "code",
      "source": [
        "type(df[\"x\"])"
      ],
      "metadata": {
        "colab": {
          "base_uri": "https://localhost:8080/"
        },
        "id": "PQzt8thO7epg",
        "outputId": "70e4d05a-3ab3-4b14-d55b-809411d4b6d0"
      },
      "execution_count": null,
      "outputs": [
        {
          "output_type": "execute_result",
          "data": {
            "text/plain": [
              "pandas.core.series.Series"
            ]
          },
          "metadata": {},
          "execution_count": 19
        }
      ]
    },
    {
      "cell_type": "code",
      "source": [
        "#también se puede seleccionar columna con la notación de punto - no usar se puede confundir con funciones\n",
        "df.x"
      ],
      "metadata": {
        "colab": {
          "base_uri": "https://localhost:8080/"
        },
        "id": "7pr7_rEF7jf9",
        "outputId": "d9e4c900-b336-4e59-d781-89b8fc7e9bed"
      },
      "execution_count": null,
      "outputs": [
        {
          "output_type": "execute_result",
          "data": {
            "text/plain": [
              "a    2.706850\n",
              "b    0.651118\n",
              "c   -2.018168\n",
              "d    0.188695\n",
              "e    0.190794\n",
              "Name: x, dtype: float64"
            ]
          },
          "metadata": {},
          "execution_count": 20
        }
      ]
    },
    {
      "cell_type": "code",
      "source": [
        "#multiples columnas\n",
        "df[[\"x\", \"z\"]]"
      ],
      "metadata": {
        "colab": {
          "base_uri": "https://localhost:8080/",
          "height": 206
        },
        "id": "ivuUFw737t7V",
        "outputId": "fa607777-f67e-439c-f2b6-c386f8bde845"
      },
      "execution_count": null,
      "outputs": [
        {
          "output_type": "execute_result",
          "data": {
            "text/plain": [
              "          x         z\n",
              "a  2.706850  0.503826\n",
              "b  0.651118  0.605965\n",
              "c -2.018168 -0.589001\n",
              "d  0.188695  0.955057\n",
              "e  0.190794  0.683509"
            ],
            "text/html": [
              "\n",
              "\n",
              "  <div id=\"df-a245dbdc-fb63-4c22-8402-22cd0c11b7c8\">\n",
              "    <div class=\"colab-df-container\">\n",
              "      <div>\n",
              "<style scoped>\n",
              "    .dataframe tbody tr th:only-of-type {\n",
              "        vertical-align: middle;\n",
              "    }\n",
              "\n",
              "    .dataframe tbody tr th {\n",
              "        vertical-align: top;\n",
              "    }\n",
              "\n",
              "    .dataframe thead th {\n",
              "        text-align: right;\n",
              "    }\n",
              "</style>\n",
              "<table border=\"1\" class=\"dataframe\">\n",
              "  <thead>\n",
              "    <tr style=\"text-align: right;\">\n",
              "      <th></th>\n",
              "      <th>x</th>\n",
              "      <th>z</th>\n",
              "    </tr>\n",
              "  </thead>\n",
              "  <tbody>\n",
              "    <tr>\n",
              "      <th>a</th>\n",
              "      <td>2.706850</td>\n",
              "      <td>0.503826</td>\n",
              "    </tr>\n",
              "    <tr>\n",
              "      <th>b</th>\n",
              "      <td>0.651118</td>\n",
              "      <td>0.605965</td>\n",
              "    </tr>\n",
              "    <tr>\n",
              "      <th>c</th>\n",
              "      <td>-2.018168</td>\n",
              "      <td>-0.589001</td>\n",
              "    </tr>\n",
              "    <tr>\n",
              "      <th>d</th>\n",
              "      <td>0.188695</td>\n",
              "      <td>0.955057</td>\n",
              "    </tr>\n",
              "    <tr>\n",
              "      <th>e</th>\n",
              "      <td>0.190794</td>\n",
              "      <td>0.683509</td>\n",
              "    </tr>\n",
              "  </tbody>\n",
              "</table>\n",
              "</div>\n",
              "      <button class=\"colab-df-convert\" onclick=\"convertToInteractive('df-a245dbdc-fb63-4c22-8402-22cd0c11b7c8')\"\n",
              "              title=\"Convert this dataframe to an interactive table.\"\n",
              "              style=\"display:none;\">\n",
              "\n",
              "  <svg xmlns=\"http://www.w3.org/2000/svg\" height=\"24px\"viewBox=\"0 0 24 24\"\n",
              "       width=\"24px\">\n",
              "    <path d=\"M0 0h24v24H0V0z\" fill=\"none\"/>\n",
              "    <path d=\"M18.56 5.44l.94 2.06.94-2.06 2.06-.94-2.06-.94-.94-2.06-.94 2.06-2.06.94zm-11 1L8.5 8.5l.94-2.06 2.06-.94-2.06-.94L8.5 2.5l-.94 2.06-2.06.94zm10 10l.94 2.06.94-2.06 2.06-.94-2.06-.94-.94-2.06-.94 2.06-2.06.94z\"/><path d=\"M17.41 7.96l-1.37-1.37c-.4-.4-.92-.59-1.43-.59-.52 0-1.04.2-1.43.59L10.3 9.45l-7.72 7.72c-.78.78-.78 2.05 0 2.83L4 21.41c.39.39.9.59 1.41.59.51 0 1.02-.2 1.41-.59l7.78-7.78 2.81-2.81c.8-.78.8-2.07 0-2.86zM5.41 20L4 18.59l7.72-7.72 1.47 1.35L5.41 20z\"/>\n",
              "  </svg>\n",
              "      </button>\n",
              "\n",
              "\n",
              "\n",
              "    <div id=\"df-7682a042-dd31-4aa7-942f-ce1dc0f61fc7\">\n",
              "      <button class=\"colab-df-quickchart\" onclick=\"quickchart('df-7682a042-dd31-4aa7-942f-ce1dc0f61fc7')\"\n",
              "              title=\"Suggest charts.\"\n",
              "              style=\"display:none;\">\n",
              "\n",
              "<svg xmlns=\"http://www.w3.org/2000/svg\" height=\"24px\"viewBox=\"0 0 24 24\"\n",
              "     width=\"24px\">\n",
              "    <g>\n",
              "        <path d=\"M19 3H5c-1.1 0-2 .9-2 2v14c0 1.1.9 2 2 2h14c1.1 0 2-.9 2-2V5c0-1.1-.9-2-2-2zM9 17H7v-7h2v7zm4 0h-2V7h2v10zm4 0h-2v-4h2v4z\"/>\n",
              "    </g>\n",
              "</svg>\n",
              "      </button>\n",
              "    </div>\n",
              "\n",
              "<style>\n",
              "  .colab-df-quickchart {\n",
              "    background-color: #E8F0FE;\n",
              "    border: none;\n",
              "    border-radius: 50%;\n",
              "    cursor: pointer;\n",
              "    display: none;\n",
              "    fill: #1967D2;\n",
              "    height: 32px;\n",
              "    padding: 0 0 0 0;\n",
              "    width: 32px;\n",
              "  }\n",
              "\n",
              "  .colab-df-quickchart:hover {\n",
              "    background-color: #E2EBFA;\n",
              "    box-shadow: 0px 1px 2px rgba(60, 64, 67, 0.3), 0px 1px 3px 1px rgba(60, 64, 67, 0.15);\n",
              "    fill: #174EA6;\n",
              "  }\n",
              "\n",
              "  [theme=dark] .colab-df-quickchart {\n",
              "    background-color: #3B4455;\n",
              "    fill: #D2E3FC;\n",
              "  }\n",
              "\n",
              "  [theme=dark] .colab-df-quickchart:hover {\n",
              "    background-color: #434B5C;\n",
              "    box-shadow: 0px 1px 3px 1px rgba(0, 0, 0, 0.15);\n",
              "    filter: drop-shadow(0px 1px 2px rgba(0, 0, 0, 0.3));\n",
              "    fill: #FFFFFF;\n",
              "  }\n",
              "</style>\n",
              "\n",
              "    <script>\n",
              "      async function quickchart(key) {\n",
              "        const containerElement = document.querySelector('#' + key);\n",
              "        const charts = await google.colab.kernel.invokeFunction(\n",
              "            'suggestCharts', [key], {});\n",
              "      }\n",
              "    </script>\n",
              "\n",
              "      <script>\n",
              "\n",
              "function displayQuickchartButton(domScope) {\n",
              "  let quickchartButtonEl =\n",
              "    domScope.querySelector('#df-7682a042-dd31-4aa7-942f-ce1dc0f61fc7 button.colab-df-quickchart');\n",
              "  quickchartButtonEl.style.display =\n",
              "    google.colab.kernel.accessAllowed ? 'block' : 'none';\n",
              "}\n",
              "\n",
              "        displayQuickchartButton(document);\n",
              "      </script>\n",
              "      <style>\n",
              "    .colab-df-container {\n",
              "      display:flex;\n",
              "      flex-wrap:wrap;\n",
              "      gap: 12px;\n",
              "    }\n",
              "\n",
              "    .colab-df-convert {\n",
              "      background-color: #E8F0FE;\n",
              "      border: none;\n",
              "      border-radius: 50%;\n",
              "      cursor: pointer;\n",
              "      display: none;\n",
              "      fill: #1967D2;\n",
              "      height: 32px;\n",
              "      padding: 0 0 0 0;\n",
              "      width: 32px;\n",
              "    }\n",
              "\n",
              "    .colab-df-convert:hover {\n",
              "      background-color: #E2EBFA;\n",
              "      box-shadow: 0px 1px 2px rgba(60, 64, 67, 0.3), 0px 1px 3px 1px rgba(60, 64, 67, 0.15);\n",
              "      fill: #174EA6;\n",
              "    }\n",
              "\n",
              "    [theme=dark] .colab-df-convert {\n",
              "      background-color: #3B4455;\n",
              "      fill: #D2E3FC;\n",
              "    }\n",
              "\n",
              "    [theme=dark] .colab-df-convert:hover {\n",
              "      background-color: #434B5C;\n",
              "      box-shadow: 0px 1px 3px 1px rgba(0, 0, 0, 0.15);\n",
              "      filter: drop-shadow(0px 1px 2px rgba(0, 0, 0, 0.3));\n",
              "      fill: #FFFFFF;\n",
              "    }\n",
              "  </style>\n",
              "\n",
              "      <script>\n",
              "        const buttonEl =\n",
              "          document.querySelector('#df-a245dbdc-fb63-4c22-8402-22cd0c11b7c8 button.colab-df-convert');\n",
              "        buttonEl.style.display =\n",
              "          google.colab.kernel.accessAllowed ? 'block' : 'none';\n",
              "\n",
              "        async function convertToInteractive(key) {\n",
              "          const element = document.querySelector('#df-a245dbdc-fb63-4c22-8402-22cd0c11b7c8');\n",
              "          const dataTable =\n",
              "            await google.colab.kernel.invokeFunction('convertToInteractive',\n",
              "                                                     [key], {});\n",
              "          if (!dataTable) return;\n",
              "\n",
              "          const docLinkHtml = 'Like what you see? Visit the ' +\n",
              "            '<a target=\"_blank\" href=https://colab.research.google.com/notebooks/data_table.ipynb>data table notebook</a>'\n",
              "            + ' to learn more about interactive tables.';\n",
              "          element.innerHTML = '';\n",
              "          dataTable['output_type'] = 'display_data';\n",
              "          await google.colab.output.renderOutput(dataTable, element);\n",
              "          const docLink = document.createElement('div');\n",
              "          docLink.innerHTML = docLinkHtml;\n",
              "          element.appendChild(docLink);\n",
              "        }\n",
              "      </script>\n",
              "    </div>\n",
              "  </div>\n"
            ]
          },
          "metadata": {},
          "execution_count": 21
        }
      ]
    },
    {
      "cell_type": "code",
      "source": [
        "#crear una nueva columna\n",
        "df[\"new\"]"
      ],
      "metadata": {
        "colab": {
          "base_uri": "https://localhost:8080/",
          "height": 503
        },
        "id": "lAT5unzT70L4",
        "outputId": "0e73aba6-4642-429f-e5ca-a45a7eeb3926"
      },
      "execution_count": null,
      "outputs": [
        {
          "output_type": "error",
          "ename": "KeyError",
          "evalue": "ignored",
          "traceback": [
            "\u001b[0;31m---------------------------------------------------------------------------\u001b[0m",
            "\u001b[0;31mKeyError\u001b[0m                                  Traceback (most recent call last)",
            "\u001b[0;32m/usr/local/lib/python3.10/dist-packages/pandas/core/indexes/base.py\u001b[0m in \u001b[0;36mget_loc\u001b[0;34m(self, key, method, tolerance)\u001b[0m\n\u001b[1;32m   3801\u001b[0m             \u001b[0;32mtry\u001b[0m\u001b[0;34m:\u001b[0m\u001b[0;34m\u001b[0m\u001b[0;34m\u001b[0m\u001b[0m\n\u001b[0;32m-> 3802\u001b[0;31m                 \u001b[0;32mreturn\u001b[0m \u001b[0mself\u001b[0m\u001b[0;34m.\u001b[0m\u001b[0m_engine\u001b[0m\u001b[0;34m.\u001b[0m\u001b[0mget_loc\u001b[0m\u001b[0;34m(\u001b[0m\u001b[0mcasted_key\u001b[0m\u001b[0;34m)\u001b[0m\u001b[0;34m\u001b[0m\u001b[0;34m\u001b[0m\u001b[0m\n\u001b[0m\u001b[1;32m   3803\u001b[0m             \u001b[0;32mexcept\u001b[0m \u001b[0mKeyError\u001b[0m \u001b[0;32mas\u001b[0m \u001b[0merr\u001b[0m\u001b[0;34m:\u001b[0m\u001b[0;34m\u001b[0m\u001b[0;34m\u001b[0m\u001b[0m\n",
            "\u001b[0;32m/usr/local/lib/python3.10/dist-packages/pandas/_libs/index.pyx\u001b[0m in \u001b[0;36mpandas._libs.index.IndexEngine.get_loc\u001b[0;34m()\u001b[0m\n",
            "\u001b[0;32m/usr/local/lib/python3.10/dist-packages/pandas/_libs/index.pyx\u001b[0m in \u001b[0;36mpandas._libs.index.IndexEngine.get_loc\u001b[0;34m()\u001b[0m\n",
            "\u001b[0;32mpandas/_libs/hashtable_class_helper.pxi\u001b[0m in \u001b[0;36mpandas._libs.hashtable.PyObjectHashTable.get_item\u001b[0;34m()\u001b[0m\n",
            "\u001b[0;32mpandas/_libs/hashtable_class_helper.pxi\u001b[0m in \u001b[0;36mpandas._libs.hashtable.PyObjectHashTable.get_item\u001b[0;34m()\u001b[0m\n",
            "\u001b[0;31mKeyError\u001b[0m: 'new'",
            "\nThe above exception was the direct cause of the following exception:\n",
            "\u001b[0;31mKeyError\u001b[0m                                  Traceback (most recent call last)",
            "\u001b[0;32m<ipython-input-22-6062e214c3c7>\u001b[0m in \u001b[0;36m<cell line: 2>\u001b[0;34m()\u001b[0m\n\u001b[1;32m      1\u001b[0m \u001b[0;31m#crear una nueva columna\u001b[0m\u001b[0;34m\u001b[0m\u001b[0;34m\u001b[0m\u001b[0m\n\u001b[0;32m----> 2\u001b[0;31m \u001b[0mdf\u001b[0m\u001b[0;34m[\u001b[0m\u001b[0;34m\"new\"\u001b[0m\u001b[0;34m]\u001b[0m\u001b[0;34m\u001b[0m\u001b[0;34m\u001b[0m\u001b[0m\n\u001b[0m",
            "\u001b[0;32m/usr/local/lib/python3.10/dist-packages/pandas/core/frame.py\u001b[0m in \u001b[0;36m__getitem__\u001b[0;34m(self, key)\u001b[0m\n\u001b[1;32m   3805\u001b[0m             \u001b[0;32mif\u001b[0m \u001b[0mself\u001b[0m\u001b[0;34m.\u001b[0m\u001b[0mcolumns\u001b[0m\u001b[0;34m.\u001b[0m\u001b[0mnlevels\u001b[0m \u001b[0;34m>\u001b[0m \u001b[0;36m1\u001b[0m\u001b[0;34m:\u001b[0m\u001b[0;34m\u001b[0m\u001b[0;34m\u001b[0m\u001b[0m\n\u001b[1;32m   3806\u001b[0m                 \u001b[0;32mreturn\u001b[0m \u001b[0mself\u001b[0m\u001b[0;34m.\u001b[0m\u001b[0m_getitem_multilevel\u001b[0m\u001b[0;34m(\u001b[0m\u001b[0mkey\u001b[0m\u001b[0;34m)\u001b[0m\u001b[0;34m\u001b[0m\u001b[0;34m\u001b[0m\u001b[0m\n\u001b[0;32m-> 3807\u001b[0;31m             \u001b[0mindexer\u001b[0m \u001b[0;34m=\u001b[0m \u001b[0mself\u001b[0m\u001b[0;34m.\u001b[0m\u001b[0mcolumns\u001b[0m\u001b[0;34m.\u001b[0m\u001b[0mget_loc\u001b[0m\u001b[0;34m(\u001b[0m\u001b[0mkey\u001b[0m\u001b[0;34m)\u001b[0m\u001b[0;34m\u001b[0m\u001b[0;34m\u001b[0m\u001b[0m\n\u001b[0m\u001b[1;32m   3808\u001b[0m             \u001b[0;32mif\u001b[0m \u001b[0mis_integer\u001b[0m\u001b[0;34m(\u001b[0m\u001b[0mindexer\u001b[0m\u001b[0;34m)\u001b[0m\u001b[0;34m:\u001b[0m\u001b[0;34m\u001b[0m\u001b[0;34m\u001b[0m\u001b[0m\n\u001b[1;32m   3809\u001b[0m                 \u001b[0mindexer\u001b[0m \u001b[0;34m=\u001b[0m \u001b[0;34m[\u001b[0m\u001b[0mindexer\u001b[0m\u001b[0;34m]\u001b[0m\u001b[0;34m\u001b[0m\u001b[0;34m\u001b[0m\u001b[0m\n",
            "\u001b[0;32m/usr/local/lib/python3.10/dist-packages/pandas/core/indexes/base.py\u001b[0m in \u001b[0;36mget_loc\u001b[0;34m(self, key, method, tolerance)\u001b[0m\n\u001b[1;32m   3802\u001b[0m                 \u001b[0;32mreturn\u001b[0m \u001b[0mself\u001b[0m\u001b[0;34m.\u001b[0m\u001b[0m_engine\u001b[0m\u001b[0;34m.\u001b[0m\u001b[0mget_loc\u001b[0m\u001b[0;34m(\u001b[0m\u001b[0mcasted_key\u001b[0m\u001b[0;34m)\u001b[0m\u001b[0;34m\u001b[0m\u001b[0;34m\u001b[0m\u001b[0m\n\u001b[1;32m   3803\u001b[0m             \u001b[0;32mexcept\u001b[0m \u001b[0mKeyError\u001b[0m \u001b[0;32mas\u001b[0m \u001b[0merr\u001b[0m\u001b[0;34m:\u001b[0m\u001b[0;34m\u001b[0m\u001b[0;34m\u001b[0m\u001b[0m\n\u001b[0;32m-> 3804\u001b[0;31m                 \u001b[0;32mraise\u001b[0m \u001b[0mKeyError\u001b[0m\u001b[0;34m(\u001b[0m\u001b[0mkey\u001b[0m\u001b[0;34m)\u001b[0m \u001b[0;32mfrom\u001b[0m \u001b[0merr\u001b[0m\u001b[0;34m\u001b[0m\u001b[0;34m\u001b[0m\u001b[0m\n\u001b[0m\u001b[1;32m   3805\u001b[0m             \u001b[0;32mexcept\u001b[0m \u001b[0mTypeError\u001b[0m\u001b[0;34m:\u001b[0m\u001b[0;34m\u001b[0m\u001b[0;34m\u001b[0m\u001b[0m\n\u001b[1;32m   3806\u001b[0m                 \u001b[0;31m# If we have a listlike key, _check_indexing_error will raise\u001b[0m\u001b[0;34m\u001b[0m\u001b[0;34m\u001b[0m\u001b[0m\n",
            "\u001b[0;31mKeyError\u001b[0m: 'new'"
          ]
        }
      ]
    },
    {
      "cell_type": "code",
      "source": [
        "df[\"new\"] = df[\"x\"] + df.y"
      ],
      "metadata": {
        "id": "JiQXK-oi74ow"
      },
      "execution_count": null,
      "outputs": []
    },
    {
      "cell_type": "code",
      "source": [
        "df"
      ],
      "metadata": {
        "colab": {
          "base_uri": "https://localhost:8080/",
          "height": 206
        },
        "id": "gUUkMKxe8Atv",
        "outputId": "1890b6a8-cabe-47cc-ab80-37699a2604b6"
      },
      "execution_count": null,
      "outputs": [
        {
          "output_type": "execute_result",
          "data": {
            "text/plain": [
              "          x         y         w         z       new\n",
              "a  2.706850  0.628133  0.907969  0.503826  3.334983\n",
              "b  0.651118 -0.319318 -0.848077  0.605965  0.331800\n",
              "c -2.018168  0.740122  0.528813 -0.589001 -1.278046\n",
              "d  0.188695 -0.758872 -0.933237  0.955057 -0.570177\n",
              "e  0.190794  1.978757  2.605967  0.683509  2.169552"
            ],
            "text/html": [
              "\n",
              "\n",
              "  <div id=\"df-3b6eaa4c-4217-478f-845d-ee44b90b07b3\">\n",
              "    <div class=\"colab-df-container\">\n",
              "      <div>\n",
              "<style scoped>\n",
              "    .dataframe tbody tr th:only-of-type {\n",
              "        vertical-align: middle;\n",
              "    }\n",
              "\n",
              "    .dataframe tbody tr th {\n",
              "        vertical-align: top;\n",
              "    }\n",
              "\n",
              "    .dataframe thead th {\n",
              "        text-align: right;\n",
              "    }\n",
              "</style>\n",
              "<table border=\"1\" class=\"dataframe\">\n",
              "  <thead>\n",
              "    <tr style=\"text-align: right;\">\n",
              "      <th></th>\n",
              "      <th>x</th>\n",
              "      <th>y</th>\n",
              "      <th>w</th>\n",
              "      <th>z</th>\n",
              "      <th>new</th>\n",
              "    </tr>\n",
              "  </thead>\n",
              "  <tbody>\n",
              "    <tr>\n",
              "      <th>a</th>\n",
              "      <td>2.706850</td>\n",
              "      <td>0.628133</td>\n",
              "      <td>0.907969</td>\n",
              "      <td>0.503826</td>\n",
              "      <td>3.334983</td>\n",
              "    </tr>\n",
              "    <tr>\n",
              "      <th>b</th>\n",
              "      <td>0.651118</td>\n",
              "      <td>-0.319318</td>\n",
              "      <td>-0.848077</td>\n",
              "      <td>0.605965</td>\n",
              "      <td>0.331800</td>\n",
              "    </tr>\n",
              "    <tr>\n",
              "      <th>c</th>\n",
              "      <td>-2.018168</td>\n",
              "      <td>0.740122</td>\n",
              "      <td>0.528813</td>\n",
              "      <td>-0.589001</td>\n",
              "      <td>-1.278046</td>\n",
              "    </tr>\n",
              "    <tr>\n",
              "      <th>d</th>\n",
              "      <td>0.188695</td>\n",
              "      <td>-0.758872</td>\n",
              "      <td>-0.933237</td>\n",
              "      <td>0.955057</td>\n",
              "      <td>-0.570177</td>\n",
              "    </tr>\n",
              "    <tr>\n",
              "      <th>e</th>\n",
              "      <td>0.190794</td>\n",
              "      <td>1.978757</td>\n",
              "      <td>2.605967</td>\n",
              "      <td>0.683509</td>\n",
              "      <td>2.169552</td>\n",
              "    </tr>\n",
              "  </tbody>\n",
              "</table>\n",
              "</div>\n",
              "      <button class=\"colab-df-convert\" onclick=\"convertToInteractive('df-3b6eaa4c-4217-478f-845d-ee44b90b07b3')\"\n",
              "              title=\"Convert this dataframe to an interactive table.\"\n",
              "              style=\"display:none;\">\n",
              "\n",
              "  <svg xmlns=\"http://www.w3.org/2000/svg\" height=\"24px\"viewBox=\"0 0 24 24\"\n",
              "       width=\"24px\">\n",
              "    <path d=\"M0 0h24v24H0V0z\" fill=\"none\"/>\n",
              "    <path d=\"M18.56 5.44l.94 2.06.94-2.06 2.06-.94-2.06-.94-.94-2.06-.94 2.06-2.06.94zm-11 1L8.5 8.5l.94-2.06 2.06-.94-2.06-.94L8.5 2.5l-.94 2.06-2.06.94zm10 10l.94 2.06.94-2.06 2.06-.94-2.06-.94-.94-2.06-.94 2.06-2.06.94z\"/><path d=\"M17.41 7.96l-1.37-1.37c-.4-.4-.92-.59-1.43-.59-.52 0-1.04.2-1.43.59L10.3 9.45l-7.72 7.72c-.78.78-.78 2.05 0 2.83L4 21.41c.39.39.9.59 1.41.59.51 0 1.02-.2 1.41-.59l7.78-7.78 2.81-2.81c.8-.78.8-2.07 0-2.86zM5.41 20L4 18.59l7.72-7.72 1.47 1.35L5.41 20z\"/>\n",
              "  </svg>\n",
              "      </button>\n",
              "\n",
              "\n",
              "\n",
              "    <div id=\"df-d7949e0b-9be8-49e4-9147-8e0fb3554135\">\n",
              "      <button class=\"colab-df-quickchart\" onclick=\"quickchart('df-d7949e0b-9be8-49e4-9147-8e0fb3554135')\"\n",
              "              title=\"Suggest charts.\"\n",
              "              style=\"display:none;\">\n",
              "\n",
              "<svg xmlns=\"http://www.w3.org/2000/svg\" height=\"24px\"viewBox=\"0 0 24 24\"\n",
              "     width=\"24px\">\n",
              "    <g>\n",
              "        <path d=\"M19 3H5c-1.1 0-2 .9-2 2v14c0 1.1.9 2 2 2h14c1.1 0 2-.9 2-2V5c0-1.1-.9-2-2-2zM9 17H7v-7h2v7zm4 0h-2V7h2v10zm4 0h-2v-4h2v4z\"/>\n",
              "    </g>\n",
              "</svg>\n",
              "      </button>\n",
              "    </div>\n",
              "\n",
              "<style>\n",
              "  .colab-df-quickchart {\n",
              "    background-color: #E8F0FE;\n",
              "    border: none;\n",
              "    border-radius: 50%;\n",
              "    cursor: pointer;\n",
              "    display: none;\n",
              "    fill: #1967D2;\n",
              "    height: 32px;\n",
              "    padding: 0 0 0 0;\n",
              "    width: 32px;\n",
              "  }\n",
              "\n",
              "  .colab-df-quickchart:hover {\n",
              "    background-color: #E2EBFA;\n",
              "    box-shadow: 0px 1px 2px rgba(60, 64, 67, 0.3), 0px 1px 3px 1px rgba(60, 64, 67, 0.15);\n",
              "    fill: #174EA6;\n",
              "  }\n",
              "\n",
              "  [theme=dark] .colab-df-quickchart {\n",
              "    background-color: #3B4455;\n",
              "    fill: #D2E3FC;\n",
              "  }\n",
              "\n",
              "  [theme=dark] .colab-df-quickchart:hover {\n",
              "    background-color: #434B5C;\n",
              "    box-shadow: 0px 1px 3px 1px rgba(0, 0, 0, 0.15);\n",
              "    filter: drop-shadow(0px 1px 2px rgba(0, 0, 0, 0.3));\n",
              "    fill: #FFFFFF;\n",
              "  }\n",
              "</style>\n",
              "\n",
              "    <script>\n",
              "      async function quickchart(key) {\n",
              "        const containerElement = document.querySelector('#' + key);\n",
              "        const charts = await google.colab.kernel.invokeFunction(\n",
              "            'suggestCharts', [key], {});\n",
              "      }\n",
              "    </script>\n",
              "\n",
              "      <script>\n",
              "\n",
              "function displayQuickchartButton(domScope) {\n",
              "  let quickchartButtonEl =\n",
              "    domScope.querySelector('#df-d7949e0b-9be8-49e4-9147-8e0fb3554135 button.colab-df-quickchart');\n",
              "  quickchartButtonEl.style.display =\n",
              "    google.colab.kernel.accessAllowed ? 'block' : 'none';\n",
              "}\n",
              "\n",
              "        displayQuickchartButton(document);\n",
              "      </script>\n",
              "      <style>\n",
              "    .colab-df-container {\n",
              "      display:flex;\n",
              "      flex-wrap:wrap;\n",
              "      gap: 12px;\n",
              "    }\n",
              "\n",
              "    .colab-df-convert {\n",
              "      background-color: #E8F0FE;\n",
              "      border: none;\n",
              "      border-radius: 50%;\n",
              "      cursor: pointer;\n",
              "      display: none;\n",
              "      fill: #1967D2;\n",
              "      height: 32px;\n",
              "      padding: 0 0 0 0;\n",
              "      width: 32px;\n",
              "    }\n",
              "\n",
              "    .colab-df-convert:hover {\n",
              "      background-color: #E2EBFA;\n",
              "      box-shadow: 0px 1px 2px rgba(60, 64, 67, 0.3), 0px 1px 3px 1px rgba(60, 64, 67, 0.15);\n",
              "      fill: #174EA6;\n",
              "    }\n",
              "\n",
              "    [theme=dark] .colab-df-convert {\n",
              "      background-color: #3B4455;\n",
              "      fill: #D2E3FC;\n",
              "    }\n",
              "\n",
              "    [theme=dark] .colab-df-convert:hover {\n",
              "      background-color: #434B5C;\n",
              "      box-shadow: 0px 1px 3px 1px rgba(0, 0, 0, 0.15);\n",
              "      filter: drop-shadow(0px 1px 2px rgba(0, 0, 0, 0.3));\n",
              "      fill: #FFFFFF;\n",
              "    }\n",
              "  </style>\n",
              "\n",
              "      <script>\n",
              "        const buttonEl =\n",
              "          document.querySelector('#df-3b6eaa4c-4217-478f-845d-ee44b90b07b3 button.colab-df-convert');\n",
              "        buttonEl.style.display =\n",
              "          google.colab.kernel.accessAllowed ? 'block' : 'none';\n",
              "\n",
              "        async function convertToInteractive(key) {\n",
              "          const element = document.querySelector('#df-3b6eaa4c-4217-478f-845d-ee44b90b07b3');\n",
              "          const dataTable =\n",
              "            await google.colab.kernel.invokeFunction('convertToInteractive',\n",
              "                                                     [key], {});\n",
              "          if (!dataTable) return;\n",
              "\n",
              "          const docLinkHtml = 'Like what you see? Visit the ' +\n",
              "            '<a target=\"_blank\" href=https://colab.research.google.com/notebooks/data_table.ipynb>data table notebook</a>'\n",
              "            + ' to learn more about interactive tables.';\n",
              "          element.innerHTML = '';\n",
              "          dataTable['output_type'] = 'display_data';\n",
              "          await google.colab.output.renderOutput(dataTable, element);\n",
              "          const docLink = document.createElement('div');\n",
              "          docLink.innerHTML = docLinkHtml;\n",
              "          element.appendChild(docLink);\n",
              "        }\n",
              "      </script>\n",
              "    </div>\n",
              "  </div>\n"
            ]
          },
          "metadata": {},
          "execution_count": 24
        }
      ]
    },
    {
      "cell_type": "code",
      "source": [
        "#eliminar columna - explicar el error\n",
        "df.drop(\"new\")"
      ],
      "metadata": {
        "id": "IoI29Ttx8FBc"
      },
      "execution_count": null,
      "outputs": []
    },
    {
      "cell_type": "code",
      "source": [
        "#hay que especificar el axis = 1 - columna. al borrar la columna no se guarda en el dataframe. inplace=True\n",
        "df.drop(\"new\", axis=1)"
      ],
      "metadata": {
        "id": "twdB3B0y8KWl"
      },
      "execution_count": null,
      "outputs": []
    },
    {
      "cell_type": "code",
      "source": [
        "df"
      ],
      "metadata": {
        "id": "m5iH2d1q8g2R"
      },
      "execution_count": null,
      "outputs": []
    },
    {
      "cell_type": "code",
      "source": [
        "# df.drop(\"new\", axis=1, inplace=True)\n",
        "df"
      ],
      "metadata": {
        "id": "XpCX668M8maf"
      },
      "execution_count": null,
      "outputs": []
    },
    {
      "cell_type": "code",
      "source": [
        "#eliminar filas\n",
        "df.drop(\"e\")"
      ],
      "metadata": {
        "id": "Wd40poZ_8uBu"
      },
      "execution_count": null,
      "outputs": []
    },
    {
      "cell_type": "code",
      "source": [
        "#\n",
        "df.shape"
      ],
      "metadata": {
        "id": "6wqIn5iA83dZ"
      },
      "execution_count": null,
      "outputs": []
    },
    {
      "cell_type": "code",
      "source": [
        "#seleccionar filas\n",
        "df"
      ],
      "metadata": {
        "id": "ycLEu6I89Cch"
      },
      "execution_count": null,
      "outputs": []
    },
    {
      "cell_type": "code",
      "source": [
        "#hay dos formas de seleccionar filas - devuelve una serie\n",
        "df.loc[\"c\"]"
      ],
      "metadata": {
        "id": "2fuaaFDv9I2p"
      },
      "execution_count": null,
      "outputs": []
    },
    {
      "cell_type": "code",
      "source": [
        "# basada en el número del índice\n",
        "df.iloc[2]"
      ],
      "metadata": {
        "id": "Oy_e2nP59bbe"
      },
      "execution_count": null,
      "outputs": []
    },
    {
      "cell_type": "code",
      "source": [
        "df.iloc[1:6]"
      ],
      "metadata": {
        "id": "SKl6Mrz89k1i"
      },
      "execution_count": null,
      "outputs": []
    },
    {
      "cell_type": "code",
      "source": [
        "# seleccionar una celda\n",
        "df.loc[\"b\",\"z\"]"
      ],
      "metadata": {
        "id": "SZzxafrw9xPa"
      },
      "execution_count": null,
      "outputs": []
    },
    {
      "cell_type": "code",
      "source": [
        "# sub conjunto del df\n",
        "df.loc[[\"a\", \"b\"], [\"w\", \"y\"]]"
      ],
      "metadata": {
        "id": "dBQMbILd97Ep"
      },
      "execution_count": null,
      "outputs": []
    },
    {
      "cell_type": "code",
      "source": [
        "# selección condicional - importante\n",
        "df > 0"
      ],
      "metadata": {
        "id": "ot6HhfmP-elq"
      },
      "execution_count": null,
      "outputs": []
    },
    {
      "cell_type": "code",
      "source": [
        "cond_df = df > 0\n",
        "cond_df"
      ],
      "metadata": {
        "id": "u-7Mvrkd-sSC"
      },
      "execution_count": null,
      "outputs": []
    },
    {
      "cell_type": "code",
      "source": [
        "df[cond_df]"
      ],
      "metadata": {
        "id": "EPP8o0HU-1Vy"
      },
      "execution_count": null,
      "outputs": []
    },
    {
      "cell_type": "code",
      "source": [
        "df[df > 0]"
      ],
      "metadata": {
        "id": "A1QTcVEf-6T2"
      },
      "execution_count": null,
      "outputs": []
    },
    {
      "cell_type": "code",
      "source": [
        "df[\"w\"] > 0"
      ],
      "metadata": {
        "id": "esl75c3p--ie"
      },
      "execution_count": null,
      "outputs": []
    },
    {
      "cell_type": "code",
      "source": [
        "# para qué no salgan los nan\n",
        "df[df[\"w\"] > 0]"
      ],
      "metadata": {
        "id": "Dg17bgdh_EBr"
      },
      "execution_count": null,
      "outputs": []
    },
    {
      "cell_type": "code",
      "source": [
        "df[df[\"z\"] < 0]"
      ],
      "metadata": {
        "id": "Pz5xuW5Q_Tc1"
      },
      "execution_count": null,
      "outputs": []
    },
    {
      "cell_type": "code",
      "source": [
        "# tener en cuenta que estas operaciones devuelven un dataframe y se puede montar comandos sobre comandos\n",
        "df[df[\"w\"] > 0][\"x\"]\n",
        "#hacer el ejemplo"
      ],
      "metadata": {
        "id": "iNK-GEme_hIq"
      },
      "execution_count": null,
      "outputs": []
    },
    {
      "cell_type": "code",
      "source": [
        "# condicionales múltiples\n",
        "df[df[\"w\"]<0 and df[\"y\"]>0]"
      ],
      "metadata": {
        "id": "vEIkkTEtAMwC"
      },
      "execution_count": null,
      "outputs": []
    },
    {
      "cell_type": "code",
      "source": [
        "# Y\n",
        "df[(df[\"w\"]>0) & (df[\"y\"]>1)]"
      ],
      "metadata": {
        "id": "EO_F_5yEAnSD"
      },
      "execution_count": null,
      "outputs": []
    },
    {
      "cell_type": "code",
      "source": [
        "# O\n",
        "df[(df[\"w\"]>0) | (df[\"y\"]>1)]"
      ],
      "metadata": {
        "id": "mF9j9gz3A7za"
      },
      "execution_count": null,
      "outputs": []
    },
    {
      "cell_type": "code",
      "source": [
        " # ÍNDICES - no ocurre inplace\n",
        " df.reset_index()"
      ],
      "metadata": {
        "id": "le313iZgBFWH"
      },
      "execution_count": null,
      "outputs": []
    },
    {
      "cell_type": "code",
      "source": [
        "# configurar index"
      ],
      "metadata": {
        "id": "i80pOzzsBTDs"
      },
      "execution_count": null,
      "outputs": []
    },
    {
      "cell_type": "code",
      "source": [
        "new_ind = \"BOG BOL CAS MET AM\".split()"
      ],
      "metadata": {
        "id": "rufMPHCxBV6w"
      },
      "execution_count": null,
      "outputs": []
    },
    {
      "cell_type": "code",
      "source": [
        "df[\"departamento\"] = new_ind\n",
        "df"
      ],
      "metadata": {
        "id": "AHyu2F-NBeaL"
      },
      "execution_count": null,
      "outputs": []
    },
    {
      "cell_type": "code",
      "source": [
        "df.set_index(\"departamento\")"
      ],
      "metadata": {
        "id": "njbPTP0_Bt_n"
      },
      "execution_count": null,
      "outputs": []
    },
    {
      "cell_type": "code",
      "source": [
        "# multi indices y jerarquias"
      ],
      "metadata": {
        "id": "VBn2ySOxB3yo"
      },
      "execution_count": null,
      "outputs": []
    },
    {
      "cell_type": "code",
      "source": [
        "outside = \"G1 G1 G1 G2 G2 G2\".split()\n",
        "inside = [1,2,3,1,2,3]\n",
        "hier_ind = list(zip(outside, inside))\n",
        "hier_ind = pd.MultiIndex.from_tuples(hier_ind)"
      ],
      "metadata": {
        "id": "CEiTkD81CR9N"
      },
      "execution_count": null,
      "outputs": []
    },
    {
      "cell_type": "code",
      "source": [
        "df = pd.DataFrame(randn(6,2), hier_ind, [\"A\", \"B\"])"
      ],
      "metadata": {
        "id": "BQ42lf72CygB"
      },
      "execution_count": null,
      "outputs": []
    },
    {
      "cell_type": "code",
      "source": [
        "df"
      ],
      "metadata": {
        "id": "nk-Y1sR6DZuN"
      },
      "execution_count": null,
      "outputs": []
    },
    {
      "cell_type": "code",
      "source": [
        "df.loc[\"G1\"]"
      ],
      "metadata": {
        "id": "onqmrNunDbkl"
      },
      "execution_count": null,
      "outputs": []
    },
    {
      "cell_type": "code",
      "source": [
        "df.loc[\"G1\"].loc[1]"
      ],
      "metadata": {
        "id": "3E6BWF6ODfBg"
      },
      "execution_count": null,
      "outputs": []
    },
    {
      "cell_type": "code",
      "source": [
        "df.index.names"
      ],
      "metadata": {
        "id": "lSGVy5yRDm7p"
      },
      "execution_count": null,
      "outputs": []
    },
    {
      "cell_type": "code",
      "source": [
        "df.index.names = [\"Grupos\", \"Num\"]\n",
        "df"
      ],
      "metadata": {
        "id": "kgmbyUTKDs2_"
      },
      "execution_count": null,
      "outputs": []
    },
    {
      "cell_type": "code",
      "source": [
        "df.loc[\"G2\"].loc[2][\"B\"]"
      ],
      "metadata": {
        "id": "rYDHGTZvD33n"
      },
      "execution_count": null,
      "outputs": []
    },
    {
      "cell_type": "code",
      "source": [
        "# cross section\n",
        "df"
      ],
      "metadata": {
        "id": "MkqIIsiMD3Bc"
      },
      "execution_count": null,
      "outputs": []
    },
    {
      "cell_type": "code",
      "source": [
        "df.xs(\"G1\")"
      ],
      "metadata": {
        "id": "0VYN0qeUEHgn"
      },
      "execution_count": null,
      "outputs": []
    },
    {
      "cell_type": "code",
      "source": [
        "df.xs(1, level=\"Num\")"
      ],
      "metadata": {
        "id": "HADdMG2YEUf7"
      },
      "execution_count": null,
      "outputs": []
    },
    {
      "cell_type": "code",
      "source": [
        "# datos faltantes\n",
        "# pandas rellena los valores faltantes con nan"
      ],
      "metadata": {
        "id": "pr05bOxBEgrC"
      },
      "execution_count": null,
      "outputs": []
    },
    {
      "cell_type": "code",
      "source": [
        "d = {\"a\":[1,2,np.nan], \"b\":[5,np.nan,np.nan],\"c\":[1,2,3]}"
      ],
      "metadata": {
        "id": "K2NcbrrRE0av"
      },
      "execution_count": null,
      "outputs": []
    },
    {
      "cell_type": "code",
      "source": [
        "df = pd.DataFrame(d)\n",
        "df"
      ],
      "metadata": {
        "id": "0HMPiBlGFB3C"
      },
      "execution_count": null,
      "outputs": []
    },
    {
      "cell_type": "code",
      "source": [
        "df.isna()"
      ],
      "metadata": {
        "id": "saflkA6GFIga"
      },
      "execution_count": null,
      "outputs": []
    },
    {
      "cell_type": "code",
      "source": [
        "\n",
        "df.isna().values.any()"
      ],
      "metadata": {
        "id": "vvDGeiWTFQdC"
      },
      "execution_count": null,
      "outputs": []
    },
    {
      "cell_type": "code",
      "source": [
        "df[\"a\"].isna().sum()"
      ],
      "metadata": {
        "id": "7P8SjLrKFW31"
      },
      "execution_count": null,
      "outputs": []
    },
    {
      "cell_type": "code",
      "source": [
        "# elimanr filas con nan\n",
        "df.dropna()"
      ],
      "metadata": {
        "id": "qkjzLnWIF5UY"
      },
      "execution_count": null,
      "outputs": []
    },
    {
      "cell_type": "code",
      "source": [
        "# elimanr columnas con nan\n",
        "df.dropna(axis=1)"
      ],
      "metadata": {
        "id": "RWSadoNaGBZ3"
      },
      "execution_count": null,
      "outputs": []
    },
    {
      "cell_type": "code",
      "source": [
        "#thresh - define un minimo de na en la columna o en la fila\n",
        "df.dropna(thresh=2)"
      ],
      "metadata": {
        "id": "HLBzFPUWGHvF"
      },
      "execution_count": null,
      "outputs": []
    },
    {
      "cell_type": "code",
      "source": [
        "# rellenar valores vacion\n",
        "df.fillna(value=\"RELLENO\")"
      ],
      "metadata": {
        "id": "vSgPu1EbGZCO"
      },
      "execution_count": null,
      "outputs": []
    },
    {
      "cell_type": "code",
      "source": [
        "df[\"a\"].fillna(value=df[\"a\"].mean())"
      ],
      "metadata": {
        "id": "c165xpfwGgLu"
      },
      "execution_count": null,
      "outputs": []
    },
    {
      "cell_type": "code",
      "source": [
        "#GROUP BY"
      ],
      "metadata": {
        "id": "2nPmKfxXJFd3"
      },
      "execution_count": null,
      "outputs": []
    },
    {
      "cell_type": "markdown",
      "source": [],
      "metadata": {
        "id": "l4auPglGKWA2"
      }
    },
    {
      "cell_type": "markdown",
      "source": [
        "![image.png](data:image/png;base64,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)"
      ],
      "metadata": {
        "id": "k1U27_ZNKWCU"
      }
    },
    {
      "cell_type": "code",
      "source": [
        "data = {\"company\": [\"goog\" , \"goog\", \"msft\", \"msft\", \"fb\", \"fb\"],\n",
        "        \"person\":[\"sam\", \"charlie\", \" amy\", \"vanessa\", \"carl\", \"sarah\"],\n",
        "        \"sales\":[200, 120, 340, 124, 243, 350]}"
      ],
      "metadata": {
        "id": "nTAr--h_MF6L"
      },
      "execution_count": null,
      "outputs": []
    },
    {
      "cell_type": "code",
      "source": [
        "df = pd.DataFrame(data)\n",
        "df"
      ],
      "metadata": {
        "id": "ZMgwTKTbMgJK"
      },
      "execution_count": null,
      "outputs": []
    },
    {
      "cell_type": "code",
      "source": [
        "df.groupby(\"company\")"
      ],
      "metadata": {
        "id": "y47BKLhYMrTr"
      },
      "execution_count": null,
      "outputs": []
    },
    {
      "cell_type": "code",
      "source": [
        "comp = df.groupby(\"company\")"
      ],
      "metadata": {
        "id": "qMblDMJqM2Yt"
      },
      "execution_count": null,
      "outputs": []
    },
    {
      "cell_type": "code",
      "source": [
        "comp.mean()"
      ],
      "metadata": {
        "id": "vG68k2V_M71J"
      },
      "execution_count": null,
      "outputs": []
    },
    {
      "cell_type": "code",
      "source": [
        "comp.sum()"
      ],
      "metadata": {
        "id": "Jpr1Uu1INCCk"
      },
      "execution_count": null,
      "outputs": []
    },
    {
      "cell_type": "code",
      "source": [
        "comp.std()"
      ],
      "metadata": {
        "id": "6ehWfFpJPO9a"
      },
      "execution_count": null,
      "outputs": []
    },
    {
      "cell_type": "code",
      "source": [
        "comp.sum().loc[\"fb\"]"
      ],
      "metadata": {
        "id": "HKxCA2a3PRhr"
      },
      "execution_count": null,
      "outputs": []
    },
    {
      "cell_type": "code",
      "source": [
        "# cuenta entrada por grupos\n",
        "comp.count()"
      ],
      "metadata": {
        "id": "VVfOnTYlPb5-"
      },
      "execution_count": null,
      "outputs": []
    },
    {
      "cell_type": "code",
      "source": [
        "comp.max()"
      ],
      "metadata": {
        "id": "7q9VhdJVPhTy"
      },
      "execution_count": null,
      "outputs": []
    },
    {
      "cell_type": "code",
      "source": [
        "comp.describe()"
      ],
      "metadata": {
        "id": "hmAcC3tZPlUg"
      },
      "execution_count": null,
      "outputs": []
    },
    {
      "cell_type": "code",
      "source": [
        "comp.describe().transpose()"
      ],
      "metadata": {
        "id": "r-Zlyw2jPsXR"
      },
      "execution_count": null,
      "outputs": []
    },
    {
      "cell_type": "code",
      "source": [
        "#merging and concatenation"
      ],
      "metadata": {
        "id": "sa2iXGB6PwVb"
      },
      "execution_count": null,
      "outputs": []
    },
    {
      "cell_type": "code",
      "source": [
        "joined_df = employees.join(departments.set_index('Department'), on='Department')\n",
        "joined_df"
      ],
      "metadata": {
        "id": "7nSWkyvSQT1x"
      },
      "execution_count": null,
      "outputs": []
    },
    {
      "cell_type": "code",
      "source": [
        "data1 = {\n",
        "    'A': [1, 2, 3],\n",
        "    'B': ['foo', 'bar', 'baz'],\n",
        "}\n",
        "\n",
        "df1 = pd.DataFrame(data1)\n",
        "\n",
        "data2 = {\n",
        "    'A': [4, 5, 6],\n",
        "    'B': ['apple', 'orange', 'banana'],\n",
        "}\n",
        "\n",
        "df2 = pd.DataFrame(data2)"
      ],
      "metadata": {
        "id": "SdLOaYiMQyJR"
      },
      "execution_count": null,
      "outputs": []
    },
    {
      "cell_type": "code",
      "source": [
        "concatenated_df = pd.concat([df1, df2], ignore_index=True)\n",
        "print(concatenated_df)"
      ],
      "metadata": {
        "id": "4px1r8JgRITP"
      },
      "execution_count": null,
      "outputs": []
    },
    {
      "cell_type": "code",
      "source": [
        "data1 = {\n",
        "    'EmployeeID': [1, 2, 3, 4, 5],\n",
        "    'Name': ['John', 'Alice', 'Mike', 'Emily', 'David'],\n",
        "    'Department': ['HR', 'Engineering', 'Marketing', 'HR', 'Sales'],\n",
        "}\n",
        "\n",
        "employees = pd.DataFrame(data1)\n",
        "\n",
        "data2 = {\n",
        "    'EmployeeID': [1, 2, 3, 4, 6],\n",
        "    'Salary': [50000, 60000, 55000, 52000, 48000],\n",
        "}\n",
        "\n",
        "salaries = pd.DataFrame(data2)"
      ],
      "metadata": {
        "id": "tFheyNMMRLp4"
      },
      "execution_count": null,
      "outputs": []
    },
    {
      "cell_type": "code",
      "source": [
        "merged_df = pd.merge(employees, salaries, on='EmployeeID', how='inner')\n",
        "print(merged_df)"
      ],
      "metadata": {
        "id": "kDYi3785RTVE"
      },
      "execution_count": null,
      "outputs": []
    },
    {
      "cell_type": "code",
      "source": [
        "# OTRAS OPERACIONES"
      ],
      "metadata": {
        "id": "qDSO00MdFBOY"
      },
      "execution_count": null,
      "outputs": []
    },
    {
      "cell_type": "code",
      "source": [
        "df = pd.DataFrame({\"col1\": [1,2,3,4],\n",
        "                   \"col2\": [444,555,666,444],\n",
        "                   \"col3\":[\"abc\", \"def\", \"ghi\", \"xyz\"]})"
      ],
      "metadata": {
        "id": "cY2rmElYFeN5"
      },
      "execution_count": null,
      "outputs": []
    },
    {
      "cell_type": "code",
      "source": [
        "df"
      ],
      "metadata": {
        "colab": {
          "base_uri": "https://localhost:8080/",
          "height": 174
        },
        "id": "XkcAqoSoRXR6",
        "outputId": "9dd96683-76cc-4aff-b54a-82adc1280259"
      },
      "execution_count": null,
      "outputs": [
        {
          "output_type": "execute_result",
          "data": {
            "text/plain": [
              "   col1  col2 col3\n",
              "0     1   444  abc\n",
              "1     2   555  def\n",
              "2     3   666  ghi\n",
              "3     4   444  xyz"
            ],
            "text/html": [
              "\n",
              "\n",
              "  <div id=\"df-2f76379a-1ccc-4b5e-88b4-42952d664973\">\n",
              "    <div class=\"colab-df-container\">\n",
              "      <div>\n",
              "<style scoped>\n",
              "    .dataframe tbody tr th:only-of-type {\n",
              "        vertical-align: middle;\n",
              "    }\n",
              "\n",
              "    .dataframe tbody tr th {\n",
              "        vertical-align: top;\n",
              "    }\n",
              "\n",
              "    .dataframe thead th {\n",
              "        text-align: right;\n",
              "    }\n",
              "</style>\n",
              "<table border=\"1\" class=\"dataframe\">\n",
              "  <thead>\n",
              "    <tr style=\"text-align: right;\">\n",
              "      <th></th>\n",
              "      <th>col1</th>\n",
              "      <th>col2</th>\n",
              "      <th>col3</th>\n",
              "    </tr>\n",
              "  </thead>\n",
              "  <tbody>\n",
              "    <tr>\n",
              "      <th>0</th>\n",
              "      <td>1</td>\n",
              "      <td>444</td>\n",
              "      <td>abc</td>\n",
              "    </tr>\n",
              "    <tr>\n",
              "      <th>1</th>\n",
              "      <td>2</td>\n",
              "      <td>555</td>\n",
              "      <td>def</td>\n",
              "    </tr>\n",
              "    <tr>\n",
              "      <th>2</th>\n",
              "      <td>3</td>\n",
              "      <td>666</td>\n",
              "      <td>ghi</td>\n",
              "    </tr>\n",
              "    <tr>\n",
              "      <th>3</th>\n",
              "      <td>4</td>\n",
              "      <td>444</td>\n",
              "      <td>xyz</td>\n",
              "    </tr>\n",
              "  </tbody>\n",
              "</table>\n",
              "</div>\n",
              "      <button class=\"colab-df-convert\" onclick=\"convertToInteractive('df-2f76379a-1ccc-4b5e-88b4-42952d664973')\"\n",
              "              title=\"Convert this dataframe to an interactive table.\"\n",
              "              style=\"display:none;\">\n",
              "\n",
              "  <svg xmlns=\"http://www.w3.org/2000/svg\" height=\"24px\"viewBox=\"0 0 24 24\"\n",
              "       width=\"24px\">\n",
              "    <path d=\"M0 0h24v24H0V0z\" fill=\"none\"/>\n",
              "    <path d=\"M18.56 5.44l.94 2.06.94-2.06 2.06-.94-2.06-.94-.94-2.06-.94 2.06-2.06.94zm-11 1L8.5 8.5l.94-2.06 2.06-.94-2.06-.94L8.5 2.5l-.94 2.06-2.06.94zm10 10l.94 2.06.94-2.06 2.06-.94-2.06-.94-.94-2.06-.94 2.06-2.06.94z\"/><path d=\"M17.41 7.96l-1.37-1.37c-.4-.4-.92-.59-1.43-.59-.52 0-1.04.2-1.43.59L10.3 9.45l-7.72 7.72c-.78.78-.78 2.05 0 2.83L4 21.41c.39.39.9.59 1.41.59.51 0 1.02-.2 1.41-.59l7.78-7.78 2.81-2.81c.8-.78.8-2.07 0-2.86zM5.41 20L4 18.59l7.72-7.72 1.47 1.35L5.41 20z\"/>\n",
              "  </svg>\n",
              "      </button>\n",
              "\n",
              "\n",
              "\n",
              "    <div id=\"df-9df7dbce-7205-4b33-963a-aaec3164551c\">\n",
              "      <button class=\"colab-df-quickchart\" onclick=\"quickchart('df-9df7dbce-7205-4b33-963a-aaec3164551c')\"\n",
              "              title=\"Suggest charts.\"\n",
              "              style=\"display:none;\">\n",
              "\n",
              "<svg xmlns=\"http://www.w3.org/2000/svg\" height=\"24px\"viewBox=\"0 0 24 24\"\n",
              "     width=\"24px\">\n",
              "    <g>\n",
              "        <path d=\"M19 3H5c-1.1 0-2 .9-2 2v14c0 1.1.9 2 2 2h14c1.1 0 2-.9 2-2V5c0-1.1-.9-2-2-2zM9 17H7v-7h2v7zm4 0h-2V7h2v10zm4 0h-2v-4h2v4z\"/>\n",
              "    </g>\n",
              "</svg>\n",
              "      </button>\n",
              "    </div>\n",
              "\n",
              "<style>\n",
              "  .colab-df-quickchart {\n",
              "    background-color: #E8F0FE;\n",
              "    border: none;\n",
              "    border-radius: 50%;\n",
              "    cursor: pointer;\n",
              "    display: none;\n",
              "    fill: #1967D2;\n",
              "    height: 32px;\n",
              "    padding: 0 0 0 0;\n",
              "    width: 32px;\n",
              "  }\n",
              "\n",
              "  .colab-df-quickchart:hover {\n",
              "    background-color: #E2EBFA;\n",
              "    box-shadow: 0px 1px 2px rgba(60, 64, 67, 0.3), 0px 1px 3px 1px rgba(60, 64, 67, 0.15);\n",
              "    fill: #174EA6;\n",
              "  }\n",
              "\n",
              "  [theme=dark] .colab-df-quickchart {\n",
              "    background-color: #3B4455;\n",
              "    fill: #D2E3FC;\n",
              "  }\n",
              "\n",
              "  [theme=dark] .colab-df-quickchart:hover {\n",
              "    background-color: #434B5C;\n",
              "    box-shadow: 0px 1px 3px 1px rgba(0, 0, 0, 0.15);\n",
              "    filter: drop-shadow(0px 1px 2px rgba(0, 0, 0, 0.3));\n",
              "    fill: #FFFFFF;\n",
              "  }\n",
              "</style>\n",
              "\n",
              "    <script>\n",
              "      async function quickchart(key) {\n",
              "        const containerElement = document.querySelector('#' + key);\n",
              "        const charts = await google.colab.kernel.invokeFunction(\n",
              "            'suggestCharts', [key], {});\n",
              "      }\n",
              "    </script>\n",
              "\n",
              "      <script>\n",
              "\n",
              "function displayQuickchartButton(domScope) {\n",
              "  let quickchartButtonEl =\n",
              "    domScope.querySelector('#df-9df7dbce-7205-4b33-963a-aaec3164551c button.colab-df-quickchart');\n",
              "  quickchartButtonEl.style.display =\n",
              "    google.colab.kernel.accessAllowed ? 'block' : 'none';\n",
              "}\n",
              "\n",
              "        displayQuickchartButton(document);\n",
              "      </script>\n",
              "      <style>\n",
              "    .colab-df-container {\n",
              "      display:flex;\n",
              "      flex-wrap:wrap;\n",
              "      gap: 12px;\n",
              "    }\n",
              "\n",
              "    .colab-df-convert {\n",
              "      background-color: #E8F0FE;\n",
              "      border: none;\n",
              "      border-radius: 50%;\n",
              "      cursor: pointer;\n",
              "      display: none;\n",
              "      fill: #1967D2;\n",
              "      height: 32px;\n",
              "      padding: 0 0 0 0;\n",
              "      width: 32px;\n",
              "    }\n",
              "\n",
              "    .colab-df-convert:hover {\n",
              "      background-color: #E2EBFA;\n",
              "      box-shadow: 0px 1px 2px rgba(60, 64, 67, 0.3), 0px 1px 3px 1px rgba(60, 64, 67, 0.15);\n",
              "      fill: #174EA6;\n",
              "    }\n",
              "\n",
              "    [theme=dark] .colab-df-convert {\n",
              "      background-color: #3B4455;\n",
              "      fill: #D2E3FC;\n",
              "    }\n",
              "\n",
              "    [theme=dark] .colab-df-convert:hover {\n",
              "      background-color: #434B5C;\n",
              "      box-shadow: 0px 1px 3px 1px rgba(0, 0, 0, 0.15);\n",
              "      filter: drop-shadow(0px 1px 2px rgba(0, 0, 0, 0.3));\n",
              "      fill: #FFFFFF;\n",
              "    }\n",
              "  </style>\n",
              "\n",
              "      <script>\n",
              "        const buttonEl =\n",
              "          document.querySelector('#df-2f76379a-1ccc-4b5e-88b4-42952d664973 button.colab-df-convert');\n",
              "        buttonEl.style.display =\n",
              "          google.colab.kernel.accessAllowed ? 'block' : 'none';\n",
              "\n",
              "        async function convertToInteractive(key) {\n",
              "          const element = document.querySelector('#df-2f76379a-1ccc-4b5e-88b4-42952d664973');\n",
              "          const dataTable =\n",
              "            await google.colab.kernel.invokeFunction('convertToInteractive',\n",
              "                                                     [key], {});\n",
              "          if (!dataTable) return;\n",
              "\n",
              "          const docLinkHtml = 'Like what you see? Visit the ' +\n",
              "            '<a target=\"_blank\" href=https://colab.research.google.com/notebooks/data_table.ipynb>data table notebook</a>'\n",
              "            + ' to learn more about interactive tables.';\n",
              "          element.innerHTML = '';\n",
              "          dataTable['output_type'] = 'display_data';\n",
              "          await google.colab.output.renderOutput(dataTable, element);\n",
              "          const docLink = document.createElement('div');\n",
              "          docLink.innerHTML = docLinkHtml;\n",
              "          element.appendChild(docLink);\n",
              "        }\n",
              "      </script>\n",
              "    </div>\n",
              "  </div>\n"
            ]
          },
          "metadata": {},
          "execution_count": 26
        }
      ]
    },
    {
      "cell_type": "code",
      "source": [
        "# valores unicos\n",
        "df[\"col2\"].unique()"
      ],
      "metadata": {
        "colab": {
          "base_uri": "https://localhost:8080/"
        },
        "id": "L6pQQTqkRYue",
        "outputId": "bfcf99a5-410b-423b-ecc7-100693260be3"
      },
      "execution_count": null,
      "outputs": [
        {
          "output_type": "execute_result",
          "data": {
            "text/plain": [
              "array([444, 555, 666])"
            ]
          },
          "metadata": {},
          "execution_count": 27
        }
      ]
    },
    {
      "cell_type": "code",
      "source": [
        "# numero de valores únicos\n",
        "df[\"col2\"].nunique()"
      ],
      "metadata": {
        "colab": {
          "base_uri": "https://localhost:8080/"
        },
        "id": "NLsolbO5RoIM",
        "outputId": "c6003cc1-638e-42ac-9390-91dd6d95a0f5"
      },
      "execution_count": null,
      "outputs": [
        {
          "output_type": "execute_result",
          "data": {
            "text/plain": [
              "3"
            ]
          },
          "metadata": {},
          "execution_count": 28
        }
      ]
    },
    {
      "cell_type": "code",
      "source": [
        "# contar valores únicos\n",
        "df[\"col2\"].value_counts()"
      ],
      "metadata": {
        "colab": {
          "base_uri": "https://localhost:8080/"
        },
        "id": "85N8FcJORuBw",
        "outputId": "37e1756a-e9ff-436f-812f-1c560759ea6e"
      },
      "execution_count": null,
      "outputs": [
        {
          "output_type": "execute_result",
          "data": {
            "text/plain": [
              "444    2\n",
              "555    1\n",
              "666    1\n",
              "Name: col2, dtype: int64"
            ]
          },
          "metadata": {},
          "execution_count": 29
        }
      ]
    },
    {
      "cell_type": "code",
      "source": [
        "# ordenar\n",
        "df.sort_values(by=[\"col2\", \"col1\"])"
      ],
      "metadata": {
        "colab": {
          "base_uri": "https://localhost:8080/",
          "height": 174
        },
        "id": "MtMaG5cJR1hr",
        "outputId": "daf423a9-2875-4e71-dd65-999da93eb8a5"
      },
      "execution_count": null,
      "outputs": [
        {
          "output_type": "execute_result",
          "data": {
            "text/plain": [
              "   col1  col2 col3\n",
              "0     1   444  abc\n",
              "3     4   444  xyz\n",
              "1     2   555  def\n",
              "2     3   666  ghi"
            ],
            "text/html": [
              "\n",
              "\n",
              "  <div id=\"df-13ba0273-2b14-4dc3-a629-8b3c79060991\">\n",
              "    <div class=\"colab-df-container\">\n",
              "      <div>\n",
              "<style scoped>\n",
              "    .dataframe tbody tr th:only-of-type {\n",
              "        vertical-align: middle;\n",
              "    }\n",
              "\n",
              "    .dataframe tbody tr th {\n",
              "        vertical-align: top;\n",
              "    }\n",
              "\n",
              "    .dataframe thead th {\n",
              "        text-align: right;\n",
              "    }\n",
              "</style>\n",
              "<table border=\"1\" class=\"dataframe\">\n",
              "  <thead>\n",
              "    <tr style=\"text-align: right;\">\n",
              "      <th></th>\n",
              "      <th>col1</th>\n",
              "      <th>col2</th>\n",
              "      <th>col3</th>\n",
              "    </tr>\n",
              "  </thead>\n",
              "  <tbody>\n",
              "    <tr>\n",
              "      <th>0</th>\n",
              "      <td>1</td>\n",
              "      <td>444</td>\n",
              "      <td>abc</td>\n",
              "    </tr>\n",
              "    <tr>\n",
              "      <th>3</th>\n",
              "      <td>4</td>\n",
              "      <td>444</td>\n",
              "      <td>xyz</td>\n",
              "    </tr>\n",
              "    <tr>\n",
              "      <th>1</th>\n",
              "      <td>2</td>\n",
              "      <td>555</td>\n",
              "      <td>def</td>\n",
              "    </tr>\n",
              "    <tr>\n",
              "      <th>2</th>\n",
              "      <td>3</td>\n",
              "      <td>666</td>\n",
              "      <td>ghi</td>\n",
              "    </tr>\n",
              "  </tbody>\n",
              "</table>\n",
              "</div>\n",
              "      <button class=\"colab-df-convert\" onclick=\"convertToInteractive('df-13ba0273-2b14-4dc3-a629-8b3c79060991')\"\n",
              "              title=\"Convert this dataframe to an interactive table.\"\n",
              "              style=\"display:none;\">\n",
              "\n",
              "  <svg xmlns=\"http://www.w3.org/2000/svg\" height=\"24px\"viewBox=\"0 0 24 24\"\n",
              "       width=\"24px\">\n",
              "    <path d=\"M0 0h24v24H0V0z\" fill=\"none\"/>\n",
              "    <path d=\"M18.56 5.44l.94 2.06.94-2.06 2.06-.94-2.06-.94-.94-2.06-.94 2.06-2.06.94zm-11 1L8.5 8.5l.94-2.06 2.06-.94-2.06-.94L8.5 2.5l-.94 2.06-2.06.94zm10 10l.94 2.06.94-2.06 2.06-.94-2.06-.94-.94-2.06-.94 2.06-2.06.94z\"/><path d=\"M17.41 7.96l-1.37-1.37c-.4-.4-.92-.59-1.43-.59-.52 0-1.04.2-1.43.59L10.3 9.45l-7.72 7.72c-.78.78-.78 2.05 0 2.83L4 21.41c.39.39.9.59 1.41.59.51 0 1.02-.2 1.41-.59l7.78-7.78 2.81-2.81c.8-.78.8-2.07 0-2.86zM5.41 20L4 18.59l7.72-7.72 1.47 1.35L5.41 20z\"/>\n",
              "  </svg>\n",
              "      </button>\n",
              "\n",
              "\n",
              "\n",
              "    <div id=\"df-3668a2ef-7e5f-4768-974f-91305afc7b81\">\n",
              "      <button class=\"colab-df-quickchart\" onclick=\"quickchart('df-3668a2ef-7e5f-4768-974f-91305afc7b81')\"\n",
              "              title=\"Suggest charts.\"\n",
              "              style=\"display:none;\">\n",
              "\n",
              "<svg xmlns=\"http://www.w3.org/2000/svg\" height=\"24px\"viewBox=\"0 0 24 24\"\n",
              "     width=\"24px\">\n",
              "    <g>\n",
              "        <path d=\"M19 3H5c-1.1 0-2 .9-2 2v14c0 1.1.9 2 2 2h14c1.1 0 2-.9 2-2V5c0-1.1-.9-2-2-2zM9 17H7v-7h2v7zm4 0h-2V7h2v10zm4 0h-2v-4h2v4z\"/>\n",
              "    </g>\n",
              "</svg>\n",
              "      </button>\n",
              "    </div>\n",
              "\n",
              "<style>\n",
              "  .colab-df-quickchart {\n",
              "    background-color: #E8F0FE;\n",
              "    border: none;\n",
              "    border-radius: 50%;\n",
              "    cursor: pointer;\n",
              "    display: none;\n",
              "    fill: #1967D2;\n",
              "    height: 32px;\n",
              "    padding: 0 0 0 0;\n",
              "    width: 32px;\n",
              "  }\n",
              "\n",
              "  .colab-df-quickchart:hover {\n",
              "    background-color: #E2EBFA;\n",
              "    box-shadow: 0px 1px 2px rgba(60, 64, 67, 0.3), 0px 1px 3px 1px rgba(60, 64, 67, 0.15);\n",
              "    fill: #174EA6;\n",
              "  }\n",
              "\n",
              "  [theme=dark] .colab-df-quickchart {\n",
              "    background-color: #3B4455;\n",
              "    fill: #D2E3FC;\n",
              "  }\n",
              "\n",
              "  [theme=dark] .colab-df-quickchart:hover {\n",
              "    background-color: #434B5C;\n",
              "    box-shadow: 0px 1px 3px 1px rgba(0, 0, 0, 0.15);\n",
              "    filter: drop-shadow(0px 1px 2px rgba(0, 0, 0, 0.3));\n",
              "    fill: #FFFFFF;\n",
              "  }\n",
              "</style>\n",
              "\n",
              "    <script>\n",
              "      async function quickchart(key) {\n",
              "        const containerElement = document.querySelector('#' + key);\n",
              "        const charts = await google.colab.kernel.invokeFunction(\n",
              "            'suggestCharts', [key], {});\n",
              "      }\n",
              "    </script>\n",
              "\n",
              "      <script>\n",
              "\n",
              "function displayQuickchartButton(domScope) {\n",
              "  let quickchartButtonEl =\n",
              "    domScope.querySelector('#df-3668a2ef-7e5f-4768-974f-91305afc7b81 button.colab-df-quickchart');\n",
              "  quickchartButtonEl.style.display =\n",
              "    google.colab.kernel.accessAllowed ? 'block' : 'none';\n",
              "}\n",
              "\n",
              "        displayQuickchartButton(document);\n",
              "      </script>\n",
              "      <style>\n",
              "    .colab-df-container {\n",
              "      display:flex;\n",
              "      flex-wrap:wrap;\n",
              "      gap: 12px;\n",
              "    }\n",
              "\n",
              "    .colab-df-convert {\n",
              "      background-color: #E8F0FE;\n",
              "      border: none;\n",
              "      border-radius: 50%;\n",
              "      cursor: pointer;\n",
              "      display: none;\n",
              "      fill: #1967D2;\n",
              "      height: 32px;\n",
              "      padding: 0 0 0 0;\n",
              "      width: 32px;\n",
              "    }\n",
              "\n",
              "    .colab-df-convert:hover {\n",
              "      background-color: #E2EBFA;\n",
              "      box-shadow: 0px 1px 2px rgba(60, 64, 67, 0.3), 0px 1px 3px 1px rgba(60, 64, 67, 0.15);\n",
              "      fill: #174EA6;\n",
              "    }\n",
              "\n",
              "    [theme=dark] .colab-df-convert {\n",
              "      background-color: #3B4455;\n",
              "      fill: #D2E3FC;\n",
              "    }\n",
              "\n",
              "    [theme=dark] .colab-df-convert:hover {\n",
              "      background-color: #434B5C;\n",
              "      box-shadow: 0px 1px 3px 1px rgba(0, 0, 0, 0.15);\n",
              "      filter: drop-shadow(0px 1px 2px rgba(0, 0, 0, 0.3));\n",
              "      fill: #FFFFFF;\n",
              "    }\n",
              "  </style>\n",
              "\n",
              "      <script>\n",
              "        const buttonEl =\n",
              "          document.querySelector('#df-13ba0273-2b14-4dc3-a629-8b3c79060991 button.colab-df-convert');\n",
              "        buttonEl.style.display =\n",
              "          google.colab.kernel.accessAllowed ? 'block' : 'none';\n",
              "\n",
              "        async function convertToInteractive(key) {\n",
              "          const element = document.querySelector('#df-13ba0273-2b14-4dc3-a629-8b3c79060991');\n",
              "          const dataTable =\n",
              "            await google.colab.kernel.invokeFunction('convertToInteractive',\n",
              "                                                     [key], {});\n",
              "          if (!dataTable) return;\n",
              "\n",
              "          const docLinkHtml = 'Like what you see? Visit the ' +\n",
              "            '<a target=\"_blank\" href=https://colab.research.google.com/notebooks/data_table.ipynb>data table notebook</a>'\n",
              "            + ' to learn more about interactive tables.';\n",
              "          element.innerHTML = '';\n",
              "          dataTable['output_type'] = 'display_data';\n",
              "          await google.colab.output.renderOutput(dataTable, element);\n",
              "          const docLink = document.createElement('div');\n",
              "          docLink.innerHTML = docLinkHtml;\n",
              "          element.appendChild(docLink);\n",
              "        }\n",
              "      </script>\n",
              "    </div>\n",
              "  </div>\n"
            ]
          },
          "metadata": {},
          "execution_count": 36
        }
      ]
    },
    {
      "cell_type": "code",
      "source": [
        "# vacios\n",
        "df.isna().values.any()"
      ],
      "metadata": {
        "colab": {
          "base_uri": "https://localhost:8080/"
        },
        "id": "ZcXLV6XoTPTM",
        "outputId": "9323264d-9f5c-4b3b-abf9-c2ec73d1cb22"
      },
      "execution_count": null,
      "outputs": [
        {
          "output_type": "execute_result",
          "data": {
            "text/plain": [
              "False"
            ]
          },
          "metadata": {},
          "execution_count": 41
        }
      ]
    },
    {
      "cell_type": "markdown",
      "source": [
        "#ENTRADA Y SALIDA DE INFORMACIÓN\n",
        "\n",
        "\n",
        "*   CSV\n",
        "*   EXCEL\n",
        "*   SQL\n",
        "*   ETC\n"
      ],
      "metadata": {
        "id": "Jg68LvbKg4zG"
      }
    },
    {
      "cell_type": "code",
      "source": [
        "df = pd.read_csv('Salaries.csv')"
      ],
      "metadata": {
        "id": "BKc0gHhpUAJz"
      },
      "execution_count": null,
      "outputs": []
    },
    {
      "cell_type": "code",
      "source": [
        "df.head(3)"
      ],
      "metadata": {
        "colab": {
          "base_uri": "https://localhost:8080/",
          "height": 346
        },
        "id": "G_3aOIx2isNU",
        "outputId": "c712715b-2e62-40d8-e956-87161889498a"
      },
      "execution_count": null,
      "outputs": [
        {
          "output_type": "execute_result",
          "data": {
            "text/plain": [
              "   Id    EmployeeName                                        JobTitle  \\\n",
              "0   1  NATHANIEL FORD  GENERAL MANAGER-METROPOLITAN TRANSIT AUTHORITY   \n",
              "1   2    GARY JIMENEZ                 CAPTAIN III (POLICE DEPARTMENT)   \n",
              "2   3  ALBERT PARDINI                 CAPTAIN III (POLICE DEPARTMENT)   \n",
              "\n",
              "     BasePay  OvertimePay   OtherPay  Benefits   TotalPay  TotalPayBenefits  \\\n",
              "0  167411.18         0.00  400184.25       NaN  567595.43         567595.43   \n",
              "1  155966.02    245131.88  137811.38       NaN  538909.28         538909.28   \n",
              "2  212739.13    106088.18   16452.60       NaN  335279.91         335279.91   \n",
              "\n",
              "   Year  Notes         Agency  Status  \n",
              "0  2011    NaN  San Francisco     NaN  \n",
              "1  2011    NaN  San Francisco     NaN  \n",
              "2  2011    NaN  San Francisco     NaN  "
            ],
            "text/html": [
              "\n",
              "\n",
              "  <div id=\"df-0159d7d0-012a-42ad-bc20-19527afbe90e\">\n",
              "    <div class=\"colab-df-container\">\n",
              "      <div>\n",
              "<style scoped>\n",
              "    .dataframe tbody tr th:only-of-type {\n",
              "        vertical-align: middle;\n",
              "    }\n",
              "\n",
              "    .dataframe tbody tr th {\n",
              "        vertical-align: top;\n",
              "    }\n",
              "\n",
              "    .dataframe thead th {\n",
              "        text-align: right;\n",
              "    }\n",
              "</style>\n",
              "<table border=\"1\" class=\"dataframe\">\n",
              "  <thead>\n",
              "    <tr style=\"text-align: right;\">\n",
              "      <th></th>\n",
              "      <th>Id</th>\n",
              "      <th>EmployeeName</th>\n",
              "      <th>JobTitle</th>\n",
              "      <th>BasePay</th>\n",
              "      <th>OvertimePay</th>\n",
              "      <th>OtherPay</th>\n",
              "      <th>Benefits</th>\n",
              "      <th>TotalPay</th>\n",
              "      <th>TotalPayBenefits</th>\n",
              "      <th>Year</th>\n",
              "      <th>Notes</th>\n",
              "      <th>Agency</th>\n",
              "      <th>Status</th>\n",
              "    </tr>\n",
              "  </thead>\n",
              "  <tbody>\n",
              "    <tr>\n",
              "      <th>0</th>\n",
              "      <td>1</td>\n",
              "      <td>NATHANIEL FORD</td>\n",
              "      <td>GENERAL MANAGER-METROPOLITAN TRANSIT AUTHORITY</td>\n",
              "      <td>167411.18</td>\n",
              "      <td>0.00</td>\n",
              "      <td>400184.25</td>\n",
              "      <td>NaN</td>\n",
              "      <td>567595.43</td>\n",
              "      <td>567595.43</td>\n",
              "      <td>2011</td>\n",
              "      <td>NaN</td>\n",
              "      <td>San Francisco</td>\n",
              "      <td>NaN</td>\n",
              "    </tr>\n",
              "    <tr>\n",
              "      <th>1</th>\n",
              "      <td>2</td>\n",
              "      <td>GARY JIMENEZ</td>\n",
              "      <td>CAPTAIN III (POLICE DEPARTMENT)</td>\n",
              "      <td>155966.02</td>\n",
              "      <td>245131.88</td>\n",
              "      <td>137811.38</td>\n",
              "      <td>NaN</td>\n",
              "      <td>538909.28</td>\n",
              "      <td>538909.28</td>\n",
              "      <td>2011</td>\n",
              "      <td>NaN</td>\n",
              "      <td>San Francisco</td>\n",
              "      <td>NaN</td>\n",
              "    </tr>\n",
              "    <tr>\n",
              "      <th>2</th>\n",
              "      <td>3</td>\n",
              "      <td>ALBERT PARDINI</td>\n",
              "      <td>CAPTAIN III (POLICE DEPARTMENT)</td>\n",
              "      <td>212739.13</td>\n",
              "      <td>106088.18</td>\n",
              "      <td>16452.60</td>\n",
              "      <td>NaN</td>\n",
              "      <td>335279.91</td>\n",
              "      <td>335279.91</td>\n",
              "      <td>2011</td>\n",
              "      <td>NaN</td>\n",
              "      <td>San Francisco</td>\n",
              "      <td>NaN</td>\n",
              "    </tr>\n",
              "  </tbody>\n",
              "</table>\n",
              "</div>\n",
              "      <button class=\"colab-df-convert\" onclick=\"convertToInteractive('df-0159d7d0-012a-42ad-bc20-19527afbe90e')\"\n",
              "              title=\"Convert this dataframe to an interactive table.\"\n",
              "              style=\"display:none;\">\n",
              "\n",
              "  <svg xmlns=\"http://www.w3.org/2000/svg\" height=\"24px\"viewBox=\"0 0 24 24\"\n",
              "       width=\"24px\">\n",
              "    <path d=\"M0 0h24v24H0V0z\" fill=\"none\"/>\n",
              "    <path d=\"M18.56 5.44l.94 2.06.94-2.06 2.06-.94-2.06-.94-.94-2.06-.94 2.06-2.06.94zm-11 1L8.5 8.5l.94-2.06 2.06-.94-2.06-.94L8.5 2.5l-.94 2.06-2.06.94zm10 10l.94 2.06.94-2.06 2.06-.94-2.06-.94-.94-2.06-.94 2.06-2.06.94z\"/><path d=\"M17.41 7.96l-1.37-1.37c-.4-.4-.92-.59-1.43-.59-.52 0-1.04.2-1.43.59L10.3 9.45l-7.72 7.72c-.78.78-.78 2.05 0 2.83L4 21.41c.39.39.9.59 1.41.59.51 0 1.02-.2 1.41-.59l7.78-7.78 2.81-2.81c.8-.78.8-2.07 0-2.86zM5.41 20L4 18.59l7.72-7.72 1.47 1.35L5.41 20z\"/>\n",
              "  </svg>\n",
              "      </button>\n",
              "\n",
              "\n",
              "\n",
              "    <div id=\"df-9f3d07d9-252a-416a-8700-4a83fe44c911\">\n",
              "      <button class=\"colab-df-quickchart\" onclick=\"quickchart('df-9f3d07d9-252a-416a-8700-4a83fe44c911')\"\n",
              "              title=\"Suggest charts.\"\n",
              "              style=\"display:none;\">\n",
              "\n",
              "<svg xmlns=\"http://www.w3.org/2000/svg\" height=\"24px\"viewBox=\"0 0 24 24\"\n",
              "     width=\"24px\">\n",
              "    <g>\n",
              "        <path d=\"M19 3H5c-1.1 0-2 .9-2 2v14c0 1.1.9 2 2 2h14c1.1 0 2-.9 2-2V5c0-1.1-.9-2-2-2zM9 17H7v-7h2v7zm4 0h-2V7h2v10zm4 0h-2v-4h2v4z\"/>\n",
              "    </g>\n",
              "</svg>\n",
              "      </button>\n",
              "    </div>\n",
              "\n",
              "<style>\n",
              "  .colab-df-quickchart {\n",
              "    background-color: #E8F0FE;\n",
              "    border: none;\n",
              "    border-radius: 50%;\n",
              "    cursor: pointer;\n",
              "    display: none;\n",
              "    fill: #1967D2;\n",
              "    height: 32px;\n",
              "    padding: 0 0 0 0;\n",
              "    width: 32px;\n",
              "  }\n",
              "\n",
              "  .colab-df-quickchart:hover {\n",
              "    background-color: #E2EBFA;\n",
              "    box-shadow: 0px 1px 2px rgba(60, 64, 67, 0.3), 0px 1px 3px 1px rgba(60, 64, 67, 0.15);\n",
              "    fill: #174EA6;\n",
              "  }\n",
              "\n",
              "  [theme=dark] .colab-df-quickchart {\n",
              "    background-color: #3B4455;\n",
              "    fill: #D2E3FC;\n",
              "  }\n",
              "\n",
              "  [theme=dark] .colab-df-quickchart:hover {\n",
              "    background-color: #434B5C;\n",
              "    box-shadow: 0px 1px 3px 1px rgba(0, 0, 0, 0.15);\n",
              "    filter: drop-shadow(0px 1px 2px rgba(0, 0, 0, 0.3));\n",
              "    fill: #FFFFFF;\n",
              "  }\n",
              "</style>\n",
              "\n",
              "    <script>\n",
              "      async function quickchart(key) {\n",
              "        const containerElement = document.querySelector('#' + key);\n",
              "        const charts = await google.colab.kernel.invokeFunction(\n",
              "            'suggestCharts', [key], {});\n",
              "      }\n",
              "    </script>\n",
              "\n",
              "      <script>\n",
              "\n",
              "function displayQuickchartButton(domScope) {\n",
              "  let quickchartButtonEl =\n",
              "    domScope.querySelector('#df-9f3d07d9-252a-416a-8700-4a83fe44c911 button.colab-df-quickchart');\n",
              "  quickchartButtonEl.style.display =\n",
              "    google.colab.kernel.accessAllowed ? 'block' : 'none';\n",
              "}\n",
              "\n",
              "        displayQuickchartButton(document);\n",
              "      </script>\n",
              "      <style>\n",
              "    .colab-df-container {\n",
              "      display:flex;\n",
              "      flex-wrap:wrap;\n",
              "      gap: 12px;\n",
              "    }\n",
              "\n",
              "    .colab-df-convert {\n",
              "      background-color: #E8F0FE;\n",
              "      border: none;\n",
              "      border-radius: 50%;\n",
              "      cursor: pointer;\n",
              "      display: none;\n",
              "      fill: #1967D2;\n",
              "      height: 32px;\n",
              "      padding: 0 0 0 0;\n",
              "      width: 32px;\n",
              "    }\n",
              "\n",
              "    .colab-df-convert:hover {\n",
              "      background-color: #E2EBFA;\n",
              "      box-shadow: 0px 1px 2px rgba(60, 64, 67, 0.3), 0px 1px 3px 1px rgba(60, 64, 67, 0.15);\n",
              "      fill: #174EA6;\n",
              "    }\n",
              "\n",
              "    [theme=dark] .colab-df-convert {\n",
              "      background-color: #3B4455;\n",
              "      fill: #D2E3FC;\n",
              "    }\n",
              "\n",
              "    [theme=dark] .colab-df-convert:hover {\n",
              "      background-color: #434B5C;\n",
              "      box-shadow: 0px 1px 3px 1px rgba(0, 0, 0, 0.15);\n",
              "      filter: drop-shadow(0px 1px 2px rgba(0, 0, 0, 0.3));\n",
              "      fill: #FFFFFF;\n",
              "    }\n",
              "  </style>\n",
              "\n",
              "      <script>\n",
              "        const buttonEl =\n",
              "          document.querySelector('#df-0159d7d0-012a-42ad-bc20-19527afbe90e button.colab-df-convert');\n",
              "        buttonEl.style.display =\n",
              "          google.colab.kernel.accessAllowed ? 'block' : 'none';\n",
              "\n",
              "        async function convertToInteractive(key) {\n",
              "          const element = document.querySelector('#df-0159d7d0-012a-42ad-bc20-19527afbe90e');\n",
              "          const dataTable =\n",
              "            await google.colab.kernel.invokeFunction('convertToInteractive',\n",
              "                                                     [key], {});\n",
              "          if (!dataTable) return;\n",
              "\n",
              "          const docLinkHtml = 'Like what you see? Visit the ' +\n",
              "            '<a target=\"_blank\" href=https://colab.research.google.com/notebooks/data_table.ipynb>data table notebook</a>'\n",
              "            + ' to learn more about interactive tables.';\n",
              "          element.innerHTML = '';\n",
              "          dataTable['output_type'] = 'display_data';\n",
              "          await google.colab.output.renderOutput(dataTable, element);\n",
              "          const docLink = document.createElement('div');\n",
              "          docLink.innerHTML = docLinkHtml;\n",
              "          element.appendChild(docLink);\n",
              "        }\n",
              "      </script>\n",
              "    </div>\n",
              "  </div>\n"
            ]
          },
          "metadata": {},
          "execution_count": 9
        }
      ]
    },
    {
      "cell_type": "code",
      "source": [
        "other_df = (df.loc[:3, [\"JobTitle\", \"BasePay\"]])"
      ],
      "metadata": {
        "id": "WCCi5AYUidJt"
      },
      "execution_count": null,
      "outputs": []
    },
    {
      "cell_type": "code",
      "source": [
        "other_df.to_csv(\"salida\", index=False)"
      ],
      "metadata": {
        "id": "P0KPBfPHj0y2"
      },
      "execution_count": null,
      "outputs": []
    },
    {
      "cell_type": "code",
      "source": [
        "# IMPORTAR DATOS DE EXCEL\n",
        "# Hay que especificar la hoja -  cada hoja es un DF"
      ],
      "metadata": {
        "id": "aCFlzsftkKoe"
      },
      "execution_count": null,
      "outputs": []
    },
    {
      "cell_type": "code",
      "source": [
        "pd.read_excel(\"excel.xlsx\", sheet_name=\"nombre_hoja\")"
      ],
      "metadata": {
        "id": "4Cicpgo_kOSO"
      },
      "execution_count": null,
      "outputs": []
    }
  ]
}